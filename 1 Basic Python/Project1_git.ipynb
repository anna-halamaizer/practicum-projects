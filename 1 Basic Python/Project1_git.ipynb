{
 "cells": [
  {
   "cell_type": "markdown",
   "metadata": {
    "id": "E0vqbgi9ay0H"
   },
   "source": [
    "# Yandex.Music"
   ]
  },
  {
   "cell_type": "markdown",
   "metadata": {
    "id": "fhq_eyov_Zcs"
   },
   "source": [
    "# Contents <a id='back'></a>\n",
    "\n",
    "* [Introduction](#intro)\n",
    "* [Stage 1. Data overview](#data_review)\n",
    "    * [Conclusions](#data_review_conclusions)\n",
    "* [Stage 2. Data preprocessing](#data_preprocessing)\n",
    "    * [2.1 Header style](#header_style)\n",
    "    * [2.2 Missing values](#missing_values)\n",
    "    * [2.3 Duplicates](#duplicates)\n",
    "    * [2.4 Conclusions](#data_preprocessing_conclusions)\n",
    "* [Stage 3. Testing the hypotheses](#hypotheses)\n",
    "    * [3.1 Hypothesis 1: user activity in the two cities](#activity)\n",
    "    * [3.2 Hypothesis 2: music preferences on Monday and Friday](#week)\n",
    "    * [3.3 Hypothesis 3: genre preferences in Springfield and Shelbyville](#genre)\n",
    "* [Findings](#end)"
   ]
  },
  {
   "cell_type": "markdown",
   "metadata": {
    "id": "VUC88oWjTJw2"
   },
   "source": [
    "## Introduction <a id='intro'></a>\n",
    "Whenever we're doing research, we need to formulate hypotheses that we can then test. Sometimes we accept these hypotheses; other times, we reject them. To make the right decisions, a business must be able to understand whether or not it's making the right assumptions.\n",
    "\n",
    "In this project, you'll compare the music preferences of the cities of Springfield and Shelbyville. You'll study real Yandex.Music data to test the hypotheses below and compare user behavior for these two cities.\n",
    "\n",
    "### Goal: \n",
    "Test three hypotheses:\n",
    "1. User activity differs depending on the day of the week and from city to city. \n",
    "2. On Monday mornings, Springfield and Shelbyville residents listen to different genres. This is also true for Friday evenings. \n",
    "3. Springfield and Shelbyville listeners have different preferences. In Springfield, they prefer pop, while Shelbyville has more rap fans.\n",
    "\n",
    "### Stages \n",
    "Data on user behavior is stored in the file `/datasets/music_project_en.csv`. There is no information about the quality of the data, so you will need to explore it before testing the hypotheses. \n",
    "\n",
    "First, you'll evaluate the quality of the data and see whether its issues are significant. Then, during data preprocessing, you will try to account for the most critical problems.\n",
    " \n",
    "Your project will consist of three stages:\n",
    " 1. Data overview\n",
    " 2. Data preprocessing\n",
    " 3. Testing the hypotheses\n",
    " \n",
    "[Back to Contents](#back)"
   ]
  },
  {
   "cell_type": "markdown",
   "metadata": {
    "id": "Ml1hmfXC_Zcs"
   },
   "source": [
    "## Stage 1. Data overview <a id='data_review'></a>\n",
    "\n",
    "Open the data on Yandex.Music and explore it."
   ]
  },
  {
   "cell_type": "markdown",
   "metadata": {
    "id": "57eAOGIz_Zcs"
   },
   "source": [
    "You'll need `pandas`, so import it."
   ]
  },
  {
   "cell_type": "code",
   "execution_count": 1,
   "metadata": {
    "id": "AXN7PHPN_Zcs"
   },
   "outputs": [],
   "source": [
    "import pandas as pd"
   ]
  },
  {
   "cell_type": "code",
   "execution_count": 2,
   "metadata": {},
   "outputs": [],
   "source": [
    "try:\n",
    "    df = pd.read_csv('/datasets/music_project_en.csv')\n",
    "except:\n",
    "    df = pd.read_csv('C:/users/agord/Documents/Practicum/1_Projects/Project 1 Basic Python/music_project_en.csv')"
   ]
  },
  {
   "cell_type": "markdown",
   "metadata": {
    "id": "SG23P8tt_Zcs"
   },
   "source": [
    "Read the file `music_project_en.csv` from the `/datasets/` folder and save it in the `df` variable:"
   ]
  },
  {
   "cell_type": "code",
   "execution_count": 3,
   "metadata": {
    "id": "fFVu7vqh_Zct"
   },
   "outputs": [
    {
     "data": {
      "text/html": [
       "<div>\n",
       "<style scoped>\n",
       "    .dataframe tbody tr th:only-of-type {\n",
       "        vertical-align: middle;\n",
       "    }\n",
       "\n",
       "    .dataframe tbody tr th {\n",
       "        vertical-align: top;\n",
       "    }\n",
       "\n",
       "    .dataframe thead th {\n",
       "        text-align: right;\n",
       "    }\n",
       "</style>\n",
       "<table border=\"1\" class=\"dataframe\">\n",
       "  <thead>\n",
       "    <tr style=\"text-align: right;\">\n",
       "      <th></th>\n",
       "      <th>userID</th>\n",
       "      <th>Track</th>\n",
       "      <th>artist</th>\n",
       "      <th>genre</th>\n",
       "      <th>City</th>\n",
       "      <th>time</th>\n",
       "      <th>Day</th>\n",
       "    </tr>\n",
       "  </thead>\n",
       "  <tbody>\n",
       "    <tr>\n",
       "      <th>count</th>\n",
       "      <td>65079</td>\n",
       "      <td>63736</td>\n",
       "      <td>57512</td>\n",
       "      <td>63881</td>\n",
       "      <td>65079</td>\n",
       "      <td>65079</td>\n",
       "      <td>65079</td>\n",
       "    </tr>\n",
       "    <tr>\n",
       "      <th>unique</th>\n",
       "      <td>41748</td>\n",
       "      <td>39666</td>\n",
       "      <td>37806</td>\n",
       "      <td>268</td>\n",
       "      <td>2</td>\n",
       "      <td>20392</td>\n",
       "      <td>3</td>\n",
       "    </tr>\n",
       "    <tr>\n",
       "      <th>top</th>\n",
       "      <td>A8AE9169</td>\n",
       "      <td>Brand</td>\n",
       "      <td>Kartvelli</td>\n",
       "      <td>pop</td>\n",
       "      <td>Springfield</td>\n",
       "      <td>08:14:07</td>\n",
       "      <td>Friday</td>\n",
       "    </tr>\n",
       "    <tr>\n",
       "      <th>freq</th>\n",
       "      <td>76</td>\n",
       "      <td>136</td>\n",
       "      <td>136</td>\n",
       "      <td>8850</td>\n",
       "      <td>45360</td>\n",
       "      <td>14</td>\n",
       "      <td>23149</td>\n",
       "    </tr>\n",
       "  </tbody>\n",
       "</table>\n",
       "</div>"
      ],
      "text/plain": [
       "          userID  Track     artist  genre       City        time     Day\n",
       "count      65079  63736      57512  63881        65079     65079   65079\n",
       "unique     41748  39666      37806    268            2     20392       3\n",
       "top     A8AE9169  Brand  Kartvelli    pop  Springfield  08:14:07  Friday\n",
       "freq          76    136        136   8850        45360        14   23149"
      ]
     },
     "execution_count": 3,
     "metadata": {},
     "output_type": "execute_result"
    }
   ],
   "source": [
    "# reading the file and storing it to df\n",
    "df.describe()"
   ]
  },
  {
   "cell_type": "markdown",
   "metadata": {
    "id": "rDoOMd3uTqnZ"
   },
   "source": [
    "Print the first 10 table rows:"
   ]
  },
  {
   "cell_type": "code",
   "execution_count": 4,
   "metadata": {
    "id": "oWTVX3gW_Zct"
   },
   "outputs": [
    {
     "data": {
      "text/html": [
       "<div>\n",
       "<style scoped>\n",
       "    .dataframe tbody tr th:only-of-type {\n",
       "        vertical-align: middle;\n",
       "    }\n",
       "\n",
       "    .dataframe tbody tr th {\n",
       "        vertical-align: top;\n",
       "    }\n",
       "\n",
       "    .dataframe thead th {\n",
       "        text-align: right;\n",
       "    }\n",
       "</style>\n",
       "<table border=\"1\" class=\"dataframe\">\n",
       "  <thead>\n",
       "    <tr style=\"text-align: right;\">\n",
       "      <th></th>\n",
       "      <th>userID</th>\n",
       "      <th>Track</th>\n",
       "      <th>artist</th>\n",
       "      <th>genre</th>\n",
       "      <th>City</th>\n",
       "      <th>time</th>\n",
       "      <th>Day</th>\n",
       "    </tr>\n",
       "  </thead>\n",
       "  <tbody>\n",
       "    <tr>\n",
       "      <th>0</th>\n",
       "      <td>FFB692EC</td>\n",
       "      <td>Kamigata To Boots</td>\n",
       "      <td>The Mass Missile</td>\n",
       "      <td>rock</td>\n",
       "      <td>Shelbyville</td>\n",
       "      <td>20:28:33</td>\n",
       "      <td>Wednesday</td>\n",
       "    </tr>\n",
       "    <tr>\n",
       "      <th>1</th>\n",
       "      <td>55204538</td>\n",
       "      <td>Delayed Because of Accident</td>\n",
       "      <td>Andreas Rönnberg</td>\n",
       "      <td>rock</td>\n",
       "      <td>Springfield</td>\n",
       "      <td>14:07:09</td>\n",
       "      <td>Friday</td>\n",
       "    </tr>\n",
       "    <tr>\n",
       "      <th>2</th>\n",
       "      <td>20EC38</td>\n",
       "      <td>Funiculì funiculà</td>\n",
       "      <td>Mario Lanza</td>\n",
       "      <td>pop</td>\n",
       "      <td>Shelbyville</td>\n",
       "      <td>20:58:07</td>\n",
       "      <td>Wednesday</td>\n",
       "    </tr>\n",
       "    <tr>\n",
       "      <th>3</th>\n",
       "      <td>A3DD03C9</td>\n",
       "      <td>Dragons in the Sunset</td>\n",
       "      <td>Fire + Ice</td>\n",
       "      <td>folk</td>\n",
       "      <td>Shelbyville</td>\n",
       "      <td>08:37:09</td>\n",
       "      <td>Monday</td>\n",
       "    </tr>\n",
       "    <tr>\n",
       "      <th>4</th>\n",
       "      <td>E2DC1FAE</td>\n",
       "      <td>Soul People</td>\n",
       "      <td>Space Echo</td>\n",
       "      <td>dance</td>\n",
       "      <td>Springfield</td>\n",
       "      <td>08:34:34</td>\n",
       "      <td>Monday</td>\n",
       "    </tr>\n",
       "    <tr>\n",
       "      <th>5</th>\n",
       "      <td>842029A1</td>\n",
       "      <td>Chains</td>\n",
       "      <td>Obladaet</td>\n",
       "      <td>rusrap</td>\n",
       "      <td>Shelbyville</td>\n",
       "      <td>13:09:41</td>\n",
       "      <td>Friday</td>\n",
       "    </tr>\n",
       "    <tr>\n",
       "      <th>6</th>\n",
       "      <td>4CB90AA5</td>\n",
       "      <td>True</td>\n",
       "      <td>Roman Messer</td>\n",
       "      <td>dance</td>\n",
       "      <td>Springfield</td>\n",
       "      <td>13:00:07</td>\n",
       "      <td>Wednesday</td>\n",
       "    </tr>\n",
       "    <tr>\n",
       "      <th>7</th>\n",
       "      <td>F03E1C1F</td>\n",
       "      <td>Feeling This Way</td>\n",
       "      <td>Polina Griffith</td>\n",
       "      <td>dance</td>\n",
       "      <td>Springfield</td>\n",
       "      <td>20:47:49</td>\n",
       "      <td>Wednesday</td>\n",
       "    </tr>\n",
       "    <tr>\n",
       "      <th>8</th>\n",
       "      <td>8FA1D3BE</td>\n",
       "      <td>L’estate</td>\n",
       "      <td>Julia Dalia</td>\n",
       "      <td>ruspop</td>\n",
       "      <td>Springfield</td>\n",
       "      <td>09:17:40</td>\n",
       "      <td>Friday</td>\n",
       "    </tr>\n",
       "    <tr>\n",
       "      <th>9</th>\n",
       "      <td>E772D5C0</td>\n",
       "      <td>Pessimist</td>\n",
       "      <td>NaN</td>\n",
       "      <td>dance</td>\n",
       "      <td>Shelbyville</td>\n",
       "      <td>21:20:49</td>\n",
       "      <td>Wednesday</td>\n",
       "    </tr>\n",
       "  </tbody>\n",
       "</table>\n",
       "</div>"
      ],
      "text/plain": [
       "     userID                        Track            artist   genre  \\\n",
       "0  FFB692EC            Kamigata To Boots  The Mass Missile    rock   \n",
       "1  55204538  Delayed Because of Accident  Andreas Rönnberg    rock   \n",
       "2    20EC38            Funiculì funiculà       Mario Lanza     pop   \n",
       "3  A3DD03C9        Dragons in the Sunset        Fire + Ice    folk   \n",
       "4  E2DC1FAE                  Soul People        Space Echo   dance   \n",
       "5  842029A1                       Chains          Obladaet  rusrap   \n",
       "6  4CB90AA5                         True      Roman Messer   dance   \n",
       "7  F03E1C1F             Feeling This Way   Polina Griffith   dance   \n",
       "8  8FA1D3BE                     L’estate       Julia Dalia  ruspop   \n",
       "9  E772D5C0                    Pessimist               NaN   dance   \n",
       "\n",
       "        City        time        Day  \n",
       "0  Shelbyville  20:28:33  Wednesday  \n",
       "1  Springfield  14:07:09     Friday  \n",
       "2  Shelbyville  20:58:07  Wednesday  \n",
       "3  Shelbyville  08:37:09     Monday  \n",
       "4  Springfield  08:34:34     Monday  \n",
       "5  Shelbyville  13:09:41     Friday  \n",
       "6  Springfield  13:00:07  Wednesday  \n",
       "7  Springfield  20:47:49  Wednesday  \n",
       "8  Springfield  09:17:40     Friday  \n",
       "9  Shelbyville  21:20:49  Wednesday  "
      ]
     },
     "execution_count": 4,
     "metadata": {},
     "output_type": "execute_result"
    }
   ],
   "source": [
    "(df.head(10))"
   ]
  },
  {
   "cell_type": "markdown",
   "metadata": {
    "id": "EO73Kwic_Zct"
   },
   "source": [
    "Obtaining the general information about the table with one command:"
   ]
  },
  {
   "cell_type": "code",
   "execution_count": 5,
   "metadata": {
    "id": "DSf2kIb-_Zct",
    "scrolled": true
   },
   "outputs": [
    {
     "name": "stdout",
     "output_type": "stream",
     "text": [
      "<class 'pandas.core.frame.DataFrame'>\n",
      "RangeIndex: 65079 entries, 0 to 65078\n",
      "Data columns (total 7 columns):\n",
      " #   Column    Non-Null Count  Dtype \n",
      "---  ------    --------------  ----- \n",
      " 0     userID  65079 non-null  object\n",
      " 1   Track     63736 non-null  object\n",
      " 2   artist    57512 non-null  object\n",
      " 3   genre     63881 non-null  object\n",
      " 4     City    65079 non-null  object\n",
      " 5   time      65079 non-null  object\n",
      " 6   Day       65079 non-null  object\n",
      "dtypes: object(7)\n",
      "memory usage: 3.5+ MB\n",
      "None\n"
     ]
    }
   ],
   "source": [
    "print(df.info())"
   ]
  },
  {
   "cell_type": "markdown",
   "metadata": {
    "id": "TaQ2Iwbr_Zct"
   },
   "source": [
    "The table contains seven columns. They all store the same data type: `object`.\n",
    "\n",
    "According to the documentation:\n",
    "- `'userID'` — user identifier\n",
    "- `'Track'` — track title\n",
    "- `'artist'` — artist's name\n",
    "- `'genre'`\n",
    "- `'City'` — user's city\n",
    "- `'time'` — the exact time the track was played\n",
    "- `'Day'` — day of the week\n",
    "\n",
    "We can see three issues with style in the column names:\n",
    "1. Some names are uppercase, some are lowercase.\n",
    "2. There are spaces in some names.\n",
    "3. One name has two words that are written together.\n",
    "\n",
    "The number of column values is different. This means the data contains missing values.\n"
   ]
  },
  {
   "cell_type": "markdown",
   "metadata": {
    "id": "MCB6-dXG_Zct"
   },
   "source": [
    "### Conclusions <a id='data_review_conclusions'></a> \n",
    "\n",
    "Each row in the table stores data on a track that was played. Some columns describe the track itself: its title, artist and genre. The rest convey information about the user: the city they come from, the time they played the track. \n",
    "\n",
    "It's clear that the data is sufficient to test the hypotheses. However, there are missing values.\n",
    "\n",
    "To move forward, we need to preprocess the data."
   ]
  },
  {
   "cell_type": "markdown",
   "metadata": {
    "id": "3eL__vcwViOi"
   },
   "source": [
    "[Back to Contents](#back)"
   ]
  },
  {
   "cell_type": "markdown",
   "metadata": {
    "id": "SjYF6Ub9_Zct"
   },
   "source": [
    "## Stage 2. Data preprocessing <a id='data_preprocessing'></a>\n",
    "Correct the formatting in the column headers and deal with the missing values. Then, check whether there are duplicates in the data."
   ]
  },
  {
   "cell_type": "markdown",
   "metadata": {
    "id": "dIaKXr29_Zct"
   },
   "source": [
    "### Header style <a id='header_style'></a>\n",
    "Print the column header:"
   ]
  },
  {
   "cell_type": "code",
   "execution_count": 6,
   "metadata": {
    "id": "oKOTdF_Q_Zct"
   },
   "outputs": [
    {
     "data": {
      "text/plain": [
       "Index(['  userID', 'Track', 'artist', 'genre', '  City  ', 'time', 'Day'], dtype='object')"
      ]
     },
     "execution_count": 6,
     "metadata": {},
     "output_type": "execute_result"
    }
   ],
   "source": [
    "(df.columns)"
   ]
  },
  {
   "cell_type": "markdown",
   "metadata": {
    "id": "zj5534cv_Zct"
   },
   "source": [
    "Change column names according to the rules of good style:\n",
    "* If the name has several words, use snake_case\n",
    "* All characters must be lowercase\n",
    "* Delete spaces"
   ]
  },
  {
   "cell_type": "code",
   "execution_count": 7,
   "metadata": {
    "id": "ISlFqs5y_Zct"
   },
   "outputs": [],
   "source": [
    "df = df.rename(\n",
    "    columns={\n",
    "        '  userID': 'user_id',\n",
    "        'Track': 'track',\n",
    "        '  City  ': 'city',\n",
    "        'Day': 'day'\n",
    "    }\n",
    ") "
   ]
  },
  {
   "cell_type": "markdown",
   "metadata": {
    "id": "1dqbh00J_Zct"
   },
   "source": [
    "Check the result. Print the names of the columns once more:"
   ]
  },
  {
   "cell_type": "code",
   "execution_count": 8,
   "metadata": {
    "id": "d4NOAmTW_Zct"
   },
   "outputs": [
    {
     "data": {
      "text/plain": [
       "Index(['user_id', 'track', 'artist', 'genre', 'city', 'time', 'day'], dtype='object')"
      ]
     },
     "execution_count": 8,
     "metadata": {},
     "output_type": "execute_result"
    }
   ],
   "source": [
    "(df.columns)"
   ]
  },
  {
   "cell_type": "markdown",
   "metadata": {
    "id": "xYJk6ksJVpOl"
   },
   "source": [
    "[Back to Contents](#back)"
   ]
  },
  {
   "cell_type": "markdown",
   "metadata": {
    "id": "5ISfbcfY_Zct"
   },
   "source": [
    "### Missing values <a id='missing_values'></a>\n",
    "First, find the number of missing values in the table. To do so, use two `pandas` methods:"
   ]
  },
  {
   "cell_type": "code",
   "execution_count": 9,
   "metadata": {
    "id": "RskX29qr_Zct"
   },
   "outputs": [
    {
     "name": "stdout",
     "output_type": "stream",
     "text": [
      "user_id       0\n",
      "track      1343\n",
      "artist     7567\n",
      "genre      1198\n",
      "city          0\n",
      "time          0\n",
      "day           0\n",
      "dtype: int64\n"
     ]
    }
   ],
   "source": [
    "print(df.isna().sum())"
   ]
  },
  {
   "cell_type": "markdown",
   "metadata": {
    "id": "qubhgnlO_Zct"
   },
   "source": [
    "Not all missing values affect the research. For instance, the missing values in `track` and `artist` are not critical. You can simply replace them with clear markers.\n",
    "\n",
    "But missing values in `'genre'` can affect the comparison of music preferences in Springfield and Shelbyville. In real life, it would be useful to learn the reasons why the data is missing and try to make up for them. But we do not have that opportunity in this project. So you will have to:\n",
    "* Fill in these missing values with markers\n",
    "* Evaluate how much the missing values may affect your computations"
   ]
  },
  {
   "cell_type": "markdown",
   "metadata": {
    "id": "fSv2laPA_Zct"
   },
   "source": [
    "Replace the missing values in `'track'`, `'artist'`, and `'genre'` with the string `'unknown'`. To do this, create the `columns_to_replace` list, loop over it with `for`, and replace the missing values in each of the columns:"
   ]
  },
  {
   "cell_type": "code",
   "execution_count": 10,
   "metadata": {
    "id": "KplB5qWs_Zct"
   },
   "outputs": [],
   "source": [
    "columns_to_replace = ['track', 'artist', 'genre']\n",
    "\n",
    "for column in columns_to_replace:\n",
    "    df[column] = df[column].fillna('unknown')   "
   ]
  },
  {
   "cell_type": "markdown",
   "metadata": {
    "id": "Ilsm-MZo_Zct"
   },
   "source": [
    "Make sure the table contains no more missing values. Count the missing values again."
   ]
  },
  {
   "cell_type": "code",
   "execution_count": 11,
   "metadata": {
    "id": "Tq4nYRX4_Zct"
   },
   "outputs": [
    {
     "name": "stdout",
     "output_type": "stream",
     "text": [
      "user_id    0\n",
      "track      0\n",
      "artist     0\n",
      "genre      0\n",
      "city       0\n",
      "time       0\n",
      "day        0\n",
      "dtype: int64\n"
     ]
    }
   ],
   "source": [
    "print(df.isna().sum())"
   ]
  },
  {
   "cell_type": "markdown",
   "metadata": {
    "id": "74ZIBmq9VrsK"
   },
   "source": [
    "[Back to Contents](#back)"
   ]
  },
  {
   "cell_type": "markdown",
   "metadata": {
    "id": "BWKRtBJ3_Zct"
   },
   "source": [
    "### Duplicates <a id='duplicates'></a>\n",
    "Find the number of obvious duplicates in the table using one command:"
   ]
  },
  {
   "cell_type": "code",
   "execution_count": 12,
   "metadata": {
    "id": "36eES_S0_Zct"
   },
   "outputs": [
    {
     "name": "stdout",
     "output_type": "stream",
     "text": [
      "3826\n"
     ]
    }
   ],
   "source": [
    "print(df.duplicated().sum())"
   ]
  },
  {
   "cell_type": "markdown",
   "metadata": {
    "id": "Ot25h6XR_Zct"
   },
   "source": [
    "Call the `pandas` method for getting rid of obvious duplicates:"
   ]
  },
  {
   "cell_type": "code",
   "execution_count": 13,
   "metadata": {
    "id": "exFHq6tt_Zct"
   },
   "outputs": [],
   "source": [
    "df = df.drop_duplicates().reset_index(drop=True)"
   ]
  },
  {
   "cell_type": "markdown",
   "metadata": {
    "id": "Im2YwBEG_Zct"
   },
   "source": [
    "Count obvious duplicates once more to make sure you have removed all of them:"
   ]
  },
  {
   "cell_type": "code",
   "execution_count": 14,
   "metadata": {
    "id": "-8PuNWQ0_Zct"
   },
   "outputs": [
    {
     "name": "stdout",
     "output_type": "stream",
     "text": [
      "0\n"
     ]
    }
   ],
   "source": [
    "print(df.duplicated().sum())"
   ]
  },
  {
   "cell_type": "markdown",
   "metadata": {
    "id": "QlFBsxAr_Zct"
   },
   "source": [
    "Now get rid of implicit duplicates in the `genre` column. For example, the name of a genre can be written in different ways. Such errors will also affect the result."
   ]
  },
  {
   "cell_type": "markdown",
   "metadata": {
    "id": "eSjWwsOh_Zct"
   },
   "source": [
    "Print a list of unique genre names, sorted in alphabetical order. To do so:\n",
    "* Retrieve the intended DataFrame column \n",
    "* Apply a sorting method to it\n",
    "* For the sorted column, call the method that will return all unique column values"
   ]
  },
  {
   "cell_type": "code",
   "execution_count": 15,
   "metadata": {
    "id": "JIUcqzZN_Zct"
   },
   "outputs": [
    {
     "name": "stdout",
     "output_type": "stream",
     "text": [
      "['acid' 'acoustic' 'action' 'adult' 'africa' 'afrikaans' 'alternative'\n",
      " 'ambient' 'americana' 'animated' 'anime' 'arabesk' 'arabic' 'arena'\n",
      " 'argentinetango' 'art' 'audiobook' 'avantgarde' 'axé' 'baile' 'balkan'\n",
      " 'beats' 'bigroom' 'black' 'bluegrass' 'blues' 'bollywood' 'bossa'\n",
      " 'brazilian' 'breakbeat' 'breaks' 'broadway' 'cantautori' 'cantopop'\n",
      " 'canzone' 'caribbean' 'caucasian' 'celtic' 'chamber' 'children' 'chill'\n",
      " 'chinese' 'choral' 'christian' 'christmas' 'classical' 'classicmetal'\n",
      " 'club' 'colombian' 'comedy' 'conjazz' 'contemporary' 'country' 'cuban'\n",
      " 'dance' 'dancehall' 'dancepop' 'dark' 'death' 'deep' 'deutschrock'\n",
      " 'deutschspr' 'dirty' 'disco' 'dnb' 'documentary' 'downbeat' 'downtempo'\n",
      " 'drum' 'dub' 'dubstep' 'eastern' 'easy' 'electronic' 'electropop' 'emo'\n",
      " 'entehno' 'epicmetal' 'estrada' 'ethnic' 'eurofolk' 'european'\n",
      " 'experimental' 'extrememetal' 'fado' 'film' 'fitness' 'flamenco' 'folk'\n",
      " 'folklore' 'folkmetal' 'folkrock' 'folktronica' 'forró' 'frankreich'\n",
      " 'französisch' 'french' 'funk' 'future' 'gangsta' 'garage' 'german'\n",
      " 'ghazal' 'gitarre' 'glitch' 'gospel' 'gothic' 'grime' 'grunge' 'gypsy'\n",
      " 'handsup' \"hard'n'heavy\" 'hardcore' 'hardstyle' 'hardtechno' 'hip'\n",
      " 'hip-hop' 'hiphop' 'historisch' 'holiday' 'hop' 'horror' 'house' 'idm'\n",
      " 'independent' 'indian' 'indie' 'indipop' 'industrial' 'inspirational'\n",
      " 'instrumental' 'international' 'irish' 'jam' 'japanese' 'jazz' 'jewish'\n",
      " 'jpop' 'jungle' 'k-pop' 'karadeniz' 'karaoke' 'kayokyoku' 'korean'\n",
      " 'laiko' 'latin' 'latino' 'leftfield' 'local' 'lounge' 'loungeelectronic'\n",
      " 'lovers' 'malaysian' 'mandopop' 'marschmusik' 'meditative'\n",
      " 'mediterranean' 'melodic' 'metal' 'metalcore' 'mexican' 'middle'\n",
      " 'minimal' 'miscellaneous' 'modern' 'mood' 'mpb' 'muslim' 'native'\n",
      " 'neoklassik' 'neue' 'new' 'newage' 'newwave' 'nu' 'nujazz' 'numetal'\n",
      " 'oceania' 'old' 'opera' 'orchestral' 'other' 'piano' 'pop'\n",
      " 'popelectronic' 'popeurodance' 'post' 'posthardcore' 'postrock' 'power'\n",
      " 'progmetal' 'progressive' 'psychedelic' 'punjabi' 'punk' 'quebecois'\n",
      " 'ragga' 'ram' 'rancheras' 'rap' 'rave' 'reggae' 'reggaeton' 'regional'\n",
      " 'relax' 'religious' 'retro' 'rhythm' 'rnb' 'rnr' 'rock' 'rockabilly'\n",
      " 'romance' 'roots' 'ruspop' 'rusrap' 'rusrock' 'salsa' 'samba' 'schlager'\n",
      " 'self' 'sertanejo' 'shoegazing' 'showtunes' 'singer' 'ska' 'slow'\n",
      " 'smooth' 'soul' 'soulful' 'sound' 'soundtrack' 'southern' 'specialty'\n",
      " 'speech' 'spiritual' 'sport' 'stonerrock' 'surf' 'swing' 'synthpop'\n",
      " 'sängerportrait' 'tango' 'tanzorchester' 'taraftar' 'tech' 'techno'\n",
      " 'thrash' 'top' 'traditional' 'tradjazz' 'trance' 'tribal' 'trip'\n",
      " 'triphop' 'tropical' 'türk' 'türkçe' 'unknown' 'urban' 'uzbek' 'variété'\n",
      " 'vi' 'videogame' 'vocal' 'western' 'world' 'worldbeat' 'ïîï']\n"
     ]
    }
   ],
   "source": [
    "genre_column = df.loc[:'genre']\n",
    "genre_column = genre_column.sort_values(by='genre')\n",
    "print(genre_column['genre'].unique())"
   ]
  },
  {
   "cell_type": "markdown",
   "metadata": {
    "id": "qej-Qmuo_Zct"
   },
   "source": [
    "Look through the list to find implicit duplicates of the genre `hiphop`. These could be names written incorrectly or alternative names of the same genre.\n",
    "\n",
    "You will see the following implicit duplicates:\n",
    "* `hip`\n",
    "* `hop`\n",
    "* `hip-hop`\n",
    "\n",
    "To get rid of them, declare the function `replace_wrong_genres()` with two parameters: \n",
    "* `wrong_genres=` — the list of duplicates\n",
    "* `correct_genre=` — the string with the correct value\n",
    "\n",
    "The function should correct the names in the `'genre'` column from the `df` table, i.e. replace each value from the `wrong_genres` list with the value in `correct_genre`."
   ]
  },
  {
   "cell_type": "code",
   "execution_count": 16,
   "metadata": {
    "id": "ErNDkmns_Zct"
   },
   "outputs": [],
   "source": [
    "def replace_wrong_genres(wrong_genres, correct_genre): \n",
    "    for wrong_genre in wrong_genres: \n",
    "        df['genre'] = df['genre'].replace(wrong_genre, correct_genre) \n",
    "\n",
    "wrong_genres = ['hip', 'hop', 'hip-hop'] \n",
    "correct_genre = 'hiphop'"
   ]
  },
  {
   "cell_type": "markdown",
   "metadata": {
    "id": "aDoBJxbA_Zct"
   },
   "source": [
    "Call `replace_wrong_genres()` and pass it arguments so that it clears implicit duplcates (`hip`, `hop`, and `hip-hop`) and replaces them with `hiphop`:"
   ]
  },
  {
   "cell_type": "code",
   "execution_count": 17,
   "metadata": {
    "id": "YN5i2hpmSo09"
   },
   "outputs": [],
   "source": [
    "replace_wrong_genres(wrong_genres, correct_genre)"
   ]
  },
  {
   "cell_type": "markdown",
   "metadata": {
    "id": "zQKF16_RG15m"
   },
   "source": [
    "Make sure the duplicate names were removed. Print the list of unique values from the `'genre'` column:"
   ]
  },
  {
   "cell_type": "code",
   "execution_count": 18,
   "metadata": {
    "id": "wvixALnFG15m"
   },
   "outputs": [
    {
     "name": "stdout",
     "output_type": "stream",
     "text": [
      "['acid' 'acoustic' 'action' 'adult' 'africa' 'afrikaans' 'alternative'\n",
      " 'ambient' 'americana' 'animated' 'anime' 'arabesk' 'arabic' 'arena'\n",
      " 'argentinetango' 'art' 'audiobook' 'avantgarde' 'axé' 'baile' 'balkan'\n",
      " 'beats' 'bigroom' 'black' 'bluegrass' 'blues' 'bollywood' 'bossa'\n",
      " 'brazilian' 'breakbeat' 'breaks' 'broadway' 'cantautori' 'cantopop'\n",
      " 'canzone' 'caribbean' 'caucasian' 'celtic' 'chamber' 'children' 'chill'\n",
      " 'chinese' 'choral' 'christian' 'christmas' 'classical' 'classicmetal'\n",
      " 'club' 'colombian' 'comedy' 'conjazz' 'contemporary' 'country' 'cuban'\n",
      " 'dance' 'dancehall' 'dancepop' 'dark' 'death' 'deep' 'deutschrock'\n",
      " 'deutschspr' 'dirty' 'disco' 'dnb' 'documentary' 'downbeat' 'downtempo'\n",
      " 'drum' 'dub' 'dubstep' 'eastern' 'easy' 'electronic' 'electropop' 'emo'\n",
      " 'entehno' 'epicmetal' 'estrada' 'ethnic' 'eurofolk' 'european'\n",
      " 'experimental' 'extrememetal' 'fado' 'film' 'fitness' 'flamenco' 'folk'\n",
      " 'folklore' 'folkmetal' 'folkrock' 'folktronica' 'forró' 'frankreich'\n",
      " 'französisch' 'french' 'funk' 'future' 'gangsta' 'garage' 'german'\n",
      " 'ghazal' 'gitarre' 'glitch' 'gospel' 'gothic' 'grime' 'grunge' 'gypsy'\n",
      " 'handsup' \"hard'n'heavy\" 'hardcore' 'hardstyle' 'hardtechno' 'hiphop'\n",
      " 'historisch' 'holiday' 'horror' 'house' 'idm' 'independent' 'indian'\n",
      " 'indie' 'indipop' 'industrial' 'inspirational' 'instrumental'\n",
      " 'international' 'irish' 'jam' 'japanese' 'jazz' 'jewish' 'jpop' 'jungle'\n",
      " 'k-pop' 'karadeniz' 'karaoke' 'kayokyoku' 'korean' 'laiko' 'latin'\n",
      " 'latino' 'leftfield' 'local' 'lounge' 'loungeelectronic' 'lovers'\n",
      " 'malaysian' 'mandopop' 'marschmusik' 'meditative' 'mediterranean'\n",
      " 'melodic' 'metal' 'metalcore' 'mexican' 'middle' 'minimal'\n",
      " 'miscellaneous' 'modern' 'mood' 'mpb' 'muslim' 'native' 'neoklassik'\n",
      " 'neue' 'new' 'newage' 'newwave' 'nu' 'nujazz' 'numetal' 'oceania' 'old'\n",
      " 'opera' 'orchestral' 'other' 'piano' 'pop' 'popelectronic' 'popeurodance'\n",
      " 'post' 'posthardcore' 'postrock' 'power' 'progmetal' 'progressive'\n",
      " 'psychedelic' 'punjabi' 'punk' 'quebecois' 'ragga' 'ram' 'rancheras'\n",
      " 'rap' 'rave' 'reggae' 'reggaeton' 'regional' 'relax' 'religious' 'retro'\n",
      " 'rhythm' 'rnb' 'rnr' 'rock' 'rockabilly' 'romance' 'roots' 'ruspop'\n",
      " 'rusrap' 'rusrock' 'salsa' 'samba' 'schlager' 'self' 'sertanejo'\n",
      " 'shoegazing' 'showtunes' 'singer' 'ska' 'slow' 'smooth' 'soul' 'soulful'\n",
      " 'sound' 'soundtrack' 'southern' 'specialty' 'speech' 'spiritual' 'sport'\n",
      " 'stonerrock' 'surf' 'swing' 'synthpop' 'sängerportrait' 'tango'\n",
      " 'tanzorchester' 'taraftar' 'tech' 'techno' 'thrash' 'top' 'traditional'\n",
      " 'tradjazz' 'trance' 'tribal' 'trip' 'triphop' 'tropical' 'türk' 'türkçe'\n",
      " 'unknown' 'urban' 'uzbek' 'variété' 'vi' 'videogame' 'vocal' 'western'\n",
      " 'world' 'worldbeat' 'ïîï']\n"
     ]
    }
   ],
   "source": [
    "genre_column = df.loc[:'genre']\n",
    "genre_column = genre_column.sort_values(by='genre')\n",
    "print(genre_column['genre'].unique())"
   ]
  },
  {
   "cell_type": "markdown",
   "metadata": {
    "id": "ALgNbvF3VtPA"
   },
   "source": [
    "[Back to Contents](#back)"
   ]
  },
  {
   "cell_type": "markdown",
   "metadata": {
    "id": "jz6a9-7HQUDd"
   },
   "source": [
    "### Conclusions <a id='data_preprocessing_conclusions'></a>\n",
    "We detected three issues with the data:\n",
    "\n",
    "- Incorrect header styles\n",
    "- Missing values\n",
    "- Obvious and implicit duplicates\n",
    "\n",
    "The headers have been cleaned up to make processing the table simpler.\n",
    "\n",
    "All missing values have been replaced with `'unknown'`. But we still have to see whether the missing values in `'genre'` will affect our calculations.\n",
    "\n",
    "The absence of duplicates will make the results more precise and easier to understand.\n",
    "\n",
    "Now we can move on to testing hypotheses. "
   ]
  },
  {
   "cell_type": "markdown",
   "metadata": {
    "id": "eK1es74rVujj"
   },
   "source": [
    "[Back to Contents](#back)"
   ]
  },
  {
   "cell_type": "markdown",
   "metadata": {
    "id": "WttZHXH0SqKk"
   },
   "source": [
    "## Stage 3. Testing hypotheses <a id='hypotheses'></a>"
   ]
  },
  {
   "cell_type": "markdown",
   "metadata": {
    "id": "Im936VVi_Zcu"
   },
   "source": [
    "### Hypothesis 1: comparing user behavior in two cities <a id='activity'></a>"
   ]
  },
  {
   "cell_type": "markdown",
   "metadata": {
    "id": "nwt_MuaL_Zcu"
   },
   "source": [
    "According to the first hypothesis, users from Springfield and Shelbyville listen to music differently. Test this using the data on three days of the week: Monday, Wednesday, and Friday.\n",
    "\n",
    "* Divide the users into groups by city.\n",
    "* Compare how many tracks each group played on Monday, Wednesday, and Friday.\n"
   ]
  },
  {
   "cell_type": "markdown",
   "metadata": {
    "id": "8Dw_YMmT_Zcu"
   },
   "source": [
    "For the sake of practice, perform each computation separately. \n",
    "\n",
    "Evaluate user activity in each city. Group the data by city and find the number of songs played in each group.\n",
    "\n"
   ]
  },
  {
   "cell_type": "code",
   "execution_count": 19,
   "metadata": {
    "id": "0_Qs96oh_Zcu"
   },
   "outputs": [
    {
     "name": "stdout",
     "output_type": "stream",
     "text": [
      "city\n",
      "Shelbyville    18512\n",
      "Springfield    42741\n",
      "Name: user_id, dtype: int64\n"
     ]
    }
   ],
   "source": [
    "print(df.groupby('city')['user_id'].count())"
   ]
  },
  {
   "cell_type": "markdown",
   "metadata": {
    "id": "dzli3w8o_Zcu"
   },
   "source": [
    "Springfield has more tracks played than Shelbyville. But that does not imply that citizens of Springfield listen to music more often. This city is simply bigger, and there are more users.\n",
    "\n",
    "Now group the data by day of the week and find the number of tracks played on Monday, Wednesday, and Friday.\n"
   ]
  },
  {
   "cell_type": "code",
   "execution_count": 20,
   "metadata": {
    "id": "uZMKjiJz_Zcu"
   },
   "outputs": [
    {
     "name": "stdout",
     "output_type": "stream",
     "text": [
      "day\n",
      "Friday       21840\n",
      "Monday       21354\n",
      "Wednesday    18059\n",
      "Name: user_id, dtype: int64\n"
     ]
    }
   ],
   "source": [
    "print(df.groupby('day')['user_id'].count())"
   ]
  },
  {
   "cell_type": "markdown",
   "metadata": {
    "id": "cC2tNrlL_Zcu"
   },
   "source": [
    "Wednesday is the quietest day overall. But if we consider the two cities separately, we might come to a different conclusion."
   ]
  },
  {
   "cell_type": "markdown",
   "metadata": {
    "id": "POzs8bGa_Zcu"
   },
   "source": [
    "You have seen how grouping by city or day works. Now write a function that will group by both.\n",
    "\n",
    "Create the `number_tracks()` function to calculate the number of songs played for a given day and city. It will require two parameters:\n",
    "* day of the week\n",
    "* name of the city\n",
    "\n",
    "In the function, use a variable to store the rows from the original table, where:\n",
    "  * `'day'` column value is equal to the `day` parameter\n",
    "  * `'city'` column value is equal to the `city` parameter\n",
    "\n",
    "Apply consecutive filtering with logical indexing.\n",
    "\n",
    "Then calculate the `'user_id'` column values in the resulting table. Store the result to a new variable. Return this variable from the function."
   ]
  },
  {
   "cell_type": "code",
   "execution_count": 21,
   "metadata": {
    "id": "Nz3GdQB1_Zcu"
   },
   "outputs": [],
   "source": [
    "# creating the function number_tracks()\n",
    "\n",
    "''' Let the track_list variable store the df rows where\n",
    "the value in the 'day' column is equal to the day= parameter and, at the same time, \n",
    "the value in the 'city' column is equal to the city= parameter (apply consecutive filtering \n",
    "with logical indexing).  \n",
    "\n",
    "Let the track_list_count variable store the number of 'user_id' column values in track_list\n",
    "(found with the count() method).\n",
    "\n",
    "Let the function return a number: the value of track_list_count.\n",
    "The function counts tracked played for a certain city and day.\n",
    "It first retrieves the rows with the intended day from the table,\n",
    "then filters out the rows with the intended city from the result,\n",
    "then finds the number of 'user_id' values in the filtered table,\n",
    "then returns that number.\n",
    "To see what it returns, wrap the function call in print().'''\n",
    "\n",
    "def number_tracks(day, city): \n",
    "    track_list = df[df['day'] == day]\n",
    "    track_list = track_list[track_list['city'] == city]\n",
    "    track_list_count = track_list['user_id'].count()\n",
    "    return track_list_count"
   ]
  },
  {
   "cell_type": "markdown",
   "metadata": {
    "id": "ytf7xFrFJQ2r"
   },
   "source": [
    "Call `number_tracks()` six times, changing the parameter values, so that you retrieve the data on both cities for each of the three days."
   ]
  },
  {
   "cell_type": "code",
   "execution_count": 22,
   "metadata": {
    "id": "rJcRATNQ_Zcu"
   },
   "outputs": [
    {
     "name": "stdout",
     "output_type": "stream",
     "text": [
      "15740\n"
     ]
    }
   ],
   "source": [
    "print(number_tracks('Monday', 'Springfield')) # the number of songs played in Springfield on Monday"
   ]
  },
  {
   "cell_type": "code",
   "execution_count": 23,
   "metadata": {
    "id": "hq_ncZ5T_Zcu"
   },
   "outputs": [
    {
     "name": "stdout",
     "output_type": "stream",
     "text": [
      "5614\n"
     ]
    }
   ],
   "source": [
    "print(number_tracks('Monday', 'Shelbyville')) # the number of songs played in Shelbyville on Monday"
   ]
  },
  {
   "cell_type": "code",
   "execution_count": 24,
   "metadata": {
    "id": "_NTy2VPU_Zcu"
   },
   "outputs": [
    {
     "name": "stdout",
     "output_type": "stream",
     "text": [
      "11056\n"
     ]
    }
   ],
   "source": [
    "print(number_tracks('Wednesday', 'Springfield'))"
   ]
  },
  {
   "cell_type": "code",
   "execution_count": 25,
   "metadata": {
    "id": "j2y3TAwo_Zcu"
   },
   "outputs": [
    {
     "name": "stdout",
     "output_type": "stream",
     "text": [
      "7003\n"
     ]
    }
   ],
   "source": [
    "print(number_tracks('Wednesday', 'Shelbyville')) # the number of songs played in Shelbyville on Wednesday"
   ]
  },
  {
   "cell_type": "code",
   "execution_count": 26,
   "metadata": {
    "id": "vYDw5u_K_Zcu"
   },
   "outputs": [
    {
     "name": "stdout",
     "output_type": "stream",
     "text": [
      "15945\n"
     ]
    }
   ],
   "source": [
    "print(number_tracks('Friday', 'Springfield')) # the number of songs played in Springfield on Friday"
   ]
  },
  {
   "cell_type": "code",
   "execution_count": 27,
   "metadata": {
    "id": "8_yzFtW3_Zcu"
   },
   "outputs": [
    {
     "name": "stdout",
     "output_type": "stream",
     "text": [
      "5895\n"
     ]
    }
   ],
   "source": [
    "print(number_tracks('Friday', 'Shelbyville')) # the number of songs played in Shelbyville on Friday"
   ]
  },
  {
   "cell_type": "markdown",
   "metadata": {
    "id": "7QXffbO-_Zcu"
   },
   "source": [
    "Use `pd.DataFrame` to create a table, where\n",
    "* Column names are: `['city', 'monday', 'wednesday', 'friday']`\n",
    "* The data is the results you got from `number_tracks()`"
   ]
  },
  {
   "cell_type": "code",
   "execution_count": 28,
   "metadata": {
    "id": "APAcLpOr_Zcu"
   },
   "outputs": [
    {
     "name": "stdout",
     "output_type": "stream",
     "text": [
      "          city  monday  wednesday  friday\n",
      "0   Springfied   15740      11056   15945\n",
      "1  Shelbyville    5614       7003    5895\n"
     ]
    }
   ],
   "source": [
    "hypo_1_data = [\n",
    "    ['Springfied', number_tracks('Monday', 'Springfield'), number_tracks('Wednesday', 'Springfield'), number_tracks('Friday', 'Springfield')],\n",
    "    ['Shelbyville', number_tracks('Monday', 'Shelbyville'), number_tracks('Wednesday', 'Shelbyville'), number_tracks('Friday', 'Shelbyville')],\n",
    "]\n",
    "\n",
    "hypo_1_headers = ['city', 'monday', 'wednesday', 'friday']\n",
    "\n",
    "hypo_1_table = pd.DataFrame(data=hypo_1_data, columns=hypo_1_headers)\n",
    "\n",
    "print(hypo_1_table)"
   ]
  },
  {
   "cell_type": "markdown",
   "metadata": {
    "id": "-EgPIHYu_Zcu"
   },
   "source": [
    "**Conclusions**\n",
    "\n",
    "The data reveals differences in user behavior:\n",
    "\n",
    "- In Springfield, the number of songs played peaks on Mondays and Fridays, while on Wednesday there is a decrease in activity.\n",
    "- In Shelbyville, on the contrary, users listen to music more on Wednesday. User activity on Monday and Friday is smaller.\n",
    "\n",
    "So the first hypothesis seems to be correct."
   ]
  },
  {
   "cell_type": "markdown",
   "metadata": {
    "id": "p7nFQajCVw5B"
   },
   "source": [
    "[Back to Contents](#back)"
   ]
  },
  {
   "cell_type": "markdown",
   "metadata": {
    "id": "atZAxtq4_Zcu"
   },
   "source": [
    "### Hypothesis 2: music at the beginning and end of the week <a id='week'></a>"
   ]
  },
  {
   "cell_type": "markdown",
   "metadata": {
    "id": "eXrQqXFH_Zcu"
   },
   "source": [
    "According to the second hypothesis, on Monday morning and Friday night, citizens of Springfield listen to genres that differ from ones users from Shelbyville enjoy."
   ]
  },
  {
   "cell_type": "markdown",
   "metadata": {
    "id": "S8UcW6Hw_Zcu"
   },
   "source": [
    "Get tables (make sure that the name of your combined table matches the DataFrame given in the two code blocks below):\n",
    "* For Springfield — `spr_general`\n",
    "* For Shelbyville — `shel_general`"
   ]
  },
  {
   "cell_type": "code",
   "execution_count": 29,
   "metadata": {
    "id": "qeaFfM_P_Zcu",
    "pycharm": {
     "is_executing": true
    }
   },
   "outputs": [],
   "source": [
    "# create the spr_general table from the df rows, \n",
    "# where the value in the 'city' column is 'Springfield'\n",
    "\n",
    "spr_general = df[df['city'] == 'Springfield']"
   ]
  },
  {
   "cell_type": "code",
   "execution_count": 30,
   "metadata": {
    "id": "ORaVRKto_Zcu"
   },
   "outputs": [],
   "source": [
    "# create the shel_general from the df rows,\n",
    "# where the value in the 'city' column is 'Shelbyville'\n",
    "\n",
    "shel_general = df[df['city'] == 'Shelbyville']"
   ]
  },
  {
   "cell_type": "markdown",
   "metadata": {
    "id": "MEJV-CX2_Zcu"
   },
   "source": [
    "Write the `genre_weekday()` function with four parameters:\n",
    "* A table for data (`df`)\n",
    "* The day of the week (`day`)\n",
    "* The first timestamp, in 'hh:mm' format (`time1`)\n",
    "* The last timestamp, in 'hh:mm' format (`time2`)\n",
    "\n",
    "The function should return info on the 15 most popular genres on a given day within the period between the two timestamps."
   ]
  },
  {
   "cell_type": "code",
   "execution_count": 31,
   "metadata": {
    "id": "laJT9BYl_Zcu"
   },
   "outputs": [
    {
     "data": {
      "text/plain": [
       "genre\n",
       "pop            2154\n",
       "dance          1669\n",
       "rock           1452\n",
       "electronic     1432\n",
       "hiphop          789\n",
       "classical       558\n",
       "world           548\n",
       "alternative     499\n",
       "ruspop          478\n",
       "rusrap          440\n",
       "unknown         393\n",
       "jazz            339\n",
       "metal           313\n",
       "folk            268\n",
       "soundtrack      268\n",
       "Name: user_id, dtype: int64"
      ]
     },
     "execution_count": 31,
     "metadata": {},
     "output_type": "execute_result"
    }
   ],
   "source": [
    "'''1) Let the genre_df variable store the rows that meet several conditions:\n",
    "    - the value in the 'day' column is equal to the value of the day= argument\n",
    "    - the value in the 'time' column is greater than the value of the time1= argument\n",
    "    - the value in the 'time' column is smaller than the value of the time2= argument\n",
    "    Use consecutive filtering with logical indexing.\n",
    " 2) Group genre_df by the 'genre' column, take one of its columns, \n",
    "    and use the count() method to find the number of entries for each of \n",
    "    the represented genres; store the resulting Series to the\n",
    "    genre_df_count variable\n",
    " 3) Sort genre_df_count in descending order of frequency and store the result\n",
    "    to the genre_df_sorted variable\n",
    " 4) Return a Series object with the first 15 genre_df_sorted value - the 15 most\n",
    "    popular genres (on a given day, within a certain timeframe)'''\n",
    "\n",
    "# Write your function here\n",
    "def genre_weekday(df, day, time1, time2):\n",
    "\n",
    "    # consecutive filtering\n",
    "    # Create the variable genre_df which will store only those df rows where the day is equal to day=\n",
    "    genre_df = df[df['day'] == day]\n",
    "\n",
    "    # filter again so that genre_df will store only those rows where the time is smaller than time2=\n",
    "    genre_df = genre_df[genre_df['time'] < time2]\n",
    "\n",
    "    # filter once more so that genre_df will store only rows where the time is greater than time1=\n",
    "    genre_df = genre_df[genre_df['time'] > time1]\n",
    "\n",
    "    # group the filtered DataFrame by the column with the names of genres, take the genre column, and find the number of rows for each genre with the count() method\n",
    "    genre_df_count=genre_df.groupby('genre')['user_id'].count()\n",
    "    \n",
    "    # sort the result in descending order (so that the most popular genres come first in the Series object)\n",
    "    genre_df_sorted=genre_df_count.sort_values(ascending = False)\n",
    "\n",
    "    # we will return the Series object storing the 15 most popular genres on a given day in a given timeframe\n",
    "    return genre_df_sorted[:15]\n",
    "    print(genre_df_sorted[:15])\n",
    "\n",
    "genre_weekday(spr_general, 'Monday', '00:00:00', '23:59:59')"
   ]
  },
  {
   "cell_type": "markdown",
   "metadata": {
    "id": "la2s2_PF_Zcu"
   },
   "source": [
    "Compare the results of the `genre_weekday()` function for Springfield and Shelbyville on Monday morning (from 7AM to 11AM) and on Friday evening (from 17:00 to 23:00):"
   ]
  },
  {
   "cell_type": "code",
   "execution_count": 32,
   "metadata": {
    "id": "yz7itPUQ_Zcu"
   },
   "outputs": [
    {
     "data": {
      "text/plain": [
       "genre\n",
       "pop            781\n",
       "dance          549\n",
       "electronic     480\n",
       "rock           474\n",
       "hiphop         286\n",
       "ruspop         186\n",
       "world          181\n",
       "rusrap         175\n",
       "alternative    164\n",
       "unknown        161\n",
       "classical      157\n",
       "metal          120\n",
       "jazz           100\n",
       "folk            97\n",
       "soundtrack      95\n",
       "Name: user_id, dtype: int64"
      ]
     },
     "execution_count": 32,
     "metadata": {},
     "output_type": "execute_result"
    }
   ],
   "source": [
    "# calling the function for Monday morning in Springfield (use spr_general instead of the df table)\n",
    "genre_weekday(spr_general, 'Monday', '07:00:00', '11:00:00')"
   ]
  },
  {
   "cell_type": "code",
   "execution_count": 33,
   "metadata": {
    "id": "kwUcHPdy_Zcu"
   },
   "outputs": [
    {
     "data": {
      "text/plain": [
       "genre\n",
       "pop            218\n",
       "dance          182\n",
       "rock           162\n",
       "electronic     147\n",
       "hiphop          80\n",
       "ruspop          64\n",
       "alternative     58\n",
       "rusrap          55\n",
       "jazz            44\n",
       "classical       40\n",
       "world           36\n",
       "rap             32\n",
       "soundtrack      31\n",
       "rnb             27\n",
       "metal           27\n",
       "Name: user_id, dtype: int64"
      ]
     },
     "execution_count": 33,
     "metadata": {},
     "output_type": "execute_result"
    }
   ],
   "source": [
    "# calling the function for Monday morning in Shelbyville (use shel_general instead of the df table)\n",
    "genre_weekday(shel_general, 'Monday', '07:00:00', '11:00:00')"
   ]
  },
  {
   "cell_type": "code",
   "execution_count": 34,
   "metadata": {
    "id": "EzXVRE1o_Zcu"
   },
   "outputs": [
    {
     "data": {
      "text/plain": [
       "genre\n",
       "pop            713\n",
       "rock           517\n",
       "dance          495\n",
       "electronic     482\n",
       "hiphop         273\n",
       "world          208\n",
       "ruspop         170\n",
       "classical      163\n",
       "alternative    163\n",
       "rusrap         142\n",
       "jazz           111\n",
       "unknown        110\n",
       "soundtrack     105\n",
       "rnb             90\n",
       "metal           88\n",
       "Name: user_id, dtype: int64"
      ]
     },
     "execution_count": 34,
     "metadata": {},
     "output_type": "execute_result"
    }
   ],
   "source": [
    "# calling the function for Friday evening in Springfield\n",
    "genre_weekday(spr_general, 'Friday', '17:00:00', '23:00:00')"
   ]
  },
  {
   "cell_type": "code",
   "execution_count": 35,
   "metadata": {
    "id": "JZaEKu5v_Zcu"
   },
   "outputs": [
    {
     "data": {
      "text/plain": [
       "genre\n",
       "pop            256\n",
       "rock           216\n",
       "electronic     216\n",
       "dance          210\n",
       "hiphop          97\n",
       "alternative     63\n",
       "jazz            61\n",
       "classical       60\n",
       "rusrap          59\n",
       "world           54\n",
       "unknown         47\n",
       "ruspop          47\n",
       "soundtrack      40\n",
       "metal           39\n",
       "rap             36\n",
       "Name: user_id, dtype: int64"
      ]
     },
     "execution_count": 35,
     "metadata": {},
     "output_type": "execute_result"
    }
   ],
   "source": [
    "# calling the function for Friday evening in Shelbyville\n",
    "genre_weekday(shel_general, 'Friday', '17:00:00', '23:00:00') "
   ]
  },
  {
   "cell_type": "markdown",
   "metadata": {
    "id": "wrCe4MNX_Zcu"
   },
   "source": [
    "**Conclusion**\n",
    "\n",
    "Having compared the top 15 genres on Monday morning, we can draw the following conclusions:\n",
    "\n",
    "1. Users from Springfield and Shelbyville listen to similar music. The top five genres are the same, only rock and electronic have switched places.\n",
    "\n",
    "2. In Springfield, the number of missing values turned out to be so big that the value `'unknown'` came in 10th. This means that missing values make up a considerable portion of the data, which may be a basis for questioning the reliability of our conclusions.\n",
    "\n",
    "For Friday evening, the situation is similar. Individual genres vary somewhat, but on the whole, the top 15 is similar for the two cities.\n",
    "\n",
    "Thus, the second hypothesis has been partially proven true:\n",
    "* Users listen to similar music at the beginning and end of the week.\n",
    "* There is no major difference between Springfield and Shelbyville. In both cities, pop is the most popular genre.\n",
    "\n",
    "However, the number of missing values makes this result questionable. In Springfield, there are so many that they affect our top 15. Were we not missing these values, things might look different."
   ]
  },
  {
   "cell_type": "markdown",
   "metadata": {
    "id": "jLmXgdanVyhP"
   },
   "source": [
    "[Back to Contents](#back)"
   ]
  },
  {
   "cell_type": "markdown",
   "metadata": {
    "id": "JolODAqr_Zcu"
   },
   "source": [
    "### Hypothesis 3: genre preferences in Springfield and Shelbyville <a id='genre'></a>\n",
    "\n",
    "Hypothesis: Shelbyville loves rap music. Springfield's citizens are more into pop."
   ]
  },
  {
   "cell_type": "markdown",
   "metadata": {
    "id": "DlegSvaT_Zcu"
   },
   "source": [
    "Group the `spr_general` table by genre and find the number of songs played for each genre with the `count()` method. Then sort the result in descending order and store it to `spr_genres`."
   ]
  },
  {
   "cell_type": "code",
   "execution_count": 36,
   "metadata": {
    "id": "r19lIPke_Zcu"
   },
   "outputs": [],
   "source": [
    "'''on one line: group the spr_general table by the 'genre' column, \n",
    " count the 'genre' values with count() in the grouping, \n",
    " sort the resulting Series in descending order, and store it to spr_genres'''\n",
    "\n",
    "spr_genres = spr_general.groupby('genre').count().sort_values(by='user_id', ascending = False)['user_id']"
   ]
  },
  {
   "cell_type": "markdown",
   "metadata": {
    "id": "6kMuomxTiIr8"
   },
   "source": [
    "Print the first 10 rows from `spr_genres`:"
   ]
  },
  {
   "cell_type": "code",
   "execution_count": 37,
   "metadata": {
    "id": "WhCSooF8_Zcv"
   },
   "outputs": [
    {
     "name": "stdout",
     "output_type": "stream",
     "text": [
      "genre\n",
      "pop            5892\n",
      "dance          4435\n",
      "rock           3965\n",
      "electronic     3786\n",
      "hiphop         2096\n",
      "classical      1616\n",
      "world          1432\n",
      "alternative    1379\n",
      "ruspop         1372\n",
      "rusrap         1161\n",
      "Name: user_id, dtype: int64\n"
     ]
    }
   ],
   "source": [
    "print(spr_genres[:10])"
   ]
  },
  {
   "cell_type": "markdown",
   "metadata": {
    "id": "cnPG2vnN_Zcv"
   },
   "source": [
    "Now do the same with the data on Shelbyville.\n",
    "\n",
    "Group the `shel_general` table by genre and find the number of songs played for each genre. Then sort the result in descending order and store it to the `shel_genres` table:\n"
   ]
  },
  {
   "cell_type": "code",
   "execution_count": 38,
   "metadata": {
    "id": "gluLIpE7_Zcv"
   },
   "outputs": [],
   "source": [
    "'''on one line: group the shel_general table by the 'genre' column, \n",
    "count the 'genre' values in the grouping with count(), \n",
    "sort the resulting Series in descending order and store it to shel_genres'''\n",
    "\n",
    "shel_genres = shel_general.groupby('genre').count().sort_values(by='user_id', ascending = False)['user_id']"
   ]
  },
  {
   "cell_type": "markdown",
   "metadata": {
    "id": "5Doha_ODgyQ8"
   },
   "source": [
    "Print the first 10 rows of `shel_genres`:"
   ]
  },
  {
   "cell_type": "code",
   "execution_count": 39,
   "metadata": {
    "id": "uaGJHjVU_Zcv"
   },
   "outputs": [
    {
     "name": "stdout",
     "output_type": "stream",
     "text": [
      "genre\n",
      "pop            2431\n",
      "dance          1932\n",
      "rock           1879\n",
      "electronic     1736\n",
      "hiphop          960\n",
      "alternative     649\n",
      "classical       646\n",
      "rusrap          564\n",
      "ruspop          538\n",
      "world           515\n",
      "Name: user_id, dtype: int64\n"
     ]
    }
   ],
   "source": [
    "print(shel_genres[:10])"
   ]
  },
  {
   "cell_type": "markdown",
   "metadata": {
    "id": "RY51YJYu_Zcv"
   },
   "source": [
    "**Conclusion**"
   ]
  },
  {
   "cell_type": "markdown",
   "metadata": {
    "id": "nVhnJEm__Zcv"
   },
   "source": [
    "The hypothesis has been partially proven true:\n",
    "* Pop music is the most popular genre in Springfield, as expected.\n",
    "* However, pop music turned out to be equally popular in Springfield and Shelbyville, and rap wasn't in the top 5 for either city.\n"
   ]
  },
  {
   "cell_type": "markdown",
   "metadata": {
    "id": "Byr0RfpPVz14"
   },
   "source": [
    "[Back to Contents](#back)"
   ]
  },
  {
   "cell_type": "markdown",
   "metadata": {
    "id": "ykKQ0N65_Zcv"
   },
   "source": [
    "## Findings <a id='end'></a>"
   ]
  },
  {
   "cell_type": "markdown",
   "metadata": {
    "id": "tjUwbHb3_Zcv"
   },
   "source": [
    "We have tested the following three hypotheses:\n",
    "\n",
    "1. User activity differs depending on the day of the week and from city to city. \n",
    "2. On Monday mornings, Springfield and Shelbyville residents listen to different genres. This is also true for Friday evenings. \n",
    "3. Springfield and Shelbyville listeners have different preferences. In both Springfield and Shelbyville, they prefer pop.\n",
    "\n",
    "After analyzing the data, we concluded:\n",
    "\n",
    "1. User activity in Springfield and Shelbyville depends on the day of the week, though the cities vary in different ways. \n",
    "\n",
    "The first hypothesis is fully accepted.\n",
    "\n",
    "2. Musical preferences do not vary significantly over the course of the week in both Springfield and Shelbyville. We can see small differences in order on Mondays, but:\n",
    "* In Springfield and Shelbyville, people listen to pop music most.\n",
    "\n",
    "So we can't accept this hypothesis. We must also keep in mind that the result could have been different if not for the missing values.\n",
    "\n",
    "3. It turns out that the musical preferences of users from Springfield and Shelbyville are quite similar.\n",
    "\n",
    "The third hypothesis is rejected. If there is any difference in preferences, it cannot be seen from this data."
   ]
  },
  {
   "cell_type": "markdown",
   "metadata": {
    "id": "Ju4AHDSgV1FE"
   },
   "source": [
    "[Back to Contents](#back)"
   ]
  }
 ],
 "metadata": {
  "ExecuteTimeLog": [
   {
    "duration": 81,
    "start_time": "2022-07-16T10:27:14.658Z"
   },
   {
    "duration": 791,
    "start_time": "2022-07-16T10:27:31.315Z"
   },
   {
    "duration": 114,
    "start_time": "2022-07-16T10:27:55.636Z"
   },
   {
    "duration": 487,
    "start_time": "2022-07-16T10:28:52.915Z"
   },
   {
    "duration": 9,
    "start_time": "2022-07-16T10:29:15.258Z"
   },
   {
    "duration": 7,
    "start_time": "2022-07-16T10:43:33.213Z"
   },
   {
    "duration": 9,
    "start_time": "2022-07-16T10:44:25.752Z"
   },
   {
    "duration": 29,
    "start_time": "2022-07-16T10:46:56.304Z"
   },
   {
    "duration": 10,
    "start_time": "2022-07-16T11:18:20.012Z"
   },
   {
    "duration": 3,
    "start_time": "2022-07-16T11:18:37.382Z"
   },
   {
    "duration": 119,
    "start_time": "2022-07-16T11:25:44.434Z"
   },
   {
    "duration": 95,
    "start_time": "2022-07-16T11:27:20.325Z"
   },
   {
    "duration": 101,
    "start_time": "2022-07-16T11:27:30.707Z"
   },
   {
    "duration": 7,
    "start_time": "2022-07-16T11:27:46.214Z"
   },
   {
    "duration": 98,
    "start_time": "2022-07-16T11:28:10.425Z"
   },
   {
    "duration": 14,
    "start_time": "2022-07-16T11:38:16.439Z"
   },
   {
    "duration": 13,
    "start_time": "2022-07-16T11:38:22.203Z"
   },
   {
    "duration": 3,
    "start_time": "2022-07-16T11:38:28.375Z"
   },
   {
    "duration": 13,
    "start_time": "2022-07-16T11:38:46.885Z"
   },
   {
    "duration": 3,
    "start_time": "2022-07-16T11:38:49.705Z"
   },
   {
    "duration": 22,
    "start_time": "2022-07-16T13:51:03.767Z"
   },
   {
    "duration": 14,
    "start_time": "2022-07-16T14:08:34.867Z"
   },
   {
    "duration": 13,
    "start_time": "2022-07-16T14:09:58.579Z"
   },
   {
    "duration": 9,
    "start_time": "2022-07-16T14:10:28.823Z"
   },
   {
    "duration": 12,
    "start_time": "2022-07-16T14:11:24.183Z"
   },
   {
    "duration": 10,
    "start_time": "2022-07-16T14:11:57.668Z"
   },
   {
    "duration": 148,
    "start_time": "2022-07-16T14:17:16.822Z"
   },
   {
    "duration": 1611,
    "start_time": "2022-07-16T14:17:28.485Z"
   },
   {
    "duration": 1424,
    "start_time": "2022-07-16T14:18:31.261Z"
   },
   {
    "duration": 17,
    "start_time": "2022-07-16T14:19:57.579Z"
   },
   {
    "duration": 22,
    "start_time": "2022-07-16T14:20:12.996Z"
   },
   {
    "duration": 78,
    "start_time": "2022-07-16T14:23:28.670Z"
   },
   {
    "duration": 99,
    "start_time": "2022-07-16T14:24:11.183Z"
   },
   {
    "duration": 65,
    "start_time": "2022-07-16T14:24:22.625Z"
   },
   {
    "duration": 7,
    "start_time": "2022-07-16T14:30:53.677Z"
   },
   {
    "duration": 36,
    "start_time": "2022-07-16T14:41:27.303Z"
   },
   {
    "duration": 95,
    "start_time": "2022-07-16T14:42:30.109Z"
   },
   {
    "duration": 86,
    "start_time": "2022-07-16T14:43:14.581Z"
   },
   {
    "duration": 13,
    "start_time": "2022-07-16T14:55:28.570Z"
   },
   {
    "duration": 14,
    "start_time": "2022-07-16T14:55:48.204Z"
   },
   {
    "duration": 10,
    "start_time": "2022-07-16T14:56:33.168Z"
   },
   {
    "duration": 17,
    "start_time": "2022-07-16T14:56:36.971Z"
   },
   {
    "duration": 72,
    "start_time": "2022-07-16T15:09:04.738Z"
   },
   {
    "duration": 85,
    "start_time": "2022-07-16T15:09:20.380Z"
   },
   {
    "duration": 9,
    "start_time": "2022-07-16T16:49:04.686Z"
   },
   {
    "duration": 90,
    "start_time": "2022-07-16T16:49:15.054Z"
   },
   {
    "duration": 52,
    "start_time": "2022-07-16T16:49:18.652Z"
   },
   {
    "duration": 44,
    "start_time": "2022-07-16T16:50:35.857Z"
   },
   {
    "duration": 79,
    "start_time": "2022-07-16T17:02:49.430Z"
   },
   {
    "duration": 78,
    "start_time": "2022-07-16T17:03:50.961Z"
   },
   {
    "duration": 95,
    "start_time": "2022-07-16T17:06:17.079Z"
   },
   {
    "duration": 110,
    "start_time": "2022-07-16T18:04:44.355Z"
   },
   {
    "duration": 108,
    "start_time": "2022-07-16T18:04:56.469Z"
   },
   {
    "duration": 91,
    "start_time": "2022-07-16T18:05:34.035Z"
   },
   {
    "duration": 7,
    "start_time": "2022-07-16T18:06:00.179Z"
   },
   {
    "duration": 95,
    "start_time": "2022-07-16T18:06:08.740Z"
   },
   {
    "duration": 5,
    "start_time": "2022-07-16T18:07:16.170Z"
   },
   {
    "duration": 146,
    "start_time": "2022-07-16T18:08:16.279Z"
   },
   {
    "duration": 78,
    "start_time": "2022-07-16T18:08:35.762Z"
   },
   {
    "duration": 106,
    "start_time": "2022-07-16T18:08:46.018Z"
   },
   {
    "duration": 13,
    "start_time": "2022-07-16T18:09:02.781Z"
   },
   {
    "duration": 10,
    "start_time": "2022-07-16T18:10:20.016Z"
   },
   {
    "duration": 4,
    "start_time": "2022-07-16T18:23:16.759Z"
   },
   {
    "duration": 28,
    "start_time": "2022-07-16T18:23:20.916Z"
   },
   {
    "duration": 9,
    "start_time": "2022-07-16T18:24:45.954Z"
   },
   {
    "duration": 31,
    "start_time": "2022-07-16T18:25:10.754Z"
   },
   {
    "duration": 5,
    "start_time": "2022-07-16T19:19:28.782Z"
   },
   {
    "duration": 36,
    "start_time": "2022-07-16T19:19:37.746Z"
   },
   {
    "duration": 4,
    "start_time": "2022-07-16T19:20:06.851Z"
   },
   {
    "duration": 43,
    "start_time": "2022-07-16T19:22:45.118Z"
   },
   {
    "duration": 10,
    "start_time": "2022-07-16T19:54:35.119Z"
   },
   {
    "duration": 32,
    "start_time": "2022-07-16T19:54:53.449Z"
   },
   {
    "duration": 29,
    "start_time": "2022-07-16T20:53:11.532Z"
   },
   {
    "duration": 28,
    "start_time": "2022-07-16T20:56:56.383Z"
   },
   {
    "duration": 24,
    "start_time": "2022-07-16T21:06:51.639Z"
   },
   {
    "duration": 24,
    "start_time": "2022-07-16T21:08:22.683Z"
   },
   {
    "duration": 23,
    "start_time": "2022-07-16T21:08:33.374Z"
   },
   {
    "duration": 23,
    "start_time": "2022-07-16T21:08:54.855Z"
   },
   {
    "duration": 25,
    "start_time": "2022-07-16T21:09:30.410Z"
   },
   {
    "duration": 23,
    "start_time": "2022-07-16T21:10:35.779Z"
   },
   {
    "duration": 21,
    "start_time": "2022-07-16T21:13:59.025Z"
   },
   {
    "duration": 21,
    "start_time": "2022-07-16T21:15:03.907Z"
   },
   {
    "duration": 22,
    "start_time": "2022-07-16T21:15:40.427Z"
   },
   {
    "duration": 21,
    "start_time": "2022-07-16T21:15:50.609Z"
   },
   {
    "duration": 40,
    "start_time": "2022-07-16T21:16:26.722Z"
   },
   {
    "duration": 44,
    "start_time": "2022-07-16T21:16:48.206Z"
   },
   {
    "duration": 38,
    "start_time": "2022-07-16T21:17:07.965Z"
   },
   {
    "duration": 36,
    "start_time": "2022-07-16T21:31:14.362Z"
   },
   {
    "duration": 38,
    "start_time": "2022-07-16T21:31:30.972Z"
   },
   {
    "duration": 26,
    "start_time": "2022-07-16T21:32:43.411Z"
   },
   {
    "duration": 27,
    "start_time": "2022-07-16T21:33:14.671Z"
   },
   {
    "duration": 73,
    "start_time": "2022-07-16T21:34:07.541Z"
   },
   {
    "duration": 100,
    "start_time": "2022-07-16T21:34:36.227Z"
   },
   {
    "duration": 22,
    "start_time": "2022-07-16T21:35:09.466Z"
   },
   {
    "duration": 24,
    "start_time": "2022-07-16T21:35:15.496Z"
   },
   {
    "duration": 28,
    "start_time": "2022-07-16T21:35:28.328Z"
   },
   {
    "duration": 26,
    "start_time": "2022-07-16T21:35:36.725Z"
   },
   {
    "duration": 10,
    "start_time": "2022-07-16T21:35:44.274Z"
   },
   {
    "duration": 19,
    "start_time": "2022-07-16T21:35:53.574Z"
   },
   {
    "duration": 23,
    "start_time": "2022-07-16T21:36:42.560Z"
   },
   {
    "duration": 1308,
    "start_time": "2022-07-16T21:37:23.915Z"
   },
   {
    "duration": 26,
    "start_time": "2022-07-16T21:37:33.462Z"
   },
   {
    "duration": 38,
    "start_time": "2022-07-16T21:38:27.017Z"
   },
   {
    "duration": 22,
    "start_time": "2022-07-16T21:39:07.289Z"
   },
   {
    "duration": 25,
    "start_time": "2022-07-16T21:39:11.947Z"
   },
   {
    "duration": 78,
    "start_time": "2022-07-16T21:39:52.033Z"
   },
   {
    "duration": 31,
    "start_time": "2022-07-16T21:39:58.477Z"
   },
   {
    "duration": 16,
    "start_time": "2022-07-16T21:40:32.778Z"
   },
   {
    "duration": 29,
    "start_time": "2022-07-16T21:40:57.988Z"
   },
   {
    "duration": 21,
    "start_time": "2022-07-16T21:41:20.962Z"
   },
   {
    "duration": 31,
    "start_time": "2022-07-16T21:42:25.500Z"
   },
   {
    "duration": 28,
    "start_time": "2022-07-16T21:42:31.462Z"
   },
   {
    "duration": 59,
    "start_time": "2022-07-17T07:03:01.585Z"
   },
   {
    "duration": 14,
    "start_time": "2022-07-17T07:05:24.819Z"
   },
   {
    "duration": 9,
    "start_time": "2022-07-17T07:05:55.563Z"
   },
   {
    "duration": 14,
    "start_time": "2022-07-17T07:06:26.867Z"
   },
   {
    "duration": 9,
    "start_time": "2022-07-17T07:07:44.248Z"
   },
   {
    "duration": 906,
    "start_time": "2022-07-17T07:08:10.361Z"
   },
   {
    "duration": 1196,
    "start_time": "2022-07-17T07:09:37.564Z"
   },
   {
    "duration": 1152,
    "start_time": "2022-07-17T07:09:49.521Z"
   },
   {
    "duration": 127,
    "start_time": "2022-07-17T07:10:24.566Z"
   },
   {
    "duration": 7,
    "start_time": "2022-07-17T07:10:28.269Z"
   },
   {
    "duration": 27,
    "start_time": "2022-07-17T07:10:32.061Z"
   },
   {
    "duration": 3,
    "start_time": "2022-07-17T07:10:42.964Z"
   },
   {
    "duration": 10,
    "start_time": "2022-07-17T07:10:45.675Z"
   },
   {
    "duration": 3,
    "start_time": "2022-07-17T07:10:48.259Z"
   },
   {
    "duration": 23,
    "start_time": "2022-07-17T07:10:51.001Z"
   },
   {
    "duration": 17,
    "start_time": "2022-07-17T07:10:54.513Z"
   },
   {
    "duration": 21,
    "start_time": "2022-07-17T07:10:58.869Z"
   },
   {
    "duration": 69,
    "start_time": "2022-07-17T07:11:03.912Z"
   },
   {
    "duration": 62,
    "start_time": "2022-07-17T07:12:11.925Z"
   },
   {
    "duration": 72,
    "start_time": "2022-07-17T07:12:14.306Z"
   },
   {
    "duration": 57,
    "start_time": "2022-07-17T07:12:16.864Z"
   },
   {
    "duration": 81,
    "start_time": "2022-07-17T07:12:19.765Z"
   },
   {
    "duration": 3,
    "start_time": "2022-07-17T07:12:23.475Z"
   },
   {
    "duration": 74,
    "start_time": "2022-07-17T07:12:27.172Z"
   },
   {
    "duration": 37,
    "start_time": "2022-07-17T07:12:33.560Z"
   },
   {
    "duration": 28,
    "start_time": "2022-07-17T07:12:36.260Z"
   },
   {
    "duration": 30,
    "start_time": "2022-07-17T07:12:40.002Z"
   },
   {
    "duration": 35,
    "start_time": "2022-07-17T07:13:34.148Z"
   },
   {
    "duration": 28,
    "start_time": "2022-07-17T07:14:19.385Z"
   },
   {
    "duration": 29,
    "start_time": "2022-07-17T07:15:27.895Z"
   },
   {
    "duration": 31,
    "start_time": "2022-07-17T07:15:52.265Z"
   },
   {
    "duration": 83,
    "start_time": "2022-07-17T07:17:29.007Z"
   },
   {
    "duration": 4,
    "start_time": "2022-07-17T07:17:41.400Z"
   },
   {
    "duration": 3,
    "start_time": "2022-07-17T07:17:46.007Z"
   },
   {
    "duration": 9,
    "start_time": "2022-07-17T07:17:55.916Z"
   },
   {
    "duration": 6,
    "start_time": "2022-07-17T07:18:12.960Z"
   },
   {
    "duration": 73,
    "start_time": "2022-07-17T07:18:48.762Z"
   },
   {
    "duration": 29,
    "start_time": "2022-07-17T07:19:05.216Z"
   },
   {
    "duration": 29,
    "start_time": "2022-07-17T07:19:17.268Z"
   },
   {
    "duration": 33,
    "start_time": "2022-07-17T07:20:19.247Z"
   },
   {
    "duration": 30,
    "start_time": "2022-07-17T07:21:42.353Z"
   },
   {
    "duration": 18,
    "start_time": "2022-07-17T07:22:28.217Z"
   },
   {
    "duration": 4,
    "start_time": "2022-07-17T07:22:45.361Z"
   },
   {
    "duration": 21,
    "start_time": "2022-07-17T07:22:48.666Z"
   },
   {
    "duration": 14,
    "start_time": "2022-07-17T07:22:51.580Z"
   },
   {
    "duration": 14,
    "start_time": "2022-07-17T07:22:55.249Z"
   },
   {
    "duration": 14,
    "start_time": "2022-07-17T07:22:57.642Z"
   },
   {
    "duration": 16,
    "start_time": "2022-07-17T07:23:00.241Z"
   },
   {
    "duration": 13,
    "start_time": "2022-07-17T07:23:02.601Z"
   },
   {
    "duration": 8,
    "start_time": "2022-07-17T07:30:34.014Z"
   },
   {
    "duration": 7,
    "start_time": "2022-07-17T07:30:58.421Z"
   },
   {
    "duration": 4,
    "start_time": "2022-07-17T07:31:40.526Z"
   },
   {
    "duration": 33,
    "start_time": "2022-07-17T07:32:30.652Z"
   },
   {
    "duration": 15,
    "start_time": "2022-07-17T07:32:54.402Z"
   },
   {
    "duration": 44,
    "start_time": "2022-07-17T07:33:05.698Z"
   },
   {
    "duration": 11,
    "start_time": "2022-07-17T07:33:27.905Z"
   },
   {
    "duration": 111,
    "start_time": "2022-07-17T07:37:21.877Z"
   },
   {
    "duration": 36,
    "start_time": "2022-07-17T07:37:35.689Z"
   },
   {
    "duration": 32,
    "start_time": "2022-07-17T07:52:09.905Z"
   },
   {
    "duration": 9,
    "start_time": "2022-07-17T07:54:18.356Z"
   },
   {
    "duration": 3,
    "start_time": "2022-07-17T07:56:34.186Z"
   },
   {
    "duration": 18,
    "start_time": "2022-07-17T07:57:00.489Z"
   },
   {
    "duration": 36,
    "start_time": "2022-07-17T07:57:36.983Z"
   },
   {
    "duration": 87,
    "start_time": "2022-07-17T08:01:59.352Z"
   },
   {
    "duration": 73,
    "start_time": "2022-07-17T08:04:07.555Z"
   },
   {
    "duration": 97,
    "start_time": "2022-07-17T08:04:22.574Z"
   },
   {
    "duration": 66,
    "start_time": "2022-07-17T08:06:53.228Z"
   },
   {
    "duration": 22,
    "start_time": "2022-07-17T09:04:06.069Z"
   },
   {
    "duration": 19,
    "start_time": "2022-07-17T09:05:16.600Z"
   },
   {
    "duration": 14,
    "start_time": "2022-07-17T09:05:27.445Z"
   },
   {
    "duration": 14,
    "start_time": "2022-07-17T09:05:53.461Z"
   },
   {
    "duration": 77,
    "start_time": "2022-07-17T11:14:32.304Z"
   },
   {
    "duration": 103,
    "start_time": "2022-07-17T11:14:46.304Z"
   },
   {
    "duration": 98,
    "start_time": "2022-07-17T11:15:07.312Z"
   },
   {
    "duration": 9,
    "start_time": "2022-07-17T11:15:57.397Z"
   },
   {
    "duration": 119,
    "start_time": "2022-07-17T11:34:29.167Z"
   },
   {
    "duration": 98,
    "start_time": "2022-07-17T11:34:57.276Z"
   },
   {
    "duration": 256,
    "start_time": "2022-07-17T11:35:05.601Z"
   },
   {
    "duration": 221,
    "start_time": "2022-07-17T11:35:19.866Z"
   },
   {
    "duration": 268,
    "start_time": "2022-07-17T11:35:45.356Z"
   },
   {
    "duration": 106,
    "start_time": "2022-07-17T11:36:26.372Z"
   },
   {
    "duration": 103,
    "start_time": "2022-07-17T11:37:00.190Z"
   },
   {
    "duration": 100,
    "start_time": "2022-07-17T11:37:17.172Z"
   },
   {
    "duration": 89,
    "start_time": "2022-07-17T11:37:55.414Z"
   },
   {
    "duration": 29,
    "start_time": "2022-07-17T11:38:07.856Z"
   },
   {
    "duration": 104,
    "start_time": "2022-07-17T11:38:52.553Z"
   },
   {
    "duration": 43,
    "start_time": "2022-07-17T11:39:17.030Z"
   },
   {
    "duration": 58,
    "start_time": "2022-07-17T11:40:36.531Z"
   },
   {
    "duration": 10,
    "start_time": "2022-07-17T11:41:10.670Z"
   },
   {
    "duration": 35,
    "start_time": "2022-07-17T11:41:34.434Z"
   },
   {
    "duration": 32,
    "start_time": "2022-07-17T14:06:13.352Z"
   },
   {
    "duration": 35,
    "start_time": "2022-07-17T14:11:55.813Z"
   },
   {
    "duration": 43,
    "start_time": "2022-07-17T14:13:42.385Z"
   },
   {
    "duration": 53,
    "start_time": "2022-07-17T14:14:27.163Z"
   },
   {
    "duration": 34,
    "start_time": "2022-07-17T14:14:38.169Z"
   },
   {
    "duration": 49,
    "start_time": "2022-07-17T14:14:44.193Z"
   },
   {
    "duration": 45,
    "start_time": "2022-07-17T14:14:55.168Z"
   },
   {
    "duration": 63,
    "start_time": "2022-07-17T14:15:40.064Z"
   },
   {
    "duration": 49,
    "start_time": "2022-07-17T14:15:49.452Z"
   },
   {
    "duration": 47,
    "start_time": "2022-07-17T14:16:42.674Z"
   },
   {
    "duration": 29,
    "start_time": "2022-07-17T14:17:02.548Z"
   },
   {
    "duration": 45,
    "start_time": "2022-07-17T14:17:45.355Z"
   },
   {
    "duration": 54,
    "start_time": "2022-07-17T14:18:25.219Z"
   },
   {
    "duration": 40,
    "start_time": "2022-07-17T14:19:28.759Z"
   },
   {
    "duration": 33,
    "start_time": "2022-07-17T14:20:22.849Z"
   },
   {
    "duration": 36,
    "start_time": "2022-07-17T14:20:41.093Z"
   },
   {
    "duration": 71,
    "start_time": "2022-07-17T14:20:46.954Z"
   },
   {
    "duration": 33,
    "start_time": "2022-07-17T14:37:50.117Z"
   },
   {
    "duration": 26,
    "start_time": "2022-07-17T14:38:18.893Z"
   },
   {
    "duration": 27,
    "start_time": "2022-07-17T14:39:39.369Z"
   },
   {
    "duration": 41,
    "start_time": "2022-07-17T14:40:26.796Z"
   },
   {
    "duration": 21,
    "start_time": "2022-07-17T14:40:39.965Z"
   },
   {
    "duration": 31,
    "start_time": "2022-07-17T14:51:02.217Z"
   },
   {
    "duration": 26,
    "start_time": "2022-07-17T14:52:53.343Z"
   },
   {
    "duration": 28,
    "start_time": "2022-07-17T14:53:31.766Z"
   },
   {
    "duration": 99,
    "start_time": "2022-07-17T14:57:54.524Z"
   },
   {
    "duration": 26,
    "start_time": "2022-07-17T14:58:02.747Z"
   },
   {
    "duration": 40,
    "start_time": "2022-07-17T14:58:16.827Z"
   },
   {
    "duration": 36,
    "start_time": "2022-07-17T14:58:36.309Z"
   },
   {
    "duration": 4,
    "start_time": "2022-07-17T14:59:26.362Z"
   },
   {
    "duration": 25,
    "start_time": "2022-07-17T14:59:37.582Z"
   },
   {
    "duration": 16,
    "start_time": "2022-07-17T15:00:06.489Z"
   },
   {
    "duration": 5,
    "start_time": "2022-07-17T15:00:18.522Z"
   },
   {
    "duration": 86,
    "start_time": "2022-07-17T15:01:07.066Z"
   },
   {
    "duration": 10,
    "start_time": "2022-07-17T15:01:16.765Z"
   },
   {
    "duration": 4,
    "start_time": "2022-07-17T15:01:27.283Z"
   },
   {
    "duration": 14,
    "start_time": "2022-07-17T15:01:29.735Z"
   },
   {
    "duration": 73,
    "start_time": "2022-07-17T15:01:33.236Z"
   },
   {
    "duration": 205,
    "start_time": "2022-07-17T15:03:34.710Z"
   },
   {
    "duration": 169,
    "start_time": "2022-07-17T15:03:39.295Z"
   },
   {
    "duration": 9,
    "start_time": "2022-07-17T15:03:43.188Z"
   },
   {
    "duration": 44,
    "start_time": "2022-07-17T15:03:46.642Z"
   },
   {
    "duration": 4,
    "start_time": "2022-07-17T15:03:50.394Z"
   },
   {
    "duration": 21,
    "start_time": "2022-07-17T15:03:53.564Z"
   },
   {
    "duration": 4,
    "start_time": "2022-07-17T15:03:56.242Z"
   },
   {
    "duration": 23,
    "start_time": "2022-07-17T15:03:58.542Z"
   },
   {
    "duration": 19,
    "start_time": "2022-07-17T15:04:01.443Z"
   },
   {
    "duration": 30,
    "start_time": "2022-07-17T15:04:03.909Z"
   },
   {
    "duration": 70,
    "start_time": "2022-07-17T15:04:07.224Z"
   },
   {
    "duration": 106,
    "start_time": "2022-07-17T15:04:09.448Z"
   },
   {
    "duration": 76,
    "start_time": "2022-07-17T15:04:11.778Z"
   },
   {
    "duration": 103,
    "start_time": "2022-07-17T15:04:15.096Z"
   },
   {
    "duration": 4,
    "start_time": "2022-07-17T15:04:21.294Z"
   },
   {
    "duration": 10,
    "start_time": "2022-07-17T15:04:24.458Z"
   },
   {
    "duration": 12,
    "start_time": "2022-07-17T15:04:50.748Z"
   },
   {
    "duration": 4,
    "start_time": "2022-07-17T15:09:43.671Z"
   },
   {
    "duration": 10,
    "start_time": "2022-07-17T15:09:47.143Z"
   },
   {
    "duration": 77,
    "start_time": "2022-07-17T15:09:51.750Z"
   },
   {
    "duration": 40,
    "start_time": "2022-07-17T15:11:25.537Z"
   },
   {
    "duration": 8,
    "start_time": "2022-07-17T15:11:38.738Z"
   },
   {
    "duration": 13,
    "start_time": "2022-07-17T15:11:44.948Z"
   },
   {
    "duration": 13,
    "start_time": "2022-07-17T15:12:00.345Z"
   },
   {
    "duration": 4,
    "start_time": "2022-07-17T15:12:23.483Z"
   },
   {
    "duration": 20,
    "start_time": "2022-07-17T15:12:27.167Z"
   },
   {
    "duration": 18,
    "start_time": "2022-07-17T15:12:30.325Z"
   },
   {
    "duration": 18,
    "start_time": "2022-07-17T15:12:32.817Z"
   },
   {
    "duration": 18,
    "start_time": "2022-07-17T15:12:36.966Z"
   },
   {
    "duration": 18,
    "start_time": "2022-07-17T15:12:40.029Z"
   },
   {
    "duration": 19,
    "start_time": "2022-07-17T15:12:42.021Z"
   },
   {
    "duration": 80,
    "start_time": "2022-07-17T15:12:47.103Z"
   },
   {
    "duration": 12,
    "start_time": "2022-07-17T15:12:52.426Z"
   },
   {
    "duration": 12,
    "start_time": "2022-07-17T15:12:54.546Z"
   },
   {
    "duration": 82,
    "start_time": "2022-07-17T15:13:23.684Z"
   },
   {
    "duration": 31,
    "start_time": "2022-07-17T15:13:38.579Z"
   },
   {
    "duration": 28,
    "start_time": "2022-07-17T15:14:03.621Z"
   },
   {
    "duration": 39,
    "start_time": "2022-07-17T15:14:27.169Z"
   },
   {
    "duration": 24,
    "start_time": "2022-07-17T15:14:56.710Z"
   },
   {
    "duration": 18,
    "start_time": "2022-07-17T15:15:00.902Z"
   },
   {
    "duration": 31,
    "start_time": "2022-07-17T15:15:04.919Z"
   },
   {
    "duration": 16,
    "start_time": "2022-07-17T15:15:08.230Z"
   },
   {
    "duration": 794,
    "start_time": "2022-07-18T13:50:52.640Z"
   },
   {
    "duration": 128,
    "start_time": "2022-07-18T13:50:53.436Z"
   },
   {
    "duration": 7,
    "start_time": "2022-07-18T13:50:53.566Z"
   },
   {
    "duration": 36,
    "start_time": "2022-07-18T13:50:53.574Z"
   },
   {
    "duration": 4,
    "start_time": "2022-07-18T13:50:53.613Z"
   },
   {
    "duration": 24,
    "start_time": "2022-07-18T13:50:53.618Z"
   },
   {
    "duration": 6,
    "start_time": "2022-07-18T13:50:53.644Z"
   },
   {
    "duration": 32,
    "start_time": "2022-07-18T13:50:53.652Z"
   },
   {
    "duration": 22,
    "start_time": "2022-07-18T13:50:53.686Z"
   },
   {
    "duration": 23,
    "start_time": "2022-07-18T13:50:53.710Z"
   },
   {
    "duration": 83,
    "start_time": "2022-07-18T13:50:53.735Z"
   },
   {
    "duration": 66,
    "start_time": "2022-07-18T13:50:53.819Z"
   },
   {
    "duration": 67,
    "start_time": "2022-07-18T13:50:53.886Z"
   },
   {
    "duration": 86,
    "start_time": "2022-07-18T13:50:53.956Z"
   },
   {
    "duration": 5,
    "start_time": "2022-07-18T13:50:54.043Z"
   },
   {
    "duration": 14,
    "start_time": "2022-07-18T13:50:54.050Z"
   },
   {
    "duration": 95,
    "start_time": "2022-07-18T13:50:54.065Z"
   },
   {
    "duration": 12,
    "start_time": "2022-07-18T13:50:54.162Z"
   },
   {
    "duration": 25,
    "start_time": "2022-07-18T13:50:54.176Z"
   },
   {
    "duration": 4,
    "start_time": "2022-07-18T13:50:54.202Z"
   },
   {
    "duration": 20,
    "start_time": "2022-07-18T13:50:54.208Z"
   },
   {
    "duration": 13,
    "start_time": "2022-07-18T13:50:54.230Z"
   },
   {
    "duration": 12,
    "start_time": "2022-07-18T13:50:54.244Z"
   },
   {
    "duration": 46,
    "start_time": "2022-07-18T13:50:54.258Z"
   },
   {
    "duration": 15,
    "start_time": "2022-07-18T13:50:54.305Z"
   },
   {
    "duration": 13,
    "start_time": "2022-07-18T13:50:54.321Z"
   },
   {
    "duration": 78,
    "start_time": "2022-07-18T13:50:54.336Z"
   },
   {
    "duration": 10,
    "start_time": "2022-07-18T13:50:54.415Z"
   },
   {
    "duration": 8,
    "start_time": "2022-07-18T13:50:54.427Z"
   },
   {
    "duration": 23,
    "start_time": "2022-07-18T13:50:54.436Z"
   },
   {
    "duration": 40,
    "start_time": "2022-07-18T13:50:54.460Z"
   },
   {
    "duration": 12,
    "start_time": "2022-07-18T13:50:54.501Z"
   },
   {
    "duration": 16,
    "start_time": "2022-07-18T13:50:54.514Z"
   },
   {
    "duration": 11,
    "start_time": "2022-07-18T13:50:54.532Z"
   },
   {
    "duration": 20,
    "start_time": "2022-07-18T13:50:54.545Z"
   },
   {
    "duration": 33,
    "start_time": "2022-07-18T13:50:54.566Z"
   },
   {
    "duration": 16,
    "start_time": "2022-07-18T13:50:54.601Z"
   },
   {
    "duration": 3,
    "start_time": "2022-07-18T13:50:54.619Z"
   },
   {
    "duration": 14,
    "start_time": "2022-07-18T15:31:03.959Z"
   },
   {
    "duration": 43,
    "start_time": "2022-07-18T15:31:09.737Z"
   },
   {
    "duration": 3,
    "start_time": "2022-07-18T15:31:21.234Z"
   },
   {
    "duration": 7,
    "start_time": "2022-07-18T15:31:24.848Z"
   },
   {
    "duration": 9,
    "start_time": "2022-07-18T15:31:32.510Z"
   },
   {
    "duration": 691,
    "start_time": "2022-07-18T15:36:07.278Z"
   },
   {
    "duration": 122,
    "start_time": "2022-07-18T15:36:07.971Z"
   },
   {
    "duration": 6,
    "start_time": "2022-07-18T15:36:08.095Z"
   },
   {
    "duration": 45,
    "start_time": "2022-07-18T15:36:08.103Z"
   },
   {
    "duration": 4,
    "start_time": "2022-07-18T15:36:08.150Z"
   },
   {
    "duration": 16,
    "start_time": "2022-07-18T15:36:08.155Z"
   },
   {
    "duration": 9,
    "start_time": "2022-07-18T15:36:08.173Z"
   },
   {
    "duration": 25,
    "start_time": "2022-07-18T15:36:08.183Z"
   },
   {
    "duration": 37,
    "start_time": "2022-07-18T15:36:08.209Z"
   },
   {
    "duration": 25,
    "start_time": "2022-07-18T15:36:08.248Z"
   },
   {
    "duration": 79,
    "start_time": "2022-07-18T15:36:08.274Z"
   },
   {
    "duration": 73,
    "start_time": "2022-07-18T15:36:08.355Z"
   },
   {
    "duration": 59,
    "start_time": "2022-07-18T15:36:08.430Z"
   },
   {
    "duration": 89,
    "start_time": "2022-07-18T15:36:08.490Z"
   },
   {
    "duration": 3,
    "start_time": "2022-07-18T15:36:08.581Z"
   },
   {
    "duration": 17,
    "start_time": "2022-07-18T15:36:08.586Z"
   },
   {
    "duration": 87,
    "start_time": "2022-07-18T15:36:08.605Z"
   },
   {
    "duration": 10,
    "start_time": "2022-07-18T15:36:08.694Z"
   },
   {
    "duration": 28,
    "start_time": "2022-07-18T15:36:08.706Z"
   },
   {
    "duration": 6,
    "start_time": "2022-07-18T15:36:08.737Z"
   },
   {
    "duration": 17,
    "start_time": "2022-07-18T15:36:08.745Z"
   },
   {
    "duration": 12,
    "start_time": "2022-07-18T15:36:08.764Z"
   },
   {
    "duration": 14,
    "start_time": "2022-07-18T15:36:08.778Z"
   },
   {
    "duration": 44,
    "start_time": "2022-07-18T15:36:08.794Z"
   },
   {
    "duration": 29,
    "start_time": "2022-07-18T15:36:08.840Z"
   },
   {
    "duration": 19,
    "start_time": "2022-07-18T15:36:08.871Z"
   },
   {
    "duration": 96,
    "start_time": "2022-07-18T15:36:08.892Z"
   },
   {
    "duration": 10,
    "start_time": "2022-07-18T15:36:08.992Z"
   },
   {
    "duration": 21,
    "start_time": "2022-07-18T15:36:09.003Z"
   },
   {
    "duration": 29,
    "start_time": "2022-07-18T15:36:09.027Z"
   },
   {
    "duration": 15,
    "start_time": "2022-07-18T15:36:09.058Z"
   },
   {
    "duration": 12,
    "start_time": "2022-07-18T15:36:09.075Z"
   },
   {
    "duration": 52,
    "start_time": "2022-07-18T15:36:09.089Z"
   },
   {
    "duration": 13,
    "start_time": "2022-07-18T15:36:09.143Z"
   },
   {
    "duration": 24,
    "start_time": "2022-07-18T15:36:09.157Z"
   },
   {
    "duration": 3,
    "start_time": "2022-07-18T15:36:09.183Z"
   },
   {
    "duration": 51,
    "start_time": "2022-07-18T15:36:09.188Z"
   },
   {
    "duration": 5,
    "start_time": "2022-07-18T15:36:09.241Z"
   },
   {
    "duration": 11,
    "start_time": "2022-07-18T15:45:13.940Z"
   },
   {
    "duration": 9,
    "start_time": "2022-07-18T15:45:27.168Z"
   },
   {
    "duration": 11,
    "start_time": "2022-07-18T15:45:39.800Z"
   },
   {
    "duration": 5,
    "start_time": "2022-07-18T15:46:05.586Z"
   },
   {
    "duration": 4,
    "start_time": "2022-07-18T15:46:14.053Z"
   },
   {
    "duration": 143,
    "start_time": "2022-07-18T15:46:53.796Z"
   },
   {
    "duration": 59,
    "start_time": "2022-07-18T15:55:43.839Z"
   },
   {
    "duration": 158,
    "start_time": "2022-07-18T15:55:49.317Z"
   },
   {
    "duration": 135,
    "start_time": "2022-07-18T15:55:49.477Z"
   },
   {
    "duration": 17,
    "start_time": "2022-07-18T15:55:49.614Z"
   },
   {
    "duration": 33,
    "start_time": "2022-07-18T15:55:49.633Z"
   },
   {
    "duration": 4,
    "start_time": "2022-07-18T15:55:49.668Z"
   },
   {
    "duration": 11,
    "start_time": "2022-07-18T15:55:49.673Z"
   },
   {
    "duration": 5,
    "start_time": "2022-07-18T15:55:49.685Z"
   },
   {
    "duration": 47,
    "start_time": "2022-07-18T15:55:49.692Z"
   },
   {
    "duration": 22,
    "start_time": "2022-07-18T15:55:49.740Z"
   },
   {
    "duration": 23,
    "start_time": "2022-07-18T15:55:49.764Z"
   },
   {
    "duration": 66,
    "start_time": "2022-07-18T15:55:49.789Z"
   },
   {
    "duration": 68,
    "start_time": "2022-07-18T15:55:49.856Z"
   },
   {
    "duration": 52,
    "start_time": "2022-07-18T15:55:49.926Z"
   },
   {
    "duration": 88,
    "start_time": "2022-07-18T15:55:49.979Z"
   },
   {
    "duration": 4,
    "start_time": "2022-07-18T15:55:50.068Z"
   },
   {
    "duration": 18,
    "start_time": "2022-07-18T15:55:50.073Z"
   },
   {
    "duration": 80,
    "start_time": "2022-07-18T15:55:50.092Z"
   },
   {
    "duration": 11,
    "start_time": "2022-07-18T15:55:50.174Z"
   },
   {
    "duration": 12,
    "start_time": "2022-07-18T15:55:50.186Z"
   },
   {
    "duration": 5,
    "start_time": "2022-07-18T15:55:50.200Z"
   },
   {
    "duration": 16,
    "start_time": "2022-07-18T15:55:50.224Z"
   },
   {
    "duration": 14,
    "start_time": "2022-07-18T15:55:50.241Z"
   },
   {
    "duration": 13,
    "start_time": "2022-07-18T15:55:50.256Z"
   },
   {
    "duration": 13,
    "start_time": "2022-07-18T15:55:50.271Z"
   },
   {
    "duration": 54,
    "start_time": "2022-07-18T15:55:50.286Z"
   },
   {
    "duration": 14,
    "start_time": "2022-07-18T15:55:50.343Z"
   },
   {
    "duration": 77,
    "start_time": "2022-07-18T15:55:50.359Z"
   },
   {
    "duration": 11,
    "start_time": "2022-07-18T15:55:50.439Z"
   },
   {
    "duration": 11,
    "start_time": "2022-07-18T15:55:50.451Z"
   },
   {
    "duration": 21,
    "start_time": "2022-07-18T15:55:50.463Z"
   },
   {
    "duration": 40,
    "start_time": "2022-07-18T15:55:50.485Z"
   },
   {
    "duration": 13,
    "start_time": "2022-07-18T15:55:50.527Z"
   },
   {
    "duration": 19,
    "start_time": "2022-07-18T15:55:50.542Z"
   },
   {
    "duration": 13,
    "start_time": "2022-07-18T15:55:50.563Z"
   },
   {
    "duration": 49,
    "start_time": "2022-07-18T15:55:50.578Z"
   },
   {
    "duration": 4,
    "start_time": "2022-07-18T15:55:50.629Z"
   },
   {
    "duration": 16,
    "start_time": "2022-07-18T15:55:50.635Z"
   },
   {
    "duration": 4,
    "start_time": "2022-07-18T15:55:50.652Z"
   },
   {
    "duration": 181,
    "start_time": "2022-07-18T16:03:03.757Z"
   },
   {
    "duration": 136,
    "start_time": "2022-07-18T16:03:03.939Z"
   },
   {
    "duration": 11,
    "start_time": "2022-07-18T16:03:04.076Z"
   },
   {
    "duration": 40,
    "start_time": "2022-07-18T16:03:04.089Z"
   },
   {
    "duration": 11,
    "start_time": "2022-07-18T16:03:04.131Z"
   },
   {
    "duration": 16,
    "start_time": "2022-07-18T16:03:04.144Z"
   },
   {
    "duration": 5,
    "start_time": "2022-07-18T16:03:04.161Z"
   },
   {
    "duration": 26,
    "start_time": "2022-07-18T16:03:04.168Z"
   },
   {
    "duration": 29,
    "start_time": "2022-07-18T16:03:04.196Z"
   },
   {
    "duration": 24,
    "start_time": "2022-07-18T16:03:04.227Z"
   },
   {
    "duration": 80,
    "start_time": "2022-07-18T16:03:04.253Z"
   },
   {
    "duration": 100,
    "start_time": "2022-07-18T16:03:04.335Z"
   },
   {
    "duration": 56,
    "start_time": "2022-07-18T16:03:04.436Z"
   },
   {
    "duration": 110,
    "start_time": "2022-07-18T16:03:04.493Z"
   },
   {
    "duration": 4,
    "start_time": "2022-07-18T16:03:04.605Z"
   },
   {
    "duration": 22,
    "start_time": "2022-07-18T16:03:04.611Z"
   },
   {
    "duration": 90,
    "start_time": "2022-07-18T16:03:04.635Z"
   },
   {
    "duration": 13,
    "start_time": "2022-07-18T16:03:04.726Z"
   },
   {
    "duration": 15,
    "start_time": "2022-07-18T16:03:04.741Z"
   },
   {
    "duration": 8,
    "start_time": "2022-07-18T16:03:04.758Z"
   },
   {
    "duration": 39,
    "start_time": "2022-07-18T16:03:04.768Z"
   },
   {
    "duration": 15,
    "start_time": "2022-07-18T16:03:04.824Z"
   },
   {
    "duration": 15,
    "start_time": "2022-07-18T16:03:04.841Z"
   },
   {
    "duration": 14,
    "start_time": "2022-07-18T16:03:04.858Z"
   },
   {
    "duration": 28,
    "start_time": "2022-07-18T16:03:04.874Z"
   },
   {
    "duration": 16,
    "start_time": "2022-07-18T16:03:04.923Z"
   },
   {
    "duration": 86,
    "start_time": "2022-07-18T16:03:04.941Z"
   },
   {
    "duration": 13,
    "start_time": "2022-07-18T16:03:05.030Z"
   },
   {
    "duration": 11,
    "start_time": "2022-07-18T16:03:05.045Z"
   },
   {
    "duration": 25,
    "start_time": "2022-07-18T16:03:05.058Z"
   },
   {
    "duration": 47,
    "start_time": "2022-07-18T16:03:05.084Z"
   },
   {
    "duration": 12,
    "start_time": "2022-07-18T16:03:05.132Z"
   },
   {
    "duration": 19,
    "start_time": "2022-07-18T16:03:05.146Z"
   },
   {
    "duration": 12,
    "start_time": "2022-07-18T16:03:05.167Z"
   },
   {
    "duration": 56,
    "start_time": "2022-07-18T16:03:05.181Z"
   },
   {
    "duration": 4,
    "start_time": "2022-07-18T16:03:05.239Z"
   },
   {
    "duration": 20,
    "start_time": "2022-07-18T16:03:05.245Z"
   },
   {
    "duration": 4,
    "start_time": "2022-07-18T16:03:05.267Z"
   }
  ],
  "colab": {
   "collapsed_sections": [
    "E0vqbgi9ay0H",
    "VUC88oWjTJw2",
    "atZAxtq4_Zcu"
   ],
   "name": "EmptyFinalProject.ipynb\"",
   "provenance": []
  },
  "kernelspec": {
   "display_name": "Python 3 (ipykernel)",
   "language": "python",
   "name": "python3"
  },
  "language_info": {
   "codemirror_mode": {
    "name": "ipython",
    "version": 3
   },
   "file_extension": ".py",
   "mimetype": "text/x-python",
   "name": "python",
   "nbconvert_exporter": "python",
   "pygments_lexer": "ipython3",
   "version": "3.9.12"
  },
  "toc": {
   "base_numbering": 1,
   "nav_menu": {},
   "number_sections": false,
   "sideBar": true,
   "skip_h1_title": true,
   "title_cell": "Table of Contents",
   "title_sidebar": "Contents",
   "toc_cell": false,
   "toc_position": {
    "height": "calc(100% - 180px)",
    "left": "10px",
    "top": "150px",
    "width": "303.837px"
   },
   "toc_section_display": true,
   "toc_window_display": true
  }
 },
 "nbformat": 4,
 "nbformat_minor": 4
}
