{
 "cells": [
  {
   "cell_type": "markdown",
   "id": "e86163cf",
   "metadata": {},
   "source": [
    "# E-Commerce: Product Range Analysis"
   ]
  },
  {
   "cell_type": "markdown",
   "id": "89d9c904",
   "metadata": {},
   "source": [
    "## Project description"
   ]
  },
  {
   "cell_type": "markdown",
   "id": "6685027b",
   "metadata": {},
   "source": [
    "We (a large retail chain) have recently acquired a small local store.\n",
    "\n",
    "We wanna keep it as business, but improve the efficiency of sales. For that we need to know, what the store has been selling, what's the assortment and how the sales are going.\n",
    "\n",
    "Ideally, in the future we want to optimize the PR (Product Range) - keep only popular and \"effective\" items. For now we want to understand the general picture, as well as what we need to have in stock a lot, what we do not buy and sell anymore and so on."
   ]
  },
  {
   "cell_type": "markdown",
   "id": "f73ba7bd",
   "metadata": {},
   "source": [
    "**Task:**\n",
    "\n",
    "The project main business goal  is to study the assortment of the store :\n",
    "- what do we sell and how it's sold\n",
    "- what are popular items? What are items are not popular?\n",
    "- what items generate the biggest revenue? What items are sold together and etc.\n",
    "\n",
    "Based on our research as a team we need to make recommendations to the head managers on  how to change/improve product range."
   ]
  },
  {
   "cell_type": "markdown",
   "id": "f8788f04",
   "metadata": {},
   "source": [
    "**Description of the data:**\n",
    "\n",
    "The dataset contains the transaction history of an online store that sells household goods.\n",
    "The file `ecommerce_dataset_us.csv` contains the following columns:\n",
    "- `InvoiceNo` — order identifier\n",
    "- `StockCode` — item identifier\n",
    "- `Description` — item name\n",
    "- `Quantity`\n",
    "- `InvoiceDate` — order date\n",
    "- `UnitPrice` — price per item\n",
    "- `CustomerID`"
   ]
  },
  {
   "cell_type": "markdown",
   "id": "9fa0254a",
   "metadata": {},
   "source": [
    "## Step 1: Loading and processing of data"
   ]
  },
  {
   "cell_type": "markdown",
   "id": "6f5f3b4b",
   "metadata": {},
   "source": [
    "- Download libraries\n",
    "- Open data file and study general information\n",
    "- Change data type, if required\n",
    "- Identify and study missing values, if any\n",
    "- Identify and study duplicates, if any"
   ]
  },
  {
   "cell_type": "markdown",
   "id": "9fe89e11",
   "metadata": {},
   "source": [
    "## Step 2: Exploratory data analysis"
   ]
  },
  {
   "cell_type": "markdown",
   "id": "dae79c1f",
   "metadata": {},
   "source": [
    "- Explore data ranges: number of unique values, mean, maximum and minimum values\n",
    "- Investigate outliers\n",
    "- Investigate zero values and negative values"
   ]
  },
  {
   "cell_type": "markdown",
   "id": "b35a02c8",
   "metadata": {},
   "source": [
    "## Step 3: Enrich and categorize data"
   ]
  },
  {
   "cell_type": "markdown",
   "id": "5e159ad6",
   "metadata": {},
   "source": [
    "- Add revenue column\n",
    "- Analyze time-line of revenue, average price and average check\n",
    "- Categorize item data:\n",
    "    - by price\n",
    "    - by key words (using lemmatization)\n",
    "    - by recency, frequency and monetary value sales\n",
    "- Study and describe items categories"
   ]
  },
  {
   "cell_type": "markdown",
   "id": "d766bea9",
   "metadata": {},
   "source": [
    "## Step 4: Hypotheses testing"
   ]
  },
  {
   "cell_type": "markdown",
   "id": "9b9b29fa",
   "metadata": {},
   "source": [
    "- Formulate and test statistical hypotheses with regards to product range"
   ]
  },
  {
   "cell_type": "markdown",
   "id": "70d0d2a4",
   "metadata": {},
   "source": [
    "## Step 5: Overall conclusion and deliverables"
   ]
  },
  {
   "cell_type": "markdown",
   "id": "e1895609",
   "metadata": {},
   "source": [
    "- Formulate overall conclusion of analysis and recommendations to management\n",
    "- Prepare presentation\n",
    "- Prepare dashboard"
   ]
  },
  {
   "cell_type": "code",
   "execution_count": null,
   "id": "cadc1e93",
   "metadata": {},
   "outputs": [],
   "source": []
  }
 ],
 "metadata": {
  "kernelspec": {
   "display_name": "Python 3 (ipykernel)",
   "language": "python",
   "name": "python3"
  },
  "language_info": {
   "codemirror_mode": {
    "name": "ipython",
    "version": 3
   },
   "file_extension": ".py",
   "mimetype": "text/x-python",
   "name": "python",
   "nbconvert_exporter": "python",
   "pygments_lexer": "ipython3",
   "version": "3.9.12"
  },
  "toc": {
   "base_numbering": 1,
   "nav_menu": {},
   "number_sections": false,
   "sideBar": true,
   "skip_h1_title": false,
   "title_cell": "Table of Contents",
   "title_sidebar": "Contents",
   "toc_cell": false,
   "toc_position": {},
   "toc_section_display": true,
   "toc_window_display": true
  }
 },
 "nbformat": 4,
 "nbformat_minor": 5
}
