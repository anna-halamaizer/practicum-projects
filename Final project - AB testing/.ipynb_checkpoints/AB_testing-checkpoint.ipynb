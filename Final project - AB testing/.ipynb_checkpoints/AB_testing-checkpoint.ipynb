{
 "cells": [
  {
   "cell_type": "markdown",
   "id": "387f6bad",
   "metadata": {},
   "source": [
    "# Final project. Part 1. Recommender system A/B testing"
   ]
  },
  {
   "cell_type": "markdown",
   "id": "829422ce",
   "metadata": {},
   "source": [
    "**Project background:**\n",
    "\n",
    "You've received an analytical task from an international on-line store. Your predecessor failed to complete it: they launched an A/B test and then quit (to start a watermelon farm in Brazil). They left only the technical specifications and the test results."
   ]
  },
  {
   "cell_type": "markdown",
   "id": "ca864cfc",
   "metadata": {},
   "source": [
    "**Technical description of test:**\n",
    "- Test name: `recommender_system_test`\n",
    "- Groups: А (control), B (new payment funnel)\n",
    "- Launch date: 2020-12-07\n",
    "- The date when they stopped taking up new users: 2020-12-21\n",
    "- End date: 2021-01-01\n",
    "- Audience: 15% of the new users from the EU region\n",
    "- Purpose of the test: testing changes related to the introduction of an improved recommendation system\n",
    "- Expected result: within 14 days of signing up, users will show better conversion into product page views (the `product_page` event), product card views (`product_card`) and purchases (`purchase`). At each of the stage of the funnel `product_page → product_card → purchase`, there will be at least a 10% increase.\n",
    "- Expected number of test participants: 6000"
   ]
  },
  {
   "cell_type": "markdown",
   "id": "8e3015fc",
   "metadata": {},
   "source": [
    "**Datasets:**\n",
    "- `ab_project_marketing_events_us.csv` — the calendar of marketing events for 2020\n",
    "- `final_ab_new_users_upd.csv` — all users who signed up in the on-line store from December 7 to 21, 2020\n",
    "- `final_ab_events_upd.csv` — all events of the new users within the period from December 7, 2020 to January 1, 2021\n",
    "- `final_ab_participants_upd.csv` — table containing test participants"
   ]
  },
  {
   "cell_type": "markdown",
   "id": "6439c2b4",
   "metadata": {},
   "source": [
    "## Downloading data"
   ]
  },
  {
   "cell_type": "markdown",
   "id": "23883e94",
   "metadata": {},
   "source": [
    "### Libraries"
   ]
  },
  {
   "cell_type": "code",
   "execution_count": 1,
   "id": "5b7df7a6",
   "metadata": {},
   "outputs": [],
   "source": [
    "import pandas as pd\n",
    "import plotly.express as px\n",
    "from plotly import graph_objects as go\n",
    "import math\n",
    "from scipy import stats"
   ]
  },
  {
   "cell_type": "markdown",
   "id": "cd865b6b",
   "metadata": {},
   "source": [
    "### Marketing events"
   ]
  },
  {
   "cell_type": "code",
   "execution_count": 2,
   "id": "373265c7",
   "metadata": {},
   "outputs": [],
   "source": [
    "try:\n",
    "    marketing = pd.read_csv('ab_project_marketing_events_us.csv')\n",
    "except:\n",
    "    marketing = pd.read_csv('/datasets/ab_project_marketing_events_us.csv')"
   ]
  },
  {
   "cell_type": "code",
   "execution_count": 3,
   "id": "1b450fc8",
   "metadata": {},
   "outputs": [
    {
     "data": {
      "text/html": [
       "<div>\n",
       "<style scoped>\n",
       "    .dataframe tbody tr th:only-of-type {\n",
       "        vertical-align: middle;\n",
       "    }\n",
       "\n",
       "    .dataframe tbody tr th {\n",
       "        vertical-align: top;\n",
       "    }\n",
       "\n",
       "    .dataframe thead th {\n",
       "        text-align: right;\n",
       "    }\n",
       "</style>\n",
       "<table border=\"1\" class=\"dataframe\">\n",
       "  <thead>\n",
       "    <tr style=\"text-align: right;\">\n",
       "      <th></th>\n",
       "      <th>name</th>\n",
       "      <th>regions</th>\n",
       "      <th>start_dt</th>\n",
       "      <th>finish_dt</th>\n",
       "    </tr>\n",
       "  </thead>\n",
       "  <tbody>\n",
       "    <tr>\n",
       "      <th>0</th>\n",
       "      <td>Christmas&amp;New Year Promo</td>\n",
       "      <td>EU, N.America</td>\n",
       "      <td>2020-12-25</td>\n",
       "      <td>2021-01-03</td>\n",
       "    </tr>\n",
       "    <tr>\n",
       "      <th>1</th>\n",
       "      <td>St. Valentine's Day Giveaway</td>\n",
       "      <td>EU, CIS, APAC, N.America</td>\n",
       "      <td>2020-02-14</td>\n",
       "      <td>2020-02-16</td>\n",
       "    </tr>\n",
       "    <tr>\n",
       "      <th>2</th>\n",
       "      <td>St. Patric's Day Promo</td>\n",
       "      <td>EU, N.America</td>\n",
       "      <td>2020-03-17</td>\n",
       "      <td>2020-03-19</td>\n",
       "    </tr>\n",
       "    <tr>\n",
       "      <th>3</th>\n",
       "      <td>Easter Promo</td>\n",
       "      <td>EU, CIS, APAC, N.America</td>\n",
       "      <td>2020-04-12</td>\n",
       "      <td>2020-04-19</td>\n",
       "    </tr>\n",
       "    <tr>\n",
       "      <th>4</th>\n",
       "      <td>4th of July Promo</td>\n",
       "      <td>N.America</td>\n",
       "      <td>2020-07-04</td>\n",
       "      <td>2020-07-11</td>\n",
       "    </tr>\n",
       "  </tbody>\n",
       "</table>\n",
       "</div>"
      ],
      "text/plain": [
       "                           name                   regions    start_dt  \\\n",
       "0      Christmas&New Year Promo             EU, N.America  2020-12-25   \n",
       "1  St. Valentine's Day Giveaway  EU, CIS, APAC, N.America  2020-02-14   \n",
       "2        St. Patric's Day Promo             EU, N.America  2020-03-17   \n",
       "3                  Easter Promo  EU, CIS, APAC, N.America  2020-04-12   \n",
       "4             4th of July Promo                 N.America  2020-07-04   \n",
       "\n",
       "    finish_dt  \n",
       "0  2021-01-03  \n",
       "1  2020-02-16  \n",
       "2  2020-03-19  \n",
       "3  2020-04-19  \n",
       "4  2020-07-11  "
      ]
     },
     "execution_count": 3,
     "metadata": {},
     "output_type": "execute_result"
    }
   ],
   "source": [
    "marketing.head()"
   ]
  },
  {
   "cell_type": "code",
   "execution_count": 4,
   "id": "c7be31a5",
   "metadata": {},
   "outputs": [
    {
     "name": "stdout",
     "output_type": "stream",
     "text": [
      "<class 'pandas.core.frame.DataFrame'>\n",
      "RangeIndex: 14 entries, 0 to 13\n",
      "Data columns (total 4 columns):\n",
      " #   Column     Non-Null Count  Dtype \n",
      "---  ------     --------------  ----- \n",
      " 0   name       14 non-null     object\n",
      " 1   regions    14 non-null     object\n",
      " 2   start_dt   14 non-null     object\n",
      " 3   finish_dt  14 non-null     object\n",
      "dtypes: object(4)\n",
      "memory usage: 576.0+ bytes\n"
     ]
    }
   ],
   "source": [
    "marketing.info()"
   ]
  },
  {
   "cell_type": "markdown",
   "id": "80baf048",
   "metadata": {},
   "source": [
    "- `name` — the name of the marketing event\n",
    "- `regions` — regions where the ad campaign will be held\n",
    "- `start_dt` — campaign start date\n",
    "- `finish_dt` — campaign end date"
   ]
  },
  {
   "cell_type": "code",
   "execution_count": 5,
   "id": "6a4975a0",
   "metadata": {},
   "outputs": [
    {
     "data": {
      "text/html": [
       "<div>\n",
       "<style scoped>\n",
       "    .dataframe tbody tr th:only-of-type {\n",
       "        vertical-align: middle;\n",
       "    }\n",
       "\n",
       "    .dataframe tbody tr th {\n",
       "        vertical-align: top;\n",
       "    }\n",
       "\n",
       "    .dataframe thead th {\n",
       "        text-align: right;\n",
       "    }\n",
       "</style>\n",
       "<table border=\"1\" class=\"dataframe\">\n",
       "  <thead>\n",
       "    <tr style=\"text-align: right;\">\n",
       "      <th></th>\n",
       "      <th>name</th>\n",
       "      <th>regions</th>\n",
       "      <th>start_dt</th>\n",
       "      <th>finish_dt</th>\n",
       "    </tr>\n",
       "  </thead>\n",
       "  <tbody>\n",
       "    <tr>\n",
       "      <th>0</th>\n",
       "      <td>Christmas&amp;New Year Promo</td>\n",
       "      <td>EU, N.America</td>\n",
       "      <td>2020-12-25</td>\n",
       "      <td>2021-01-03</td>\n",
       "    </tr>\n",
       "    <tr>\n",
       "      <th>1</th>\n",
       "      <td>St. Valentine's Day Giveaway</td>\n",
       "      <td>EU, CIS, APAC, N.America</td>\n",
       "      <td>2020-02-14</td>\n",
       "      <td>2020-02-16</td>\n",
       "    </tr>\n",
       "    <tr>\n",
       "      <th>2</th>\n",
       "      <td>St. Patric's Day Promo</td>\n",
       "      <td>EU, N.America</td>\n",
       "      <td>2020-03-17</td>\n",
       "      <td>2020-03-19</td>\n",
       "    </tr>\n",
       "    <tr>\n",
       "      <th>3</th>\n",
       "      <td>Easter Promo</td>\n",
       "      <td>EU, CIS, APAC, N.America</td>\n",
       "      <td>2020-04-12</td>\n",
       "      <td>2020-04-19</td>\n",
       "    </tr>\n",
       "    <tr>\n",
       "      <th>4</th>\n",
       "      <td>4th of July Promo</td>\n",
       "      <td>N.America</td>\n",
       "      <td>2020-07-04</td>\n",
       "      <td>2020-07-11</td>\n",
       "    </tr>\n",
       "    <tr>\n",
       "      <th>5</th>\n",
       "      <td>Black Friday Ads Campaign</td>\n",
       "      <td>EU, CIS, APAC, N.America</td>\n",
       "      <td>2020-11-26</td>\n",
       "      <td>2020-12-01</td>\n",
       "    </tr>\n",
       "    <tr>\n",
       "      <th>6</th>\n",
       "      <td>Chinese New Year Promo</td>\n",
       "      <td>APAC</td>\n",
       "      <td>2020-01-25</td>\n",
       "      <td>2020-02-07</td>\n",
       "    </tr>\n",
       "    <tr>\n",
       "      <th>7</th>\n",
       "      <td>Labor day (May 1st) Ads Campaign</td>\n",
       "      <td>EU, CIS, APAC</td>\n",
       "      <td>2020-05-01</td>\n",
       "      <td>2020-05-03</td>\n",
       "    </tr>\n",
       "    <tr>\n",
       "      <th>8</th>\n",
       "      <td>International Women's Day Promo</td>\n",
       "      <td>EU, CIS, APAC</td>\n",
       "      <td>2020-03-08</td>\n",
       "      <td>2020-03-10</td>\n",
       "    </tr>\n",
       "    <tr>\n",
       "      <th>9</th>\n",
       "      <td>Victory Day CIS (May 9th) Event</td>\n",
       "      <td>CIS</td>\n",
       "      <td>2020-05-09</td>\n",
       "      <td>2020-05-11</td>\n",
       "    </tr>\n",
       "    <tr>\n",
       "      <th>10</th>\n",
       "      <td>CIS New Year Gift Lottery</td>\n",
       "      <td>CIS</td>\n",
       "      <td>2020-12-30</td>\n",
       "      <td>2021-01-07</td>\n",
       "    </tr>\n",
       "    <tr>\n",
       "      <th>11</th>\n",
       "      <td>Dragon Boat Festival Giveaway</td>\n",
       "      <td>APAC</td>\n",
       "      <td>2020-06-25</td>\n",
       "      <td>2020-07-01</td>\n",
       "    </tr>\n",
       "    <tr>\n",
       "      <th>12</th>\n",
       "      <td>Single's Day Gift Promo</td>\n",
       "      <td>APAC</td>\n",
       "      <td>2020-11-11</td>\n",
       "      <td>2020-11-12</td>\n",
       "    </tr>\n",
       "    <tr>\n",
       "      <th>13</th>\n",
       "      <td>Chinese Moon Festival</td>\n",
       "      <td>APAC</td>\n",
       "      <td>2020-10-01</td>\n",
       "      <td>2020-10-07</td>\n",
       "    </tr>\n",
       "  </tbody>\n",
       "</table>\n",
       "</div>"
      ],
      "text/plain": [
       "                                name                   regions    start_dt  \\\n",
       "0           Christmas&New Year Promo             EU, N.America  2020-12-25   \n",
       "1       St. Valentine's Day Giveaway  EU, CIS, APAC, N.America  2020-02-14   \n",
       "2             St. Patric's Day Promo             EU, N.America  2020-03-17   \n",
       "3                       Easter Promo  EU, CIS, APAC, N.America  2020-04-12   \n",
       "4                  4th of July Promo                 N.America  2020-07-04   \n",
       "5          Black Friday Ads Campaign  EU, CIS, APAC, N.America  2020-11-26   \n",
       "6             Chinese New Year Promo                      APAC  2020-01-25   \n",
       "7   Labor day (May 1st) Ads Campaign             EU, CIS, APAC  2020-05-01   \n",
       "8    International Women's Day Promo             EU, CIS, APAC  2020-03-08   \n",
       "9    Victory Day CIS (May 9th) Event                       CIS  2020-05-09   \n",
       "10         CIS New Year Gift Lottery                       CIS  2020-12-30   \n",
       "11     Dragon Boat Festival Giveaway                      APAC  2020-06-25   \n",
       "12           Single's Day Gift Promo                      APAC  2020-11-11   \n",
       "13             Chinese Moon Festival                      APAC  2020-10-01   \n",
       "\n",
       "     finish_dt  \n",
       "0   2021-01-03  \n",
       "1   2020-02-16  \n",
       "2   2020-03-19  \n",
       "3   2020-04-19  \n",
       "4   2020-07-11  \n",
       "5   2020-12-01  \n",
       "6   2020-02-07  \n",
       "7   2020-05-03  \n",
       "8   2020-03-10  \n",
       "9   2020-05-11  \n",
       "10  2021-01-07  \n",
       "11  2020-07-01  \n",
       "12  2020-11-12  \n",
       "13  2020-10-07  "
      ]
     },
     "execution_count": 5,
     "metadata": {},
     "output_type": "execute_result"
    }
   ],
   "source": [
    "marketing"
   ]
  },
  {
   "cell_type": "code",
   "execution_count": 6,
   "id": "01fde82e",
   "metadata": {},
   "outputs": [],
   "source": [
    "marketing['start_dt']=pd.to_datetime(marketing['start_dt'], format='%Y-%m-%d')"
   ]
  },
  {
   "cell_type": "code",
   "execution_count": 7,
   "id": "aa1ec1ad",
   "metadata": {},
   "outputs": [],
   "source": [
    "marketing['finish_dt']=pd.to_datetime(marketing['finish_dt'], format='%Y-%m-%d')"
   ]
  },
  {
   "cell_type": "markdown",
   "id": "d5b2ef0d",
   "metadata": {},
   "source": [
    "### New Users"
   ]
  },
  {
   "cell_type": "code",
   "execution_count": 8,
   "id": "00626bf7",
   "metadata": {},
   "outputs": [],
   "source": [
    "try:\n",
    "    users = pd.read_csv('final_ab_new_users_upd_us.csv')\n",
    "except:\n",
    "    users = pd.read_csv('/datasets/final_ab_new_users_upd_us.csv')"
   ]
  },
  {
   "cell_type": "code",
   "execution_count": 9,
   "id": "b25f14c6",
   "metadata": {},
   "outputs": [
    {
     "data": {
      "text/html": [
       "<div>\n",
       "<style scoped>\n",
       "    .dataframe tbody tr th:only-of-type {\n",
       "        vertical-align: middle;\n",
       "    }\n",
       "\n",
       "    .dataframe tbody tr th {\n",
       "        vertical-align: top;\n",
       "    }\n",
       "\n",
       "    .dataframe thead th {\n",
       "        text-align: right;\n",
       "    }\n",
       "</style>\n",
       "<table border=\"1\" class=\"dataframe\">\n",
       "  <thead>\n",
       "    <tr style=\"text-align: right;\">\n",
       "      <th></th>\n",
       "      <th>user_id</th>\n",
       "      <th>first_date</th>\n",
       "      <th>region</th>\n",
       "      <th>device</th>\n",
       "    </tr>\n",
       "  </thead>\n",
       "  <tbody>\n",
       "    <tr>\n",
       "      <th>0</th>\n",
       "      <td>D72A72121175D8BE</td>\n",
       "      <td>2020-12-07</td>\n",
       "      <td>EU</td>\n",
       "      <td>PC</td>\n",
       "    </tr>\n",
       "    <tr>\n",
       "      <th>1</th>\n",
       "      <td>F1C668619DFE6E65</td>\n",
       "      <td>2020-12-07</td>\n",
       "      <td>N.America</td>\n",
       "      <td>Android</td>\n",
       "    </tr>\n",
       "    <tr>\n",
       "      <th>2</th>\n",
       "      <td>2E1BF1D4C37EA01F</td>\n",
       "      <td>2020-12-07</td>\n",
       "      <td>EU</td>\n",
       "      <td>PC</td>\n",
       "    </tr>\n",
       "    <tr>\n",
       "      <th>3</th>\n",
       "      <td>50734A22C0C63768</td>\n",
       "      <td>2020-12-07</td>\n",
       "      <td>EU</td>\n",
       "      <td>iPhone</td>\n",
       "    </tr>\n",
       "    <tr>\n",
       "      <th>4</th>\n",
       "      <td>E1BDDCE0DAFA2679</td>\n",
       "      <td>2020-12-07</td>\n",
       "      <td>N.America</td>\n",
       "      <td>iPhone</td>\n",
       "    </tr>\n",
       "  </tbody>\n",
       "</table>\n",
       "</div>"
      ],
      "text/plain": [
       "            user_id  first_date     region   device\n",
       "0  D72A72121175D8BE  2020-12-07         EU       PC\n",
       "1  F1C668619DFE6E65  2020-12-07  N.America  Android\n",
       "2  2E1BF1D4C37EA01F  2020-12-07         EU       PC\n",
       "3  50734A22C0C63768  2020-12-07         EU   iPhone\n",
       "4  E1BDDCE0DAFA2679  2020-12-07  N.America   iPhone"
      ]
     },
     "execution_count": 9,
     "metadata": {},
     "output_type": "execute_result"
    }
   ],
   "source": [
    "users.head()"
   ]
  },
  {
   "cell_type": "code",
   "execution_count": 10,
   "id": "c668181b",
   "metadata": {},
   "outputs": [
    {
     "name": "stdout",
     "output_type": "stream",
     "text": [
      "<class 'pandas.core.frame.DataFrame'>\n",
      "RangeIndex: 58703 entries, 0 to 58702\n",
      "Data columns (total 4 columns):\n",
      " #   Column      Non-Null Count  Dtype \n",
      "---  ------      --------------  ----- \n",
      " 0   user_id     58703 non-null  object\n",
      " 1   first_date  58703 non-null  object\n",
      " 2   region      58703 non-null  object\n",
      " 3   device      58703 non-null  object\n",
      "dtypes: object(4)\n",
      "memory usage: 1.8+ MB\n"
     ]
    }
   ],
   "source": [
    "users.info()"
   ]
  },
  {
   "cell_type": "markdown",
   "id": "9675bc83",
   "metadata": {},
   "source": [
    "- `user_id`\n",
    "- `first_date` — sign-up date\n",
    "- `region`\n",
    "- `device` — device used to sign up"
   ]
  },
  {
   "cell_type": "code",
   "execution_count": 11,
   "id": "4e6d53e9",
   "metadata": {},
   "outputs": [],
   "source": [
    "users['first_date']=pd.to_datetime(users['first_date'], format='%Y-%m-%d')"
   ]
  },
  {
   "cell_type": "code",
   "execution_count": 12,
   "id": "e1925eda",
   "metadata": {},
   "outputs": [
    {
     "data": {
      "text/plain": [
       "0"
      ]
     },
     "execution_count": 12,
     "metadata": {},
     "output_type": "execute_result"
    }
   ],
   "source": [
    "users.duplicated().sum()"
   ]
  },
  {
   "cell_type": "markdown",
   "id": "0b70a28e",
   "metadata": {},
   "source": [
    "### Participants"
   ]
  },
  {
   "cell_type": "code",
   "execution_count": 13,
   "id": "a53b2d83",
   "metadata": {},
   "outputs": [],
   "source": [
    "try:\n",
    "    participants = pd.read_csv('final_ab_participants_upd_us.csv')\n",
    "except:\n",
    "    participants = pd.read_csv('/datasets/final_ab_participants_upd_us.csv')"
   ]
  },
  {
   "cell_type": "code",
   "execution_count": 14,
   "id": "5a8b6b20",
   "metadata": {},
   "outputs": [
    {
     "data": {
      "text/html": [
       "<div>\n",
       "<style scoped>\n",
       "    .dataframe tbody tr th:only-of-type {\n",
       "        vertical-align: middle;\n",
       "    }\n",
       "\n",
       "    .dataframe tbody tr th {\n",
       "        vertical-align: top;\n",
       "    }\n",
       "\n",
       "    .dataframe thead th {\n",
       "        text-align: right;\n",
       "    }\n",
       "</style>\n",
       "<table border=\"1\" class=\"dataframe\">\n",
       "  <thead>\n",
       "    <tr style=\"text-align: right;\">\n",
       "      <th></th>\n",
       "      <th>user_id</th>\n",
       "      <th>group</th>\n",
       "      <th>ab_test</th>\n",
       "    </tr>\n",
       "  </thead>\n",
       "  <tbody>\n",
       "    <tr>\n",
       "      <th>0</th>\n",
       "      <td>D1ABA3E2887B6A73</td>\n",
       "      <td>A</td>\n",
       "      <td>recommender_system_test</td>\n",
       "    </tr>\n",
       "    <tr>\n",
       "      <th>1</th>\n",
       "      <td>A7A3664BD6242119</td>\n",
       "      <td>A</td>\n",
       "      <td>recommender_system_test</td>\n",
       "    </tr>\n",
       "    <tr>\n",
       "      <th>2</th>\n",
       "      <td>DABC14FDDFADD29E</td>\n",
       "      <td>A</td>\n",
       "      <td>recommender_system_test</td>\n",
       "    </tr>\n",
       "    <tr>\n",
       "      <th>3</th>\n",
       "      <td>04988C5DF189632E</td>\n",
       "      <td>A</td>\n",
       "      <td>recommender_system_test</td>\n",
       "    </tr>\n",
       "    <tr>\n",
       "      <th>4</th>\n",
       "      <td>4FF2998A348C484F</td>\n",
       "      <td>A</td>\n",
       "      <td>recommender_system_test</td>\n",
       "    </tr>\n",
       "  </tbody>\n",
       "</table>\n",
       "</div>"
      ],
      "text/plain": [
       "            user_id group                  ab_test\n",
       "0  D1ABA3E2887B6A73     A  recommender_system_test\n",
       "1  A7A3664BD6242119     A  recommender_system_test\n",
       "2  DABC14FDDFADD29E     A  recommender_system_test\n",
       "3  04988C5DF189632E     A  recommender_system_test\n",
       "4  4FF2998A348C484F     A  recommender_system_test"
      ]
     },
     "execution_count": 14,
     "metadata": {},
     "output_type": "execute_result"
    }
   ],
   "source": [
    "participants.head()"
   ]
  },
  {
   "cell_type": "code",
   "execution_count": 15,
   "id": "4b2b7040",
   "metadata": {},
   "outputs": [
    {
     "name": "stdout",
     "output_type": "stream",
     "text": [
      "<class 'pandas.core.frame.DataFrame'>\n",
      "RangeIndex: 14525 entries, 0 to 14524\n",
      "Data columns (total 3 columns):\n",
      " #   Column   Non-Null Count  Dtype \n",
      "---  ------   --------------  ----- \n",
      " 0   user_id  14525 non-null  object\n",
      " 1   group    14525 non-null  object\n",
      " 2   ab_test  14525 non-null  object\n",
      "dtypes: object(3)\n",
      "memory usage: 340.6+ KB\n"
     ]
    }
   ],
   "source": [
    "participants.info()"
   ]
  },
  {
   "cell_type": "markdown",
   "id": "22446f54",
   "metadata": {},
   "source": [
    "- `user_id`\n",
    "- `event_dt` — event date and time\n",
    "- `event_name` — event type name\n",
    "- `details` — additional data on the event (for instance, the order total in USD for `purchase` events)"
   ]
  },
  {
   "cell_type": "code",
   "execution_count": 16,
   "id": "2373af47",
   "metadata": {},
   "outputs": [
    {
     "data": {
      "text/plain": [
       "0"
      ]
     },
     "execution_count": 16,
     "metadata": {},
     "output_type": "execute_result"
    }
   ],
   "source": [
    "participants.duplicated().sum()"
   ]
  },
  {
   "cell_type": "markdown",
   "id": "5f3025cc",
   "metadata": {},
   "source": [
    "### Events"
   ]
  },
  {
   "cell_type": "code",
   "execution_count": 17,
   "id": "7b1d02fb",
   "metadata": {},
   "outputs": [],
   "source": [
    "try:\n",
    "    events = pd.read_csv('final_ab_events_upd_us.csv')\n",
    "except:\n",
    "    events = pd.read_csv('/datasets/final_ab_events_upd_us.csv')"
   ]
  },
  {
   "cell_type": "code",
   "execution_count": 18,
   "id": "2072786f",
   "metadata": {},
   "outputs": [
    {
     "data": {
      "text/html": [
       "<div>\n",
       "<style scoped>\n",
       "    .dataframe tbody tr th:only-of-type {\n",
       "        vertical-align: middle;\n",
       "    }\n",
       "\n",
       "    .dataframe tbody tr th {\n",
       "        vertical-align: top;\n",
       "    }\n",
       "\n",
       "    .dataframe thead th {\n",
       "        text-align: right;\n",
       "    }\n",
       "</style>\n",
       "<table border=\"1\" class=\"dataframe\">\n",
       "  <thead>\n",
       "    <tr style=\"text-align: right;\">\n",
       "      <th></th>\n",
       "      <th>user_id</th>\n",
       "      <th>event_dt</th>\n",
       "      <th>event_name</th>\n",
       "      <th>details</th>\n",
       "    </tr>\n",
       "  </thead>\n",
       "  <tbody>\n",
       "    <tr>\n",
       "      <th>0</th>\n",
       "      <td>E1BDDCE0DAFA2679</td>\n",
       "      <td>2020-12-07 20:22:03</td>\n",
       "      <td>purchase</td>\n",
       "      <td>99.99</td>\n",
       "    </tr>\n",
       "    <tr>\n",
       "      <th>1</th>\n",
       "      <td>7B6452F081F49504</td>\n",
       "      <td>2020-12-07 09:22:53</td>\n",
       "      <td>purchase</td>\n",
       "      <td>9.99</td>\n",
       "    </tr>\n",
       "    <tr>\n",
       "      <th>2</th>\n",
       "      <td>9CD9F34546DF254C</td>\n",
       "      <td>2020-12-07 12:59:29</td>\n",
       "      <td>purchase</td>\n",
       "      <td>4.99</td>\n",
       "    </tr>\n",
       "    <tr>\n",
       "      <th>3</th>\n",
       "      <td>96F27A054B191457</td>\n",
       "      <td>2020-12-07 04:02:40</td>\n",
       "      <td>purchase</td>\n",
       "      <td>4.99</td>\n",
       "    </tr>\n",
       "    <tr>\n",
       "      <th>4</th>\n",
       "      <td>1FD7660FDF94CA1F</td>\n",
       "      <td>2020-12-07 10:15:09</td>\n",
       "      <td>purchase</td>\n",
       "      <td>4.99</td>\n",
       "    </tr>\n",
       "  </tbody>\n",
       "</table>\n",
       "</div>"
      ],
      "text/plain": [
       "            user_id             event_dt event_name  details\n",
       "0  E1BDDCE0DAFA2679  2020-12-07 20:22:03   purchase    99.99\n",
       "1  7B6452F081F49504  2020-12-07 09:22:53   purchase     9.99\n",
       "2  9CD9F34546DF254C  2020-12-07 12:59:29   purchase     4.99\n",
       "3  96F27A054B191457  2020-12-07 04:02:40   purchase     4.99\n",
       "4  1FD7660FDF94CA1F  2020-12-07 10:15:09   purchase     4.99"
      ]
     },
     "execution_count": 18,
     "metadata": {},
     "output_type": "execute_result"
    }
   ],
   "source": [
    "events.head()"
   ]
  },
  {
   "cell_type": "markdown",
   "id": "3f7c75c1",
   "metadata": {},
   "source": [
    "- `user_id`\n",
    "- `ab_test` — test name\n",
    "- `group` — the test group the user belonged to"
   ]
  },
  {
   "cell_type": "code",
   "execution_count": 19,
   "id": "c6c5bd60",
   "metadata": {},
   "outputs": [
    {
     "name": "stdout",
     "output_type": "stream",
     "text": [
      "<class 'pandas.core.frame.DataFrame'>\n",
      "RangeIndex: 423761 entries, 0 to 423760\n",
      "Data columns (total 4 columns):\n",
      " #   Column      Non-Null Count   Dtype  \n",
      "---  ------      --------------   -----  \n",
      " 0   user_id     423761 non-null  object \n",
      " 1   event_dt    423761 non-null  object \n",
      " 2   event_name  423761 non-null  object \n",
      " 3   details     60314 non-null   float64\n",
      "dtypes: float64(1), object(3)\n",
      "memory usage: 12.9+ MB\n"
     ]
    }
   ],
   "source": [
    "events.info()"
   ]
  },
  {
   "cell_type": "code",
   "execution_count": 20,
   "id": "d64ee0a5",
   "metadata": {},
   "outputs": [],
   "source": [
    "events['event_dt']=pd.to_datetime(events['event_dt'], format='%Y-%m-%d %H:%M:%S')"
   ]
  },
  {
   "cell_type": "markdown",
   "id": "03511e03",
   "metadata": {},
   "source": [
    "Let's look at the missing values in `details` column:"
   ]
  },
  {
   "cell_type": "code",
   "execution_count": 21,
   "id": "d504fb38",
   "metadata": {},
   "outputs": [
    {
     "data": {
      "text/plain": [
       "array(['product_cart', 'product_page', 'login'], dtype=object)"
      ]
     },
     "execution_count": 21,
     "metadata": {},
     "output_type": "execute_result"
    }
   ],
   "source": [
    "events[events['details'].isna()]['event_name'].unique()"
   ]
  },
  {
   "cell_type": "code",
   "execution_count": 22,
   "id": "0a1de011",
   "metadata": {},
   "outputs": [
    {
     "data": {
      "text/html": [
       "<div>\n",
       "<style scoped>\n",
       "    .dataframe tbody tr th:only-of-type {\n",
       "        vertical-align: middle;\n",
       "    }\n",
       "\n",
       "    .dataframe tbody tr th {\n",
       "        vertical-align: top;\n",
       "    }\n",
       "\n",
       "    .dataframe thead th {\n",
       "        text-align: right;\n",
       "    }\n",
       "</style>\n",
       "<table border=\"1\" class=\"dataframe\">\n",
       "  <thead>\n",
       "    <tr style=\"text-align: right;\">\n",
       "      <th></th>\n",
       "      <th>user_id</th>\n",
       "      <th>event_dt</th>\n",
       "      <th>event_name</th>\n",
       "      <th>details</th>\n",
       "    </tr>\n",
       "  </thead>\n",
       "  <tbody>\n",
       "  </tbody>\n",
       "</table>\n",
       "</div>"
      ],
      "text/plain": [
       "Empty DataFrame\n",
       "Columns: [user_id, event_dt, event_name, details]\n",
       "Index: []"
      ]
     },
     "execution_count": 22,
     "metadata": {},
     "output_type": "execute_result"
    }
   ],
   "source": [
    "events[(events['details'].isna() & events['event_name'] == \"purchase\")]"
   ]
  },
  {
   "cell_type": "markdown",
   "id": "75acc3e8",
   "metadata": {},
   "source": [
    "Missing values in 'details' are only for events other then purchases. Let's fill them with zero:"
   ]
  },
  {
   "cell_type": "code",
   "execution_count": 23,
   "id": "255ed46b",
   "metadata": {},
   "outputs": [],
   "source": [
    "events['details']=events['details'].fillna(0)"
   ]
  },
  {
   "cell_type": "code",
   "execution_count": 24,
   "id": "bb332602",
   "metadata": {},
   "outputs": [
    {
     "data": {
      "text/plain": [
       "0"
      ]
     },
     "execution_count": 24,
     "metadata": {},
     "output_type": "execute_result"
    }
   ],
   "source": [
    "events.duplicated().sum()"
   ]
  },
  {
   "cell_type": "markdown",
   "id": "c27eda46",
   "metadata": {},
   "source": [
    "## Exploratory data analysis"
   ]
  },
  {
   "cell_type": "markdown",
   "id": "98c4da26",
   "metadata": {},
   "source": [
    "### Marketing events"
   ]
  },
  {
   "cell_type": "markdown",
   "id": "1c39608d",
   "metadata": {},
   "source": [
    "Let's plot the time-line of marketing events:"
   ]
  },
  {
   "cell_type": "code",
   "execution_count": 25,
   "id": "2c2eb905",
   "metadata": {},
   "outputs": [
    {
     "data": {
      "image/png": "[encoded data removed]"
     },
     "metadata": {},
     "output_type": "display_data"
    }
   ],
   "source": [
    "fig = px.timeline(marketing, x_start=\"start_dt\", x_end=\"finish_dt\", y=\"name\", title='Marketing events timeline')\n",
    "fig.show('png')"
   ]
  },
  {
   "cell_type": "markdown",
   "id": "e13ef78e",
   "metadata": {},
   "source": [
    "Let's add A/B testing period to the graph and zoom it to the period of A/B Testing."
   ]
  },
  {
   "cell_type": "code",
   "execution_count": 26,
   "id": "715d9383",
   "metadata": {},
   "outputs": [],
   "source": [
    "timelines=marketing"
   ]
  },
  {
   "cell_type": "code",
   "execution_count": 27,
   "id": "8a6fb41d",
   "metadata": {},
   "outputs": [],
   "source": [
    "timelines.loc[14]=['A/B tesing','EU', '2020-12-07', '2021-01-01']\n",
    "timelines.loc[14,'start_dt']=pd.to_datetime(timelines.loc[14,'start_dt'], format='%Y-%m-%d')\n",
    "timelines.loc[14,'finish_dt']=pd.to_datetime(timelines.loc[14,'finish_dt'], format='%Y-%m-%d')"
   ]
  },
  {
   "cell_type": "code",
   "execution_count": 28,
   "id": "cbf7f69c",
   "metadata": {},
   "outputs": [
    {
     "data": {
      "image/png": "[encoded data removed]"
     },
     "metadata": {},
     "output_type": "display_data"
    }
   ],
   "source": [
    "fig = px.timeline(timelines, x_start=\"start_dt\", x_end=\"finish_dt\", y=\"name\", title='Marketing events and A/B testing')\n",
    "fig.update_xaxes(range=list(['2020-12-07','2021-01-01']))\n",
    "fig.show('png')"
   ]
  },
  {
   "cell_type": "markdown",
   "id": "8ec81670",
   "metadata": {},
   "source": [
    "- Two marketing events overlaps with testing period: Christmas&New Year Promo (EU, N.America from 25 December to 3 January) and CIS NewYear Gift Lottery (CIS from 30 December to 7 January).\n",
    "- The testing period (7 December to 1 January) is most likely affected by seasonal increase in sales (Christmas and New Year holidays)."
   ]
  },
  {
   "cell_type": "markdown",
   "id": "a9e881d4",
   "metadata": {},
   "source": [
    "### Participants"
   ]
  },
  {
   "cell_type": "code",
   "execution_count": 29,
   "id": "f77ab515",
   "metadata": {},
   "outputs": [
    {
     "data": {
      "text/plain": [
       "array(['recommender_system_test', 'interface_eu_test'], dtype=object)"
      ]
     },
     "execution_count": 29,
     "metadata": {},
     "output_type": "execute_result"
    }
   ],
   "source": [
    "participants['ab_test'].unique()"
   ]
  },
  {
   "cell_type": "code",
   "execution_count": 30,
   "id": "0a0a1224",
   "metadata": {},
   "outputs": [
    {
     "data": {
      "text/plain": [
       "ab_test\n",
       "interface_eu_test          10850\n",
       "recommender_system_test     3675\n",
       "Name: user_id, dtype: int64"
      ]
     },
     "execution_count": 30,
     "metadata": {},
     "output_type": "execute_result"
    }
   ],
   "source": [
    "participants.groupby(['ab_test'])['user_id'].nunique()"
   ]
  },
  {
   "cell_type": "markdown",
   "id": "fa71ab18",
   "metadata": {},
   "source": [
    "We have participants of two A/B tests in this dataset. We are interested in participants of *recommender_system_test*. \n",
    "\n",
    "According to technical description, expected number of test participants is 6000, we have only 3675 participants in recommender_system_test."
   ]
  },
  {
   "cell_type": "code",
   "execution_count": 31,
   "id": "e26dd83e",
   "metadata": {},
   "outputs": [
    {
     "data": {
      "text/plain": [
       "ab_test                  group\n",
       "interface_eu_test        A        5467\n",
       "                         B        5383\n",
       "recommender_system_test  A        2747\n",
       "                         B         928\n",
       "Name: user_id, dtype: int64"
      ]
     },
     "execution_count": 31,
     "metadata": {},
     "output_type": "execute_result"
    }
   ],
   "source": [
    "participants.groupby(['ab_test','group'])['user_id'].nunique()"
   ]
  },
  {
   "cell_type": "markdown",
   "id": "f9af2d18",
   "metadata": {},
   "source": [
    "- Number of participants in A and B groups in *interface eu test* is close but difference is still 1.5% (which is above 1%).\n",
    "- Number of participants in A and B groups in *recommender system test* is significantly uneven: number of B group participants is only 1/3 of number of A group participants."
   ]
  },
  {
   "cell_type": "markdown",
   "id": "cf550fd7",
   "metadata": {},
   "source": [
    "### Users"
   ]
  },
  {
   "cell_type": "code",
   "execution_count": 32,
   "id": "ab316ad6",
   "metadata": {},
   "outputs": [
    {
     "data": {
      "text/plain": [
       "58703"
      ]
     },
     "execution_count": 32,
     "metadata": {},
     "output_type": "execute_result"
    }
   ],
   "source": [
    "users['user_id'].nunique()"
   ]
  },
  {
   "cell_type": "code",
   "execution_count": 33,
   "id": "c3fe2f5b",
   "metadata": {},
   "outputs": [
    {
     "data": {
      "text/plain": [
       "Timestamp('2020-12-07 00:00:00')"
      ]
     },
     "execution_count": 33,
     "metadata": {},
     "output_type": "execute_result"
    }
   ],
   "source": [
    "users['first_date'].min()"
   ]
  },
  {
   "cell_type": "code",
   "execution_count": 34,
   "id": "86f0a7ed",
   "metadata": {},
   "outputs": [
    {
     "data": {
      "text/plain": [
       "Timestamp('2020-12-23 00:00:00')"
      ]
     },
     "execution_count": 34,
     "metadata": {},
     "output_type": "execute_result"
    }
   ],
   "source": [
    "users['first_date'].max()"
   ]
  },
  {
   "cell_type": "code",
   "execution_count": 35,
   "id": "b31fe247",
   "metadata": {},
   "outputs": [
    {
     "data": {
      "text/plain": [
       "first_date\n",
       "2020-12-07    5291\n",
       "2020-12-08    3017\n",
       "2020-12-09    2010\n",
       "2020-12-10    2784\n",
       "2020-12-11    2226\n",
       "2020-12-12    3591\n",
       "2020-12-13    4181\n",
       "2020-12-14    5448\n",
       "2020-12-15    2924\n",
       "2020-12-16    2093\n",
       "2020-12-17    2940\n",
       "2020-12-18    3238\n",
       "2020-12-19    3480\n",
       "2020-12-20    4140\n",
       "2020-12-21    6077\n",
       "2020-12-22    3083\n",
       "2020-12-23    2180\n",
       "Name: user_id, dtype: int64"
      ]
     },
     "execution_count": 35,
     "metadata": {},
     "output_type": "execute_result"
    }
   ],
   "source": [
    "users.groupby('first_date')['user_id'].nunique()"
   ]
  },
  {
   "cell_type": "markdown",
   "id": "6c2821da",
   "metadata": {},
   "source": [
    "According to technical description, the date when they stopped taking up new users is 2020-12-21, however we have users signed up on 22 and 23 December."
   ]
  },
  {
   "cell_type": "code",
   "execution_count": 36,
   "id": "a23729a8",
   "metadata": {},
   "outputs": [
    {
     "data": {
      "text/plain": [
       "region\n",
       "APAC          3126\n",
       "CIS           3130\n",
       "EU           43396\n",
       "N.America     9051\n",
       "Name: user_id, dtype: int64"
      ]
     },
     "execution_count": 36,
     "metadata": {},
     "output_type": "execute_result"
    }
   ],
   "source": [
    "users.groupby('region')['user_id'].nunique()"
   ]
  },
  {
   "cell_type": "code",
   "execution_count": 37,
   "id": "58624dd0",
   "metadata": {},
   "outputs": [
    {
     "data": {
      "text/plain": [
       "device\n",
       "Android    26159\n",
       "Mac         5797\n",
       "PC         14845\n",
       "iPhone     11902\n",
       "Name: user_id, dtype: int64"
      ]
     },
     "execution_count": 37,
     "metadata": {},
     "output_type": "execute_result"
    }
   ],
   "source": [
    "users.groupby('device')['user_id'].nunique()"
   ]
  },
  {
   "cell_type": "markdown",
   "id": "c79a351c",
   "metadata": {},
   "source": [
    "### Events"
   ]
  },
  {
   "cell_type": "code",
   "execution_count": 38,
   "id": "73d264fc",
   "metadata": {},
   "outputs": [
    {
     "data": {
      "text/plain": [
       "58703"
      ]
     },
     "execution_count": 38,
     "metadata": {},
     "output_type": "execute_result"
    }
   ],
   "source": [
    "events['user_id'].nunique()"
   ]
  },
  {
   "cell_type": "code",
   "execution_count": 39,
   "id": "1817c4b5",
   "metadata": {},
   "outputs": [],
   "source": [
    "events['date']=events['event_dt'].dt.round('1d')"
   ]
  },
  {
   "cell_type": "code",
   "execution_count": 40,
   "id": "795bd801",
   "metadata": {},
   "outputs": [
    {
     "data": {
      "text/html": [
       "<div>\n",
       "<style scoped>\n",
       "    .dataframe tbody tr th:only-of-type {\n",
       "        vertical-align: middle;\n",
       "    }\n",
       "\n",
       "    .dataframe tbody tr th {\n",
       "        vertical-align: top;\n",
       "    }\n",
       "\n",
       "    .dataframe thead th {\n",
       "        text-align: right;\n",
       "    }\n",
       "</style>\n",
       "<table border=\"1\" class=\"dataframe\">\n",
       "  <thead>\n",
       "    <tr style=\"text-align: right;\">\n",
       "      <th></th>\n",
       "      <th>user_id</th>\n",
       "      <th>event_dt</th>\n",
       "      <th>event_name</th>\n",
       "      <th>details</th>\n",
       "      <th>date</th>\n",
       "    </tr>\n",
       "  </thead>\n",
       "  <tbody>\n",
       "    <tr>\n",
       "      <th>0</th>\n",
       "      <td>E1BDDCE0DAFA2679</td>\n",
       "      <td>2020-12-07 20:22:03</td>\n",
       "      <td>purchase</td>\n",
       "      <td>99.99</td>\n",
       "      <td>2020-12-08</td>\n",
       "    </tr>\n",
       "    <tr>\n",
       "      <th>1</th>\n",
       "      <td>7B6452F081F49504</td>\n",
       "      <td>2020-12-07 09:22:53</td>\n",
       "      <td>purchase</td>\n",
       "      <td>9.99</td>\n",
       "      <td>2020-12-07</td>\n",
       "    </tr>\n",
       "    <tr>\n",
       "      <th>2</th>\n",
       "      <td>9CD9F34546DF254C</td>\n",
       "      <td>2020-12-07 12:59:29</td>\n",
       "      <td>purchase</td>\n",
       "      <td>4.99</td>\n",
       "      <td>2020-12-08</td>\n",
       "    </tr>\n",
       "    <tr>\n",
       "      <th>3</th>\n",
       "      <td>96F27A054B191457</td>\n",
       "      <td>2020-12-07 04:02:40</td>\n",
       "      <td>purchase</td>\n",
       "      <td>4.99</td>\n",
       "      <td>2020-12-07</td>\n",
       "    </tr>\n",
       "    <tr>\n",
       "      <th>4</th>\n",
       "      <td>1FD7660FDF94CA1F</td>\n",
       "      <td>2020-12-07 10:15:09</td>\n",
       "      <td>purchase</td>\n",
       "      <td>4.99</td>\n",
       "      <td>2020-12-07</td>\n",
       "    </tr>\n",
       "  </tbody>\n",
       "</table>\n",
       "</div>"
      ],
      "text/plain": [
       "            user_id            event_dt event_name  details       date\n",
       "0  E1BDDCE0DAFA2679 2020-12-07 20:22:03   purchase    99.99 2020-12-08\n",
       "1  7B6452F081F49504 2020-12-07 09:22:53   purchase     9.99 2020-12-07\n",
       "2  9CD9F34546DF254C 2020-12-07 12:59:29   purchase     4.99 2020-12-08\n",
       "3  96F27A054B191457 2020-12-07 04:02:40   purchase     4.99 2020-12-07\n",
       "4  1FD7660FDF94CA1F 2020-12-07 10:15:09   purchase     4.99 2020-12-07"
      ]
     },
     "execution_count": 40,
     "metadata": {},
     "output_type": "execute_result"
    }
   ],
   "source": [
    "events.head()"
   ]
  },
  {
   "cell_type": "markdown",
   "id": "bf2c7b82",
   "metadata": {},
   "source": [
    "### Merging datasets"
   ]
  },
  {
   "cell_type": "markdown",
   "id": "da50d48d",
   "metadata": {},
   "source": [
    "Let's merge datasets into one dataframe:"
   ]
  },
  {
   "cell_type": "code",
   "execution_count": 41,
   "id": "190a090d",
   "metadata": {},
   "outputs": [],
   "source": [
    "test=events.merge(participants, on='user_id', how='left')"
   ]
  },
  {
   "cell_type": "code",
   "execution_count": 42,
   "id": "18b8f19e",
   "metadata": {},
   "outputs": [
    {
     "data": {
      "text/html": [
       "<div>\n",
       "<style scoped>\n",
       "    .dataframe tbody tr th:only-of-type {\n",
       "        vertical-align: middle;\n",
       "    }\n",
       "\n",
       "    .dataframe tbody tr th {\n",
       "        vertical-align: top;\n",
       "    }\n",
       "\n",
       "    .dataframe thead th {\n",
       "        text-align: right;\n",
       "    }\n",
       "</style>\n",
       "<table border=\"1\" class=\"dataframe\">\n",
       "  <thead>\n",
       "    <tr style=\"text-align: right;\">\n",
       "      <th></th>\n",
       "      <th>user_id</th>\n",
       "      <th>event_dt</th>\n",
       "      <th>event_name</th>\n",
       "      <th>details</th>\n",
       "      <th>date</th>\n",
       "      <th>group</th>\n",
       "      <th>ab_test</th>\n",
       "    </tr>\n",
       "  </thead>\n",
       "  <tbody>\n",
       "    <tr>\n",
       "      <th>0</th>\n",
       "      <td>E1BDDCE0DAFA2679</td>\n",
       "      <td>2020-12-07 20:22:03</td>\n",
       "      <td>purchase</td>\n",
       "      <td>99.99</td>\n",
       "      <td>2020-12-08</td>\n",
       "      <td>NaN</td>\n",
       "      <td>NaN</td>\n",
       "    </tr>\n",
       "    <tr>\n",
       "      <th>1</th>\n",
       "      <td>7B6452F081F49504</td>\n",
       "      <td>2020-12-07 09:22:53</td>\n",
       "      <td>purchase</td>\n",
       "      <td>9.99</td>\n",
       "      <td>2020-12-07</td>\n",
       "      <td>NaN</td>\n",
       "      <td>NaN</td>\n",
       "    </tr>\n",
       "    <tr>\n",
       "      <th>2</th>\n",
       "      <td>9CD9F34546DF254C</td>\n",
       "      <td>2020-12-07 12:59:29</td>\n",
       "      <td>purchase</td>\n",
       "      <td>4.99</td>\n",
       "      <td>2020-12-08</td>\n",
       "      <td>NaN</td>\n",
       "      <td>NaN</td>\n",
       "    </tr>\n",
       "    <tr>\n",
       "      <th>3</th>\n",
       "      <td>96F27A054B191457</td>\n",
       "      <td>2020-12-07 04:02:40</td>\n",
       "      <td>purchase</td>\n",
       "      <td>4.99</td>\n",
       "      <td>2020-12-07</td>\n",
       "      <td>B</td>\n",
       "      <td>interface_eu_test</td>\n",
       "    </tr>\n",
       "    <tr>\n",
       "      <th>4</th>\n",
       "      <td>1FD7660FDF94CA1F</td>\n",
       "      <td>2020-12-07 10:15:09</td>\n",
       "      <td>purchase</td>\n",
       "      <td>4.99</td>\n",
       "      <td>2020-12-07</td>\n",
       "      <td>NaN</td>\n",
       "      <td>NaN</td>\n",
       "    </tr>\n",
       "  </tbody>\n",
       "</table>\n",
       "</div>"
      ],
      "text/plain": [
       "            user_id            event_dt event_name  details       date group  \\\n",
       "0  E1BDDCE0DAFA2679 2020-12-07 20:22:03   purchase    99.99 2020-12-08   NaN   \n",
       "1  7B6452F081F49504 2020-12-07 09:22:53   purchase     9.99 2020-12-07   NaN   \n",
       "2  9CD9F34546DF254C 2020-12-07 12:59:29   purchase     4.99 2020-12-08   NaN   \n",
       "3  96F27A054B191457 2020-12-07 04:02:40   purchase     4.99 2020-12-07     B   \n",
       "4  1FD7660FDF94CA1F 2020-12-07 10:15:09   purchase     4.99 2020-12-07   NaN   \n",
       "\n",
       "             ab_test  \n",
       "0                NaN  \n",
       "1                NaN  \n",
       "2                NaN  \n",
       "3  interface_eu_test  \n",
       "4                NaN  "
      ]
     },
     "execution_count": 42,
     "metadata": {},
     "output_type": "execute_result"
    }
   ],
   "source": [
    "test.head()"
   ]
  },
  {
   "cell_type": "code",
   "execution_count": 43,
   "id": "f8c012b9",
   "metadata": {},
   "outputs": [],
   "source": [
    "test=test.merge(users, on='user_id', how='left')"
   ]
  },
  {
   "cell_type": "code",
   "execution_count": 44,
   "id": "7161371d",
   "metadata": {},
   "outputs": [
    {
     "data": {
      "text/html": [
       "<div>\n",
       "<style scoped>\n",
       "    .dataframe tbody tr th:only-of-type {\n",
       "        vertical-align: middle;\n",
       "    }\n",
       "\n",
       "    .dataframe tbody tr th {\n",
       "        vertical-align: top;\n",
       "    }\n",
       "\n",
       "    .dataframe thead th {\n",
       "        text-align: right;\n",
       "    }\n",
       "</style>\n",
       "<table border=\"1\" class=\"dataframe\">\n",
       "  <thead>\n",
       "    <tr style=\"text-align: right;\">\n",
       "      <th></th>\n",
       "      <th>user_id</th>\n",
       "      <th>event_dt</th>\n",
       "      <th>event_name</th>\n",
       "      <th>details</th>\n",
       "      <th>date</th>\n",
       "      <th>group</th>\n",
       "      <th>ab_test</th>\n",
       "      <th>first_date</th>\n",
       "      <th>region</th>\n",
       "      <th>device</th>\n",
       "    </tr>\n",
       "  </thead>\n",
       "  <tbody>\n",
       "    <tr>\n",
       "      <th>254499</th>\n",
       "      <td>699DC28B8F360539</td>\n",
       "      <td>2020-12-08 03:36:03</td>\n",
       "      <td>login</td>\n",
       "      <td>0.0</td>\n",
       "      <td>2020-12-08</td>\n",
       "      <td>NaN</td>\n",
       "      <td>NaN</td>\n",
       "      <td>2020-12-08</td>\n",
       "      <td>EU</td>\n",
       "      <td>iPhone</td>\n",
       "    </tr>\n",
       "    <tr>\n",
       "      <th>188343</th>\n",
       "      <td>7AA3258F853D5245</td>\n",
       "      <td>2020-12-19 13:33:54</td>\n",
       "      <td>product_page</td>\n",
       "      <td>0.0</td>\n",
       "      <td>2020-12-20</td>\n",
       "      <td>NaN</td>\n",
       "      <td>NaN</td>\n",
       "      <td>2020-12-18</td>\n",
       "      <td>EU</td>\n",
       "      <td>PC</td>\n",
       "    </tr>\n",
       "    <tr>\n",
       "      <th>421485</th>\n",
       "      <td>0FAF21807E263F71</td>\n",
       "      <td>2020-12-28 19:38:32</td>\n",
       "      <td>login</td>\n",
       "      <td>0.0</td>\n",
       "      <td>2020-12-29</td>\n",
       "      <td>NaN</td>\n",
       "      <td>NaN</td>\n",
       "      <td>2020-12-21</td>\n",
       "      <td>CIS</td>\n",
       "      <td>PC</td>\n",
       "    </tr>\n",
       "    <tr>\n",
       "      <th>388704</th>\n",
       "      <td>69EE6CBE29A95848</td>\n",
       "      <td>2020-12-22 17:16:46</td>\n",
       "      <td>login</td>\n",
       "      <td>0.0</td>\n",
       "      <td>2020-12-23</td>\n",
       "      <td>B</td>\n",
       "      <td>interface_eu_test</td>\n",
       "      <td>2020-12-20</td>\n",
       "      <td>EU</td>\n",
       "      <td>PC</td>\n",
       "    </tr>\n",
       "    <tr>\n",
       "      <th>262607</th>\n",
       "      <td>5D96524424DBC8DE</td>\n",
       "      <td>2020-12-10 14:11:58</td>\n",
       "      <td>login</td>\n",
       "      <td>0.0</td>\n",
       "      <td>2020-12-11</td>\n",
       "      <td>NaN</td>\n",
       "      <td>NaN</td>\n",
       "      <td>2020-12-09</td>\n",
       "      <td>EU</td>\n",
       "      <td>Android</td>\n",
       "    </tr>\n",
       "    <tr>\n",
       "      <th>238592</th>\n",
       "      <td>1B21BB4A6AD8AC42</td>\n",
       "      <td>2020-12-28 18:29:37</td>\n",
       "      <td>product_page</td>\n",
       "      <td>0.0</td>\n",
       "      <td>2020-12-29</td>\n",
       "      <td>NaN</td>\n",
       "      <td>NaN</td>\n",
       "      <td>2020-12-14</td>\n",
       "      <td>EU</td>\n",
       "      <td>Android</td>\n",
       "    </tr>\n",
       "    <tr>\n",
       "      <th>239919</th>\n",
       "      <td>9D30B223956A3CD0</td>\n",
       "      <td>2020-12-28 13:57:34</td>\n",
       "      <td>product_page</td>\n",
       "      <td>0.0</td>\n",
       "      <td>2020-12-29</td>\n",
       "      <td>NaN</td>\n",
       "      <td>NaN</td>\n",
       "      <td>2020-12-23</td>\n",
       "      <td>EU</td>\n",
       "      <td>PC</td>\n",
       "    </tr>\n",
       "    <tr>\n",
       "      <th>96165</th>\n",
       "      <td>A687479354558EE6</td>\n",
       "      <td>2020-12-20 22:17:20</td>\n",
       "      <td>product_cart</td>\n",
       "      <td>0.0</td>\n",
       "      <td>2020-12-21</td>\n",
       "      <td>NaN</td>\n",
       "      <td>NaN</td>\n",
       "      <td>2020-12-14</td>\n",
       "      <td>EU</td>\n",
       "      <td>Android</td>\n",
       "    </tr>\n",
       "    <tr>\n",
       "      <th>282996</th>\n",
       "      <td>A229E6846A6A364A</td>\n",
       "      <td>2020-12-13 23:36:21</td>\n",
       "      <td>login</td>\n",
       "      <td>0.0</td>\n",
       "      <td>2020-12-14</td>\n",
       "      <td>NaN</td>\n",
       "      <td>NaN</td>\n",
       "      <td>2020-12-11</td>\n",
       "      <td>EU</td>\n",
       "      <td>Android</td>\n",
       "    </tr>\n",
       "    <tr>\n",
       "      <th>147332</th>\n",
       "      <td>BF710F7D001B253E</td>\n",
       "      <td>2020-12-13 05:50:05</td>\n",
       "      <td>product_page</td>\n",
       "      <td>0.0</td>\n",
       "      <td>2020-12-13</td>\n",
       "      <td>NaN</td>\n",
       "      <td>NaN</td>\n",
       "      <td>2020-12-11</td>\n",
       "      <td>EU</td>\n",
       "      <td>Android</td>\n",
       "    </tr>\n",
       "  </tbody>\n",
       "</table>\n",
       "</div>"
      ],
      "text/plain": [
       "                 user_id            event_dt    event_name  details  \\\n",
       "254499  699DC28B8F360539 2020-12-08 03:36:03         login      0.0   \n",
       "188343  7AA3258F853D5245 2020-12-19 13:33:54  product_page      0.0   \n",
       "421485  0FAF21807E263F71 2020-12-28 19:38:32         login      0.0   \n",
       "388704  69EE6CBE29A95848 2020-12-22 17:16:46         login      0.0   \n",
       "262607  5D96524424DBC8DE 2020-12-10 14:11:58         login      0.0   \n",
       "238592  1B21BB4A6AD8AC42 2020-12-28 18:29:37  product_page      0.0   \n",
       "239919  9D30B223956A3CD0 2020-12-28 13:57:34  product_page      0.0   \n",
       "96165   A687479354558EE6 2020-12-20 22:17:20  product_cart      0.0   \n",
       "282996  A229E6846A6A364A 2020-12-13 23:36:21         login      0.0   \n",
       "147332  BF710F7D001B253E 2020-12-13 05:50:05  product_page      0.0   \n",
       "\n",
       "             date group            ab_test first_date region   device  \n",
       "254499 2020-12-08   NaN                NaN 2020-12-08     EU   iPhone  \n",
       "188343 2020-12-20   NaN                NaN 2020-12-18     EU       PC  \n",
       "421485 2020-12-29   NaN                NaN 2020-12-21    CIS       PC  \n",
       "388704 2020-12-23     B  interface_eu_test 2020-12-20     EU       PC  \n",
       "262607 2020-12-11   NaN                NaN 2020-12-09     EU  Android  \n",
       "238592 2020-12-29   NaN                NaN 2020-12-14     EU  Android  \n",
       "239919 2020-12-29   NaN                NaN 2020-12-23     EU       PC  \n",
       "96165  2020-12-21   NaN                NaN 2020-12-14     EU  Android  \n",
       "282996 2020-12-14   NaN                NaN 2020-12-11     EU  Android  \n",
       "147332 2020-12-13   NaN                NaN 2020-12-11     EU  Android  "
      ]
     },
     "execution_count": 44,
     "metadata": {},
     "output_type": "execute_result"
    }
   ],
   "source": [
    "test.sample(10)"
   ]
  },
  {
   "cell_type": "markdown",
   "id": "42a34186",
   "metadata": {},
   "source": [
    "Rows with missing values apparently relate to users that didn't participate in the A/B testing. Let's remove them."
   ]
  },
  {
   "cell_type": "code",
   "execution_count": 45,
   "id": "b04160e3",
   "metadata": {},
   "outputs": [],
   "source": [
    "test=test.dropna()"
   ]
  },
  {
   "cell_type": "code",
   "execution_count": 46,
   "id": "c5db8eb8",
   "metadata": {},
   "outputs": [
    {
     "data": {
      "text/plain": [
       "0"
      ]
     },
     "execution_count": 46,
     "metadata": {},
     "output_type": "execute_result"
    }
   ],
   "source": [
    "test.duplicated().sum()"
   ]
  },
  {
   "cell_type": "code",
   "execution_count": 47,
   "id": "e5e8a789",
   "metadata": {},
   "outputs": [
    {
     "data": {
      "text/plain": [
       "102838"
      ]
     },
     "execution_count": 47,
     "metadata": {},
     "output_type": "execute_result"
    }
   ],
   "source": [
    "len(test)"
   ]
  },
  {
   "cell_type": "code",
   "execution_count": 48,
   "id": "49e6d8c7",
   "metadata": {},
   "outputs": [
    {
     "data": {
      "text/plain": [
       "13638"
      ]
     },
     "execution_count": 48,
     "metadata": {},
     "output_type": "execute_result"
    }
   ],
   "source": [
    "test['user_id'].nunique()"
   ]
  },
  {
   "cell_type": "markdown",
   "id": "26d9a7b5",
   "metadata": {},
   "source": [
    "After removal of events not included in testing, our dataset consists of 102838 events of 13638 users."
   ]
  },
  {
   "cell_type": "code",
   "execution_count": 49,
   "id": "4b99ef5f",
   "metadata": {},
   "outputs": [
    {
     "data": {
      "text/html": [
       "<div>\n",
       "<style scoped>\n",
       "    .dataframe tbody tr th:only-of-type {\n",
       "        vertical-align: middle;\n",
       "    }\n",
       "\n",
       "    .dataframe tbody tr th {\n",
       "        vertical-align: top;\n",
       "    }\n",
       "\n",
       "    .dataframe thead th {\n",
       "        text-align: right;\n",
       "    }\n",
       "</style>\n",
       "<table border=\"1\" class=\"dataframe\">\n",
       "  <thead>\n",
       "    <tr style=\"text-align: right;\">\n",
       "      <th></th>\n",
       "      <th>user_id</th>\n",
       "      <th>event_dt</th>\n",
       "      <th>event_name</th>\n",
       "      <th>details</th>\n",
       "      <th>date</th>\n",
       "      <th>group</th>\n",
       "      <th>ab_test</th>\n",
       "      <th>first_date</th>\n",
       "      <th>region</th>\n",
       "      <th>device</th>\n",
       "    </tr>\n",
       "  </thead>\n",
       "  <tbody>\n",
       "    <tr>\n",
       "      <th>3</th>\n",
       "      <td>96F27A054B191457</td>\n",
       "      <td>2020-12-07 04:02:40</td>\n",
       "      <td>purchase</td>\n",
       "      <td>4.99</td>\n",
       "      <td>2020-12-07</td>\n",
       "      <td>B</td>\n",
       "      <td>interface_eu_test</td>\n",
       "      <td>2020-12-07</td>\n",
       "      <td>EU</td>\n",
       "      <td>iPhone</td>\n",
       "    </tr>\n",
       "    <tr>\n",
       "      <th>5</th>\n",
       "      <td>831887FE7F2D6CBA</td>\n",
       "      <td>2020-12-07 06:50:29</td>\n",
       "      <td>purchase</td>\n",
       "      <td>4.99</td>\n",
       "      <td>2020-12-07</td>\n",
       "      <td>A</td>\n",
       "      <td>recommender_system_test</td>\n",
       "      <td>2020-12-07</td>\n",
       "      <td>EU</td>\n",
       "      <td>Android</td>\n",
       "    </tr>\n",
       "    <tr>\n",
       "      <th>9</th>\n",
       "      <td>A92195E3CFB83DBD</td>\n",
       "      <td>2020-12-07 00:32:07</td>\n",
       "      <td>purchase</td>\n",
       "      <td>4.99</td>\n",
       "      <td>2020-12-07</td>\n",
       "      <td>A</td>\n",
       "      <td>interface_eu_test</td>\n",
       "      <td>2020-12-07</td>\n",
       "      <td>EU</td>\n",
       "      <td>Android</td>\n",
       "    </tr>\n",
       "    <tr>\n",
       "      <th>11</th>\n",
       "      <td>354D653172FF2A2D</td>\n",
       "      <td>2020-12-07 15:45:11</td>\n",
       "      <td>purchase</td>\n",
       "      <td>4.99</td>\n",
       "      <td>2020-12-08</td>\n",
       "      <td>A</td>\n",
       "      <td>interface_eu_test</td>\n",
       "      <td>2020-12-07</td>\n",
       "      <td>EU</td>\n",
       "      <td>Mac</td>\n",
       "    </tr>\n",
       "    <tr>\n",
       "      <th>12</th>\n",
       "      <td>7FCD34F47C13A9AC</td>\n",
       "      <td>2020-12-07 22:06:13</td>\n",
       "      <td>purchase</td>\n",
       "      <td>9.99</td>\n",
       "      <td>2020-12-08</td>\n",
       "      <td>B</td>\n",
       "      <td>interface_eu_test</td>\n",
       "      <td>2020-12-07</td>\n",
       "      <td>EU</td>\n",
       "      <td>PC</td>\n",
       "    </tr>\n",
       "  </tbody>\n",
       "</table>\n",
       "</div>"
      ],
      "text/plain": [
       "             user_id            event_dt event_name  details       date group  \\\n",
       "3   96F27A054B191457 2020-12-07 04:02:40   purchase     4.99 2020-12-07     B   \n",
       "5   831887FE7F2D6CBA 2020-12-07 06:50:29   purchase     4.99 2020-12-07     A   \n",
       "9   A92195E3CFB83DBD 2020-12-07 00:32:07   purchase     4.99 2020-12-07     A   \n",
       "11  354D653172FF2A2D 2020-12-07 15:45:11   purchase     4.99 2020-12-08     A   \n",
       "12  7FCD34F47C13A9AC 2020-12-07 22:06:13   purchase     9.99 2020-12-08     B   \n",
       "\n",
       "                    ab_test first_date region   device  \n",
       "3         interface_eu_test 2020-12-07     EU   iPhone  \n",
       "5   recommender_system_test 2020-12-07     EU  Android  \n",
       "9         interface_eu_test 2020-12-07     EU  Android  \n",
       "11        interface_eu_test 2020-12-07     EU      Mac  \n",
       "12        interface_eu_test 2020-12-07     EU       PC  "
      ]
     },
     "execution_count": 49,
     "metadata": {},
     "output_type": "execute_result"
    }
   ],
   "source": [
    "test.head()"
   ]
  },
  {
   "cell_type": "markdown",
   "id": "c8bc48bd",
   "metadata": {},
   "source": [
    "According to technical description, expected result is that within 14 days of signing up, users will show better conversion. Let's calculate 14-day period upon sign up and add a column with number of days from sign up to event. "
   ]
  },
  {
   "cell_type": "code",
   "execution_count": 50,
   "id": "96c5b49d",
   "metadata": {},
   "outputs": [],
   "source": [
    "def days(row):\n",
    "    if int((row['date']-row['first_date']).days) <= 14:\n",
    "        return '14 or less'\n",
    "    else:\n",
    "        return 'over 14'    "
   ]
  },
  {
   "cell_type": "code",
   "execution_count": 51,
   "id": "7d3750b4",
   "metadata": {},
   "outputs": [
    {
     "data": {
      "text/html": [
       "<div>\n",
       "<style scoped>\n",
       "    .dataframe tbody tr th:only-of-type {\n",
       "        vertical-align: middle;\n",
       "    }\n",
       "\n",
       "    .dataframe tbody tr th {\n",
       "        vertical-align: top;\n",
       "    }\n",
       "\n",
       "    .dataframe thead th {\n",
       "        text-align: right;\n",
       "    }\n",
       "</style>\n",
       "<table border=\"1\" class=\"dataframe\">\n",
       "  <thead>\n",
       "    <tr style=\"text-align: right;\">\n",
       "      <th></th>\n",
       "      <th>user_id</th>\n",
       "      <th>event_dt</th>\n",
       "      <th>event_name</th>\n",
       "      <th>details</th>\n",
       "      <th>date</th>\n",
       "      <th>group</th>\n",
       "      <th>ab_test</th>\n",
       "      <th>first_date</th>\n",
       "      <th>region</th>\n",
       "      <th>device</th>\n",
       "      <th>days_to_event</th>\n",
       "    </tr>\n",
       "  </thead>\n",
       "  <tbody>\n",
       "    <tr>\n",
       "      <th>124375</th>\n",
       "      <td>1BC5B6187B84A890</td>\n",
       "      <td>2020-12-07 01:11:06</td>\n",
       "      <td>product_page</td>\n",
       "      <td>0.00</td>\n",
       "      <td>2020-12-07</td>\n",
       "      <td>A</td>\n",
       "      <td>interface_eu_test</td>\n",
       "      <td>2020-12-07</td>\n",
       "      <td>EU</td>\n",
       "      <td>Android</td>\n",
       "      <td>14 or less</td>\n",
       "    </tr>\n",
       "    <tr>\n",
       "      <th>363194</th>\n",
       "      <td>13AE4DFAC67ACEB3</td>\n",
       "      <td>2020-12-21 08:09:38</td>\n",
       "      <td>login</td>\n",
       "      <td>0.00</td>\n",
       "      <td>2020-12-21</td>\n",
       "      <td>B</td>\n",
       "      <td>recommender_system_test</td>\n",
       "      <td>2020-12-21</td>\n",
       "      <td>EU</td>\n",
       "      <td>iPhone</td>\n",
       "      <td>14 or less</td>\n",
       "    </tr>\n",
       "    <tr>\n",
       "      <th>78279</th>\n",
       "      <td>302242AD2F60FEEF</td>\n",
       "      <td>2020-12-14 22:47:41</td>\n",
       "      <td>product_cart</td>\n",
       "      <td>0.00</td>\n",
       "      <td>2020-12-15</td>\n",
       "      <td>A</td>\n",
       "      <td>interface_eu_test</td>\n",
       "      <td>2020-12-11</td>\n",
       "      <td>EU</td>\n",
       "      <td>Android</td>\n",
       "      <td>14 or less</td>\n",
       "    </tr>\n",
       "    <tr>\n",
       "      <th>61066</th>\n",
       "      <td>68E46B7897232BBF</td>\n",
       "      <td>2020-12-29 07:51:25</td>\n",
       "      <td>purchase</td>\n",
       "      <td>4.99</td>\n",
       "      <td>2020-12-29</td>\n",
       "      <td>A</td>\n",
       "      <td>recommender_system_test</td>\n",
       "      <td>2020-12-20</td>\n",
       "      <td>EU</td>\n",
       "      <td>Mac</td>\n",
       "      <td>14 or less</td>\n",
       "    </tr>\n",
       "    <tr>\n",
       "      <th>97470</th>\n",
       "      <td>1F486FA35F63DF7B</td>\n",
       "      <td>2020-12-20 20:48:11</td>\n",
       "      <td>product_cart</td>\n",
       "      <td>0.00</td>\n",
       "      <td>2020-12-21</td>\n",
       "      <td>A</td>\n",
       "      <td>interface_eu_test</td>\n",
       "      <td>2020-12-12</td>\n",
       "      <td>EU</td>\n",
       "      <td>Mac</td>\n",
       "      <td>14 or less</td>\n",
       "    </tr>\n",
       "    <tr>\n",
       "      <th>422476</th>\n",
       "      <td>BBFD227B06D480C6</td>\n",
       "      <td>2020-12-28 13:46:13</td>\n",
       "      <td>login</td>\n",
       "      <td>0.00</td>\n",
       "      <td>2020-12-29</td>\n",
       "      <td>A</td>\n",
       "      <td>recommender_system_test</td>\n",
       "      <td>2020-12-16</td>\n",
       "      <td>EU</td>\n",
       "      <td>PC</td>\n",
       "      <td>14 or less</td>\n",
       "    </tr>\n",
       "    <tr>\n",
       "      <th>34018</th>\n",
       "      <td>394D28152D64B34E</td>\n",
       "      <td>2020-12-19 20:33:59</td>\n",
       "      <td>purchase</td>\n",
       "      <td>99.99</td>\n",
       "      <td>2020-12-20</td>\n",
       "      <td>A</td>\n",
       "      <td>interface_eu_test</td>\n",
       "      <td>2020-12-19</td>\n",
       "      <td>EU</td>\n",
       "      <td>PC</td>\n",
       "      <td>14 or less</td>\n",
       "    </tr>\n",
       "    <tr>\n",
       "      <th>36204</th>\n",
       "      <td>71A7ECD191FEA54F</td>\n",
       "      <td>2020-12-20 08:37:29</td>\n",
       "      <td>purchase</td>\n",
       "      <td>99.99</td>\n",
       "      <td>2020-12-20</td>\n",
       "      <td>B</td>\n",
       "      <td>interface_eu_test</td>\n",
       "      <td>2020-12-18</td>\n",
       "      <td>EU</td>\n",
       "      <td>iPhone</td>\n",
       "      <td>14 or less</td>\n",
       "    </tr>\n",
       "    <tr>\n",
       "      <th>126319</th>\n",
       "      <td>DAE070E08C9730F2</td>\n",
       "      <td>2020-12-08 07:53:55</td>\n",
       "      <td>product_page</td>\n",
       "      <td>0.00</td>\n",
       "      <td>2020-12-08</td>\n",
       "      <td>B</td>\n",
       "      <td>interface_eu_test</td>\n",
       "      <td>2020-12-07</td>\n",
       "      <td>EU</td>\n",
       "      <td>iPhone</td>\n",
       "      <td>14 or less</td>\n",
       "    </tr>\n",
       "    <tr>\n",
       "      <th>302640</th>\n",
       "      <td>FD44DED2F46348EC</td>\n",
       "      <td>2020-12-15 15:03:36</td>\n",
       "      <td>login</td>\n",
       "      <td>0.00</td>\n",
       "      <td>2020-12-16</td>\n",
       "      <td>A</td>\n",
       "      <td>interface_eu_test</td>\n",
       "      <td>2020-12-14</td>\n",
       "      <td>EU</td>\n",
       "      <td>Android</td>\n",
       "      <td>14 or less</td>\n",
       "    </tr>\n",
       "  </tbody>\n",
       "</table>\n",
       "</div>"
      ],
      "text/plain": [
       "                 user_id            event_dt    event_name  details  \\\n",
       "124375  1BC5B6187B84A890 2020-12-07 01:11:06  product_page     0.00   \n",
       "363194  13AE4DFAC67ACEB3 2020-12-21 08:09:38         login     0.00   \n",
       "78279   302242AD2F60FEEF 2020-12-14 22:47:41  product_cart     0.00   \n",
       "61066   68E46B7897232BBF 2020-12-29 07:51:25      purchase     4.99   \n",
       "97470   1F486FA35F63DF7B 2020-12-20 20:48:11  product_cart     0.00   \n",
       "422476  BBFD227B06D480C6 2020-12-28 13:46:13         login     0.00   \n",
       "34018   394D28152D64B34E 2020-12-19 20:33:59      purchase    99.99   \n",
       "36204   71A7ECD191FEA54F 2020-12-20 08:37:29      purchase    99.99   \n",
       "126319  DAE070E08C9730F2 2020-12-08 07:53:55  product_page     0.00   \n",
       "302640  FD44DED2F46348EC 2020-12-15 15:03:36         login     0.00   \n",
       "\n",
       "             date group                  ab_test first_date region   device  \\\n",
       "124375 2020-12-07     A        interface_eu_test 2020-12-07     EU  Android   \n",
       "363194 2020-12-21     B  recommender_system_test 2020-12-21     EU   iPhone   \n",
       "78279  2020-12-15     A        interface_eu_test 2020-12-11     EU  Android   \n",
       "61066  2020-12-29     A  recommender_system_test 2020-12-20     EU      Mac   \n",
       "97470  2020-12-21     A        interface_eu_test 2020-12-12     EU      Mac   \n",
       "422476 2020-12-29     A  recommender_system_test 2020-12-16     EU       PC   \n",
       "34018  2020-12-20     A        interface_eu_test 2020-12-19     EU       PC   \n",
       "36204  2020-12-20     B        interface_eu_test 2020-12-18     EU   iPhone   \n",
       "126319 2020-12-08     B        interface_eu_test 2020-12-07     EU   iPhone   \n",
       "302640 2020-12-16     A        interface_eu_test 2020-12-14     EU  Android   \n",
       "\n",
       "       days_to_event  \n",
       "124375    14 or less  \n",
       "363194    14 or less  \n",
       "78279     14 or less  \n",
       "61066     14 or less  \n",
       "97470     14 or less  \n",
       "422476    14 or less  \n",
       "34018     14 or less  \n",
       "36204     14 or less  \n",
       "126319    14 or less  \n",
       "302640    14 or less  "
      ]
     },
     "execution_count": 51,
     "metadata": {},
     "output_type": "execute_result"
    }
   ],
   "source": [
    "test['days_to_event']=test.apply(days, axis=1)\n",
    "test.sample(10)"
   ]
  },
  {
   "cell_type": "code",
   "execution_count": 52,
   "id": "120e1f9f",
   "metadata": {},
   "outputs": [
    {
     "data": {
      "text/plain": [
       "3599"
      ]
     },
     "execution_count": 52,
     "metadata": {},
     "output_type": "execute_result"
    }
   ],
   "source": [
    "len(test.query('days_to_event == \"over 14\"'))"
   ]
  },
  {
   "cell_type": "markdown",
   "id": "8768c607",
   "metadata": {},
   "source": [
    "3599 events in our dataset took place in more than 14 days upon sign up."
   ]
  },
  {
   "cell_type": "code",
   "execution_count": 53,
   "id": "4a008572",
   "metadata": {},
   "outputs": [
    {
     "data": {
      "text/plain": [
       "ab_test\n",
       "interface_eu_test          78929\n",
       "recommender_system_test    23909\n",
       "Name: user_id, dtype: int64"
      ]
     },
     "execution_count": 53,
     "metadata": {},
     "output_type": "execute_result"
    }
   ],
   "source": [
    "test.groupby('ab_test')['user_id'].count()"
   ]
  },
  {
   "cell_type": "code",
   "execution_count": 54,
   "id": "afd48638",
   "metadata": {},
   "outputs": [
    {
     "data": {
      "text/plain": [
       "ab_test                  group\n",
       "interface_eu_test        A        7.330894\n",
       "                         B        7.217351\n",
       "recommender_system_test  A        6.780852\n",
       "                         B        5.691810\n",
       "Name: user_id, dtype: float64"
      ]
     },
     "execution_count": 54,
     "metadata": {},
     "output_type": "execute_result"
    }
   ],
   "source": [
    "test.groupby(['ab_test','group'])['user_id'].count()/test.groupby(['ab_test','group'])['user_id'].nunique()"
   ]
  },
  {
   "cell_type": "markdown",
   "id": "9d2ff8d7",
   "metadata": {},
   "source": [
    "Let's check, whether we have the same users entered both tests (*interface_eu_test* and *recommender_system_test*)"
   ]
  },
  {
   "cell_type": "code",
   "execution_count": 55,
   "id": "edd0857a",
   "metadata": {},
   "outputs": [],
   "source": [
    "interface_participants=test.query('ab_test == \"interface_eu_test\"')['user_id'].to_list()"
   ]
  },
  {
   "cell_type": "code",
   "execution_count": 56,
   "id": "e52a37c8",
   "metadata": {},
   "outputs": [],
   "source": [
    "recommender_participants=test.query('ab_test == \"recommender_system_test\"')['user_id'].to_list()"
   ]
  },
  {
   "cell_type": "code",
   "execution_count": 57,
   "id": "2112a975",
   "metadata": {
    "scrolled": true
   },
   "outputs": [
    {
     "data": {
      "text/plain": [
       "887"
      ]
     },
     "execution_count": 57,
     "metadata": {},
     "output_type": "execute_result"
    }
   ],
   "source": [
    "both_tests = set(interface_participants).intersection(recommender_participants)\n",
    "both_tests=list(both_tests)\n",
    "len(both_tests)"
   ]
  },
  {
   "cell_type": "markdown",
   "id": "c3121671",
   "metadata": {},
   "source": [
    "887 users entered both tests."
   ]
  },
  {
   "cell_type": "markdown",
   "id": "41368dfe",
   "metadata": {},
   "source": [
    "### Dividing dataframe"
   ]
  },
  {
   "cell_type": "markdown",
   "id": "29ddfe0d",
   "metadata": {},
   "source": [
    "Now let's divide merged dataframe into two dataframes: interface and recommender."
   ]
  },
  {
   "cell_type": "markdown",
   "id": "66e05ca7",
   "metadata": {},
   "source": [
    "#### Interface"
   ]
  },
  {
   "cell_type": "code",
   "execution_count": 58,
   "id": "c36be36b",
   "metadata": {},
   "outputs": [],
   "source": [
    "interface=test.query('ab_test == \"interface_eu_test\"')"
   ]
  },
  {
   "cell_type": "code",
   "execution_count": 59,
   "id": "43fe3cb3",
   "metadata": {},
   "outputs": [
    {
     "data": {
      "text/plain": [
       "78929"
      ]
     },
     "execution_count": 59,
     "metadata": {},
     "output_type": "execute_result"
    }
   ],
   "source": [
    "len(interface)"
   ]
  },
  {
   "cell_type": "markdown",
   "id": "b1af8b02",
   "metadata": {},
   "source": [
    "#### Recommender"
   ]
  },
  {
   "cell_type": "code",
   "execution_count": 60,
   "id": "8f28d9ba",
   "metadata": {},
   "outputs": [],
   "source": [
    "recommender=test.query('ab_test == \"recommender_system_test\"')"
   ]
  },
  {
   "cell_type": "code",
   "execution_count": 61,
   "id": "94b1621c",
   "metadata": {},
   "outputs": [
    {
     "data": {
      "text/plain": [
       "23909"
      ]
     },
     "execution_count": 61,
     "metadata": {},
     "output_type": "execute_result"
    }
   ],
   "source": [
    "len(recommender)"
   ]
  },
  {
   "cell_type": "markdown",
   "id": "ec0907de",
   "metadata": {},
   "source": [
    "According to technical description, audience of the recommender system test - 15% of the new users from the EU region. Let's check:"
   ]
  },
  {
   "cell_type": "code",
   "execution_count": 62,
   "id": "7ad009ce",
   "metadata": {},
   "outputs": [
    {
     "data": {
      "text/plain": [
       "0.08"
      ]
     },
     "execution_count": 62,
     "metadata": {},
     "output_type": "execute_result"
    }
   ],
   "source": [
    "round(recommender.query('region == \"EU\" and first_date != \"2020-12-22\" and first_date != \"2020-12-23\" ')['user_id'].nunique()/\n",
    "      users.query('region == \"EU\"')['user_id'].nunique(),2)"
   ]
  },
  {
   "cell_type": "markdown",
   "id": "066327fa",
   "metadata": {},
   "source": [
    "We have only 8% of new users form the EU region included in the recommender system test."
   ]
  },
  {
   "cell_type": "markdown",
   "id": "6d56505d",
   "metadata": {},
   "source": [
    "Let's check are there users from other regions:"
   ]
  },
  {
   "cell_type": "code",
   "execution_count": 63,
   "id": "826a8ea8",
   "metadata": {},
   "outputs": [
    {
     "data": {
      "text/plain": [
       "194"
      ]
     },
     "execution_count": 63,
     "metadata": {},
     "output_type": "execute_result"
    }
   ],
   "source": [
    "recommender.query('region != \"EU\"')['user_id'].nunique()"
   ]
  },
  {
   "cell_type": "markdown",
   "id": "512baaec",
   "metadata": {},
   "source": [
    "194 users from regions other than EU entered recommender users test."
   ]
  },
  {
   "cell_type": "code",
   "execution_count": 64,
   "id": "01f2e2de",
   "metadata": {},
   "outputs": [
    {
     "data": {
      "text/html": [
       "<div>\n",
       "<style scoped>\n",
       "    .dataframe tbody tr th:only-of-type {\n",
       "        vertical-align: middle;\n",
       "    }\n",
       "\n",
       "    .dataframe tbody tr th {\n",
       "        vertical-align: top;\n",
       "    }\n",
       "\n",
       "    .dataframe thead th {\n",
       "        text-align: right;\n",
       "    }\n",
       "</style>\n",
       "<table border=\"1\" class=\"dataframe\">\n",
       "  <thead>\n",
       "    <tr style=\"text-align: right;\">\n",
       "      <th></th>\n",
       "      <th>user_id</th>\n",
       "      <th>event_dt</th>\n",
       "      <th>event_name</th>\n",
       "      <th>details</th>\n",
       "      <th>date</th>\n",
       "      <th>group</th>\n",
       "      <th>ab_test</th>\n",
       "      <th>first_date</th>\n",
       "      <th>region</th>\n",
       "      <th>device</th>\n",
       "      <th>days_to_event</th>\n",
       "    </tr>\n",
       "  </thead>\n",
       "  <tbody>\n",
       "    <tr>\n",
       "      <th>71</th>\n",
       "      <td>2B06EB547B7AAD08</td>\n",
       "      <td>2020-12-07 21:36:38</td>\n",
       "      <td>purchase</td>\n",
       "      <td>4.99</td>\n",
       "      <td>2020-12-08</td>\n",
       "      <td>A</td>\n",
       "      <td>recommender_system_test</td>\n",
       "      <td>2020-12-07</td>\n",
       "      <td>EU</td>\n",
       "      <td>PC</td>\n",
       "      <td>14 or less</td>\n",
       "    </tr>\n",
       "    <tr>\n",
       "      <th>94</th>\n",
       "      <td>2F46396B6766CFDB</td>\n",
       "      <td>2020-12-07 13:29:30</td>\n",
       "      <td>purchase</td>\n",
       "      <td>4.99</td>\n",
       "      <td>2020-12-08</td>\n",
       "      <td>A</td>\n",
       "      <td>recommender_system_test</td>\n",
       "      <td>2020-12-07</td>\n",
       "      <td>EU</td>\n",
       "      <td>PC</td>\n",
       "      <td>14 or less</td>\n",
       "    </tr>\n",
       "    <tr>\n",
       "      <th>108</th>\n",
       "      <td>538F954F6B3AECE4</td>\n",
       "      <td>2020-12-07 07:12:05</td>\n",
       "      <td>purchase</td>\n",
       "      <td>4.99</td>\n",
       "      <td>2020-12-07</td>\n",
       "      <td>A</td>\n",
       "      <td>recommender_system_test</td>\n",
       "      <td>2020-12-07</td>\n",
       "      <td>EU</td>\n",
       "      <td>Android</td>\n",
       "      <td>14 or less</td>\n",
       "    </tr>\n",
       "    <tr>\n",
       "      <th>175</th>\n",
       "      <td>CF03E97B314C5632</td>\n",
       "      <td>2020-12-07 13:36:54</td>\n",
       "      <td>purchase</td>\n",
       "      <td>4.99</td>\n",
       "      <td>2020-12-08</td>\n",
       "      <td>B</td>\n",
       "      <td>recommender_system_test</td>\n",
       "      <td>2020-12-07</td>\n",
       "      <td>EU</td>\n",
       "      <td>Android</td>\n",
       "      <td>14 or less</td>\n",
       "    </tr>\n",
       "    <tr>\n",
       "      <th>250</th>\n",
       "      <td>2828E6688DC580C4</td>\n",
       "      <td>2020-12-07 11:43:42</td>\n",
       "      <td>purchase</td>\n",
       "      <td>4.99</td>\n",
       "      <td>2020-12-07</td>\n",
       "      <td>A</td>\n",
       "      <td>recommender_system_test</td>\n",
       "      <td>2020-12-07</td>\n",
       "      <td>EU</td>\n",
       "      <td>Android</td>\n",
       "      <td>14 or less</td>\n",
       "    </tr>\n",
       "    <tr>\n",
       "      <th>...</th>\n",
       "      <td>...</td>\n",
       "      <td>...</td>\n",
       "      <td>...</td>\n",
       "      <td>...</td>\n",
       "      <td>...</td>\n",
       "      <td>...</td>\n",
       "      <td>...</td>\n",
       "      <td>...</td>\n",
       "      <td>...</td>\n",
       "      <td>...</td>\n",
       "      <td>...</td>\n",
       "    </tr>\n",
       "    <tr>\n",
       "      <th>429233</th>\n",
       "      <td>307C06C0E6F09B93</td>\n",
       "      <td>2020-12-29 14:36:46</td>\n",
       "      <td>login</td>\n",
       "      <td>0.00</td>\n",
       "      <td>2020-12-30</td>\n",
       "      <td>A</td>\n",
       "      <td>recommender_system_test</td>\n",
       "      <td>2020-12-20</td>\n",
       "      <td>EU</td>\n",
       "      <td>iPhone</td>\n",
       "      <td>14 or less</td>\n",
       "    </tr>\n",
       "    <tr>\n",
       "      <th>429281</th>\n",
       "      <td>814DF3DA9DD71B8A</td>\n",
       "      <td>2020-12-29 16:17:53</td>\n",
       "      <td>login</td>\n",
       "      <td>0.00</td>\n",
       "      <td>2020-12-30</td>\n",
       "      <td>A</td>\n",
       "      <td>recommender_system_test</td>\n",
       "      <td>2020-12-20</td>\n",
       "      <td>EU</td>\n",
       "      <td>Android</td>\n",
       "      <td>14 or less</td>\n",
       "    </tr>\n",
       "    <tr>\n",
       "      <th>429358</th>\n",
       "      <td>36EDA624DB7B7F90</td>\n",
       "      <td>2020-12-29 20:54:25</td>\n",
       "      <td>login</td>\n",
       "      <td>0.00</td>\n",
       "      <td>2020-12-30</td>\n",
       "      <td>A</td>\n",
       "      <td>recommender_system_test</td>\n",
       "      <td>2020-12-20</td>\n",
       "      <td>EU</td>\n",
       "      <td>PC</td>\n",
       "      <td>14 or less</td>\n",
       "    </tr>\n",
       "    <tr>\n",
       "      <th>429415</th>\n",
       "      <td>96BDD55846D1F7F6</td>\n",
       "      <td>2020-12-29 16:53:42</td>\n",
       "      <td>login</td>\n",
       "      <td>0.00</td>\n",
       "      <td>2020-12-30</td>\n",
       "      <td>A</td>\n",
       "      <td>recommender_system_test</td>\n",
       "      <td>2020-12-20</td>\n",
       "      <td>EU</td>\n",
       "      <td>iPhone</td>\n",
       "      <td>14 or less</td>\n",
       "    </tr>\n",
       "    <tr>\n",
       "      <th>429439</th>\n",
       "      <td>DD4352CDCF8C3D57</td>\n",
       "      <td>2020-12-30 12:42:56</td>\n",
       "      <td>login</td>\n",
       "      <td>0.00</td>\n",
       "      <td>2020-12-31</td>\n",
       "      <td>B</td>\n",
       "      <td>recommender_system_test</td>\n",
       "      <td>2020-12-07</td>\n",
       "      <td>EU</td>\n",
       "      <td>Android</td>\n",
       "      <td>over 14</td>\n",
       "    </tr>\n",
       "  </tbody>\n",
       "</table>\n",
       "<p>5715 rows × 11 columns</p>\n",
       "</div>"
      ],
      "text/plain": [
       "                 user_id            event_dt event_name  details       date  \\\n",
       "71      2B06EB547B7AAD08 2020-12-07 21:36:38   purchase     4.99 2020-12-08   \n",
       "94      2F46396B6766CFDB 2020-12-07 13:29:30   purchase     4.99 2020-12-08   \n",
       "108     538F954F6B3AECE4 2020-12-07 07:12:05   purchase     4.99 2020-12-07   \n",
       "175     CF03E97B314C5632 2020-12-07 13:36:54   purchase     4.99 2020-12-08   \n",
       "250     2828E6688DC580C4 2020-12-07 11:43:42   purchase     4.99 2020-12-07   \n",
       "...                  ...                 ...        ...      ...        ...   \n",
       "429233  307C06C0E6F09B93 2020-12-29 14:36:46      login     0.00 2020-12-30   \n",
       "429281  814DF3DA9DD71B8A 2020-12-29 16:17:53      login     0.00 2020-12-30   \n",
       "429358  36EDA624DB7B7F90 2020-12-29 20:54:25      login     0.00 2020-12-30   \n",
       "429415  96BDD55846D1F7F6 2020-12-29 16:53:42      login     0.00 2020-12-30   \n",
       "429439  DD4352CDCF8C3D57 2020-12-30 12:42:56      login     0.00 2020-12-31   \n",
       "\n",
       "       group                  ab_test first_date region   device days_to_event  \n",
       "71         A  recommender_system_test 2020-12-07     EU       PC    14 or less  \n",
       "94         A  recommender_system_test 2020-12-07     EU       PC    14 or less  \n",
       "108        A  recommender_system_test 2020-12-07     EU  Android    14 or less  \n",
       "175        B  recommender_system_test 2020-12-07     EU  Android    14 or less  \n",
       "250        A  recommender_system_test 2020-12-07     EU  Android    14 or less  \n",
       "...      ...                      ...        ...    ...      ...           ...  \n",
       "429233     A  recommender_system_test 2020-12-20     EU   iPhone    14 or less  \n",
       "429281     A  recommender_system_test 2020-12-20     EU  Android    14 or less  \n",
       "429358     A  recommender_system_test 2020-12-20     EU       PC    14 or less  \n",
       "429415     A  recommender_system_test 2020-12-20     EU   iPhone    14 or less  \n",
       "429439     B  recommender_system_test 2020-12-07     EU  Android       over 14  \n",
       "\n",
       "[5715 rows x 11 columns]"
      ]
     },
     "execution_count": 64,
     "metadata": {},
     "output_type": "execute_result"
    }
   ],
   "source": [
    "recommender[recommender['user_id'].isin(interface['user_id'])]"
   ]
  },
  {
   "cell_type": "markdown",
   "id": "8713aee1",
   "metadata": {},
   "source": [
    "Let's check, whether we have the same users entered both groups (A and B):"
   ]
  },
  {
   "cell_type": "code",
   "execution_count": 65,
   "id": "4153b418",
   "metadata": {},
   "outputs": [],
   "source": [
    "A_participants=recommender.query('group == \"A\"')['user_id'].to_list()"
   ]
  },
  {
   "cell_type": "code",
   "execution_count": 66,
   "id": "20f62bb3",
   "metadata": {},
   "outputs": [],
   "source": [
    "B_participants=recommender.query('group == \"B\"')['user_id'].to_list()"
   ]
  },
  {
   "cell_type": "code",
   "execution_count": 67,
   "id": "24968648",
   "metadata": {},
   "outputs": [
    {
     "data": {
      "text/plain": [
       "0"
      ]
     },
     "execution_count": 67,
     "metadata": {},
     "output_type": "execute_result"
    }
   ],
   "source": [
    "both_groups = set(A_participants).intersection(B_participants)\n",
    "both_groups=list(both_groups)\n",
    "len(both_groups)"
   ]
  },
  {
   "cell_type": "markdown",
   "id": "96c26559",
   "metadata": {},
   "source": [
    "No users entered both groups."
   ]
  },
  {
   "cell_type": "markdown",
   "id": "79849450",
   "metadata": {},
   "source": [
    "### Conclusion on EDA"
   ]
  },
  {
   "cell_type": "markdown",
   "id": "8d4a734e",
   "metadata": {},
   "source": [
    "**Marketing events:**\n",
    "- Two marketing events overlaps with testing period: Christmas&New Year Promo (EU, N.America from 25 December to 3 January) and CIS NewYear Gift Lottery (CIS from 30 December to 7 January). The first event covered EU area (as well as recommender system testing) so it could affect the results of testing (both for group A and B users).\n",
    "\n",
    "**Users and participants of test:**\n",
    "1. In addition to *recommender system test*, the other test was held at the same time: *interface eu test*. Out of 13638 users participated in test, 887 users also participated in the interface system test and affected by two tests which makes impossible to assess results of each test individually for this group of users. **I will take only *recommender system test* dataset and remove from it users affected by *interface test*.**\n",
    "2. According to technical description, the date when they stopped taking up new users is 2020-12-21, however we have users signed up on 22 and 23 December included in the events dataset. **I will remove users signed up on 22 and 23 December.** \n",
    "3. 194 users from regions other than EU entered recommender users test. **I will remove these users from dataset before evaluating results of testing.**\n",
    "4. Expected result is to be observed within 14 days of signing up, so **I will remove events post 14th day after sign-up.**\n",
    "\n",
    "**Other issues identified on EDA stage:**\n",
    "- According to technical description, audience of the test is 15% of the new users from the EU region. We have only 8% of new users form the EU region included in the recommender system test.\n",
    "- Expected number of participants (6000) was not reached: there were 3675 participants in recommender_system_test.\n",
    "- Number of participants in A and B groups in recommender system test is significantly uneven (2747 and 928): number of B group participants is only 1/3 of number of A group participants, which decreases the power of our test.\n"
   ]
  },
  {
   "cell_type": "markdown",
   "id": "05aaf758",
   "metadata": {},
   "source": [
    "## Results of A/B testing"
   ]
  },
  {
   "cell_type": "markdown",
   "id": "0f4aa971",
   "metadata": {},
   "source": [
    "### Correcting dataframe recommender"
   ]
  },
  {
   "cell_type": "markdown",
   "id": "af58c9d7",
   "metadata": {},
   "source": [
    "Let's correct dataframe to bring it in line with technical description of the testing:"
   ]
  },
  {
   "cell_type": "code",
   "execution_count": 68,
   "id": "bc0fb77e",
   "metadata": {},
   "outputs": [
    {
     "data": {
      "text/plain": [
       "23909"
      ]
     },
     "execution_count": 68,
     "metadata": {},
     "output_type": "execute_result"
    }
   ],
   "source": [
    "len(recommender)"
   ]
  },
  {
   "cell_type": "code",
   "execution_count": 69,
   "id": "4739a1a0",
   "metadata": {},
   "outputs": [
    {
     "data": {
      "text/plain": [
       "3675"
      ]
     },
     "execution_count": 69,
     "metadata": {},
     "output_type": "execute_result"
    }
   ],
   "source": [
    "recommender['user_id'].nunique()"
   ]
  },
  {
   "cell_type": "markdown",
   "id": "b9257d54",
   "metadata": {},
   "source": [
    "1. Remove events from 25 December to 31 December (overlap with marketing event):"
   ]
  },
  {
   "cell_type": "code",
   "execution_count": 70,
   "id": "28cc4766",
   "metadata": {},
   "outputs": [],
   "source": [
    "#recommender=recommender.query('date < \"2020-12-25\"')"
   ]
  },
  {
   "cell_type": "markdown",
   "id": "2995c303",
   "metadata": {},
   "source": [
    "2. Remove users entered two tests:"
   ]
  },
  {
   "cell_type": "code",
   "execution_count": 71,
   "id": "7fdef941",
   "metadata": {},
   "outputs": [],
   "source": [
    "recommender=recommender[~recommender['user_id'].isin(both_tests)]"
   ]
  },
  {
   "cell_type": "markdown",
   "id": "f1ca71e7",
   "metadata": {},
   "source": [
    "3. Remove users with sign up date after 21 December:"
   ]
  },
  {
   "cell_type": "code",
   "execution_count": 72,
   "id": "cbdb72df",
   "metadata": {},
   "outputs": [],
   "source": [
    "recommender=recommender.query('first_date != \"2020-12-22\" and first_date != \"2020-12-23\"')"
   ]
  },
  {
   "cell_type": "markdown",
   "id": "ea564e19",
   "metadata": {},
   "source": [
    "4. Remove users from non-EU region entered test:"
   ]
  },
  {
   "cell_type": "code",
   "execution_count": 73,
   "id": "c9efc219",
   "metadata": {},
   "outputs": [],
   "source": [
    "recommender=recommender.query('region == \"EU\"')"
   ]
  },
  {
   "cell_type": "markdown",
   "id": "99a1edc8",
   "metadata": {},
   "source": [
    "5. Remove events post 14th day after sign-up:  "
   ]
  },
  {
   "cell_type": "code",
   "execution_count": 74,
   "id": "204126b3",
   "metadata": {},
   "outputs": [],
   "source": [
    "recommender=recommender.query('days_to_event == \"14 or less\"')"
   ]
  },
  {
   "cell_type": "code",
   "execution_count": 75,
   "id": "260a8bb4",
   "metadata": {},
   "outputs": [
    {
     "data": {
      "text/plain": [
       "16501"
      ]
     },
     "execution_count": 75,
     "metadata": {},
     "output_type": "execute_result"
    }
   ],
   "source": [
    "len(recommender)"
   ]
  },
  {
   "cell_type": "code",
   "execution_count": 76,
   "id": "7a13f88f",
   "metadata": {},
   "outputs": [
    {
     "data": {
      "text/plain": [
       "2594"
      ]
     },
     "execution_count": 76,
     "metadata": {},
     "output_type": "execute_result"
    }
   ],
   "source": [
    "recommender['user_id'].nunique()"
   ]
  },
  {
   "cell_type": "markdown",
   "id": "0cc4a22f",
   "metadata": {},
   "source": [
    "After correction dataframe decreased from 23909 events of 3675 users to 16501 events of 2594 users."
   ]
  },
  {
   "cell_type": "markdown",
   "id": "c58948cb",
   "metadata": {},
   "source": [
    "### Distibuion of events by group, user and day"
   ]
  },
  {
   "cell_type": "markdown",
   "id": "4cb2cbc4",
   "metadata": {},
   "source": [
    "Let's look at:\n",
    "- the number of users by group,\n",
    "- the number of events by group,\n",
    "- the number of events per user in each group,\n",
    "- the number of events per day in each group."
   ]
  },
  {
   "cell_type": "code",
   "execution_count": 77,
   "id": "b536bb1b",
   "metadata": {
    "scrolled": true
   },
   "outputs": [
    {
     "data": {
      "text/plain": [
       "group\n",
       "A    1939\n",
       "B     655\n",
       "Name: user_id, dtype: int64"
      ]
     },
     "execution_count": 77,
     "metadata": {},
     "output_type": "execute_result"
    }
   ],
   "source": [
    "recommender.groupby('group')['user_id'].nunique()"
   ]
  },
  {
   "cell_type": "code",
   "execution_count": 78,
   "id": "8a3b9555",
   "metadata": {},
   "outputs": [
    {
     "data": {
      "text/plain": [
       "group\n",
       "A    12986\n",
       "B     3515\n",
       "Name: user_id, dtype: int64"
      ]
     },
     "execution_count": 78,
     "metadata": {},
     "output_type": "execute_result"
    }
   ],
   "source": [
    "recommender.groupby('group')['user_id'].count()"
   ]
  },
  {
   "cell_type": "code",
   "execution_count": 79,
   "id": "624d5ebd",
   "metadata": {},
   "outputs": [
    {
     "data": {
      "text/plain": [
       "group\n",
       "A    6.697267\n",
       "B    5.366412\n",
       "Name: user_id, dtype: float64"
      ]
     },
     "execution_count": 79,
     "metadata": {},
     "output_type": "execute_result"
    }
   ],
   "source": [
    "recommender.groupby('group')['user_id'].count()/recommender.groupby('group')['user_id'].nunique()"
   ]
  },
  {
   "cell_type": "code",
   "execution_count": 80,
   "id": "e59efbb7",
   "metadata": {
    "scrolled": false
   },
   "outputs": [
    {
     "data": {
      "image/png": "[encoded data removed]"
     },
     "metadata": {},
     "output_type": "display_data"
    }
   ],
   "source": [
    "daily=recommender.groupby(['group','date'])['user_id'].count().reset_index()\n",
    "fig = px.line(daily, x=\"date\", y=\"user_id\", color='group', title='Recommender system test events daily')\n",
    "fig.show('png')"
   ]
  },
  {
   "cell_type": "markdown",
   "id": "858e87e9",
   "metadata": {},
   "source": [
    "We can see that users are distributed unevenly between the groups (with number of users in group B significantly lower than number of users in group A), while number of events per user is not so different.\n",
    "\n",
    "Let's look at distribution of events in interface testing to compare dynamics:"
   ]
  },
  {
   "cell_type": "code",
   "execution_count": 81,
   "id": "1f355666",
   "metadata": {},
   "outputs": [
    {
     "data": {
      "image/png": "[encoded data removed]"
     },
     "metadata": {},
     "output_type": "display_data"
    }
   ],
   "source": [
    "daily=interface.groupby(['group','date'])['user_id'].count().reset_index()\n",
    "fig = px.line(daily, x=\"date\", y=\"user_id\", color='group', title='Interface eu test events daily')\n",
    "fig.update_xaxes(range=list(['2020-12-07','2020-12-24']))\n",
    "fig.show('png')"
   ]
  },
  {
   "cell_type": "markdown",
   "id": "98f8b612",
   "metadata": {},
   "source": [
    "It looks like there was a problem with recruitment of users to the group B of recommender system test."
   ]
  },
  {
   "cell_type": "markdown",
   "id": "e41bff01",
   "metadata": {},
   "source": [
    "### Funnels and conversion rates"
   ]
  },
  {
   "cell_type": "markdown",
   "id": "454ce29e",
   "metadata": {},
   "source": [
    "Let's study conversion at different funnel stages:"
   ]
  },
  {
   "cell_type": "code",
   "execution_count": 82,
   "id": "149ff415",
   "metadata": {
    "scrolled": false
   },
   "outputs": [
    {
     "data": {
      "text/html": [
       "<div>\n",
       "<style scoped>\n",
       "    .dataframe tbody tr th:only-of-type {\n",
       "        vertical-align: middle;\n",
       "    }\n",
       "\n",
       "    .dataframe tbody tr th {\n",
       "        vertical-align: top;\n",
       "    }\n",
       "\n",
       "    .dataframe thead th {\n",
       "        text-align: right;\n",
       "    }\n",
       "</style>\n",
       "<table border=\"1\" class=\"dataframe\">\n",
       "  <thead>\n",
       "    <tr style=\"text-align: right;\">\n",
       "      <th></th>\n",
       "      <th>event_name</th>\n",
       "      <th>user_id</th>\n",
       "    </tr>\n",
       "  </thead>\n",
       "  <tbody>\n",
       "    <tr>\n",
       "      <th>0</th>\n",
       "      <td>login</td>\n",
       "      <td>1939</td>\n",
       "    </tr>\n",
       "    <tr>\n",
       "      <th>1</th>\n",
       "      <td>product_cart</td>\n",
       "      <td>589</td>\n",
       "    </tr>\n",
       "    <tr>\n",
       "      <th>2</th>\n",
       "      <td>product_page</td>\n",
       "      <td>1265</td>\n",
       "    </tr>\n",
       "    <tr>\n",
       "      <th>3</th>\n",
       "      <td>purchase</td>\n",
       "      <td>613</td>\n",
       "    </tr>\n",
       "  </tbody>\n",
       "</table>\n",
       "</div>"
      ],
      "text/plain": [
       "     event_name  user_id\n",
       "0         login     1939\n",
       "1  product_cart      589\n",
       "2  product_page     1265\n",
       "3      purchase      613"
      ]
     },
     "execution_count": 82,
     "metadata": {},
     "output_type": "execute_result"
    }
   ],
   "source": [
    "group_a=(recommender.query('group == \"A\"').groupby('event_name')['user_id'].nunique()\n",
    "         .reset_index())\n",
    "group_a"
   ]
  },
  {
   "cell_type": "markdown",
   "id": "1606bb4b",
   "metadata": {},
   "source": [
    "The number of users at purchase stage is greater than number of users at product_cart stage. Probably users can make a purchase without visiting product cart."
   ]
  },
  {
   "cell_type": "code",
   "execution_count": 83,
   "id": "bf568a99",
   "metadata": {},
   "outputs": [
    {
     "data": {
      "text/html": [
       "<div>\n",
       "<style scoped>\n",
       "    .dataframe tbody tr th:only-of-type {\n",
       "        vertical-align: middle;\n",
       "    }\n",
       "\n",
       "    .dataframe tbody tr th {\n",
       "        vertical-align: top;\n",
       "    }\n",
       "\n",
       "    .dataframe thead th {\n",
       "        text-align: right;\n",
       "    }\n",
       "</style>\n",
       "<table border=\"1\" class=\"dataframe\">\n",
       "  <thead>\n",
       "    <tr style=\"text-align: right;\">\n",
       "      <th></th>\n",
       "      <th>event_name</th>\n",
       "      <th>user_id</th>\n",
       "      <th>%_by_stage</th>\n",
       "    </tr>\n",
       "  </thead>\n",
       "  <tbody>\n",
       "    <tr>\n",
       "      <th>0</th>\n",
       "      <td>login</td>\n",
       "      <td>1939</td>\n",
       "      <td>NaN</td>\n",
       "    </tr>\n",
       "    <tr>\n",
       "      <th>2</th>\n",
       "      <td>product_page</td>\n",
       "      <td>1265</td>\n",
       "      <td>65.0</td>\n",
       "    </tr>\n",
       "    <tr>\n",
       "      <th>1</th>\n",
       "      <td>product_cart</td>\n",
       "      <td>589</td>\n",
       "      <td>47.0</td>\n",
       "    </tr>\n",
       "    <tr>\n",
       "      <th>3</th>\n",
       "      <td>purchase</td>\n",
       "      <td>613</td>\n",
       "      <td>104.0</td>\n",
       "    </tr>\n",
       "  </tbody>\n",
       "</table>\n",
       "</div>"
      ],
      "text/plain": [
       "     event_name  user_id  %_by_stage\n",
       "0         login     1939         NaN\n",
       "2  product_page     1265        65.0\n",
       "1  product_cart      589        47.0\n",
       "3      purchase      613       104.0"
      ]
     },
     "execution_count": 83,
     "metadata": {},
     "output_type": "execute_result"
    }
   ],
   "source": [
    "group_a=group_a.reindex([0,2,1,3])\n",
    "group_a['%_by_stage']=100+round(group_a['user_id'].pct_change()*100)\n",
    "group_a"
   ]
  },
  {
   "cell_type": "code",
   "execution_count": 84,
   "id": "e25806b2",
   "metadata": {},
   "outputs": [
    {
     "data": {
      "text/html": [
       "<div>\n",
       "<style scoped>\n",
       "    .dataframe tbody tr th:only-of-type {\n",
       "        vertical-align: middle;\n",
       "    }\n",
       "\n",
       "    .dataframe tbody tr th {\n",
       "        vertical-align: top;\n",
       "    }\n",
       "\n",
       "    .dataframe thead th {\n",
       "        text-align: right;\n",
       "    }\n",
       "</style>\n",
       "<table border=\"1\" class=\"dataframe\">\n",
       "  <thead>\n",
       "    <tr style=\"text-align: right;\">\n",
       "      <th></th>\n",
       "      <th>event_name</th>\n",
       "      <th>user_id</th>\n",
       "    </tr>\n",
       "  </thead>\n",
       "  <tbody>\n",
       "    <tr>\n",
       "      <th>0</th>\n",
       "      <td>login</td>\n",
       "      <td>654</td>\n",
       "    </tr>\n",
       "    <tr>\n",
       "      <th>1</th>\n",
       "      <td>product_cart</td>\n",
       "      <td>184</td>\n",
       "    </tr>\n",
       "    <tr>\n",
       "      <th>2</th>\n",
       "      <td>product_page</td>\n",
       "      <td>367</td>\n",
       "    </tr>\n",
       "    <tr>\n",
       "      <th>3</th>\n",
       "      <td>purchase</td>\n",
       "      <td>191</td>\n",
       "    </tr>\n",
       "  </tbody>\n",
       "</table>\n",
       "</div>"
      ],
      "text/plain": [
       "     event_name  user_id\n",
       "0         login      654\n",
       "1  product_cart      184\n",
       "2  product_page      367\n",
       "3      purchase      191"
      ]
     },
     "execution_count": 84,
     "metadata": {},
     "output_type": "execute_result"
    }
   ],
   "source": [
    "group_b=(recommender.query('group == \"B\"').groupby('event_name')['user_id'].nunique()\n",
    "         .reset_index())\n",
    "group_b"
   ]
  },
  {
   "cell_type": "code",
   "execution_count": 85,
   "id": "4e1f259b",
   "metadata": {},
   "outputs": [
    {
     "data": {
      "text/html": [
       "<div>\n",
       "<style scoped>\n",
       "    .dataframe tbody tr th:only-of-type {\n",
       "        vertical-align: middle;\n",
       "    }\n",
       "\n",
       "    .dataframe tbody tr th {\n",
       "        vertical-align: top;\n",
       "    }\n",
       "\n",
       "    .dataframe thead th {\n",
       "        text-align: right;\n",
       "    }\n",
       "</style>\n",
       "<table border=\"1\" class=\"dataframe\">\n",
       "  <thead>\n",
       "    <tr style=\"text-align: right;\">\n",
       "      <th></th>\n",
       "      <th>event_name</th>\n",
       "      <th>user_id</th>\n",
       "      <th>%_by_stage</th>\n",
       "    </tr>\n",
       "  </thead>\n",
       "  <tbody>\n",
       "    <tr>\n",
       "      <th>0</th>\n",
       "      <td>login</td>\n",
       "      <td>654</td>\n",
       "      <td>NaN</td>\n",
       "    </tr>\n",
       "    <tr>\n",
       "      <th>2</th>\n",
       "      <td>product_page</td>\n",
       "      <td>367</td>\n",
       "      <td>56.0</td>\n",
       "    </tr>\n",
       "    <tr>\n",
       "      <th>1</th>\n",
       "      <td>product_cart</td>\n",
       "      <td>184</td>\n",
       "      <td>50.0</td>\n",
       "    </tr>\n",
       "    <tr>\n",
       "      <th>3</th>\n",
       "      <td>purchase</td>\n",
       "      <td>191</td>\n",
       "      <td>104.0</td>\n",
       "    </tr>\n",
       "  </tbody>\n",
       "</table>\n",
       "</div>"
      ],
      "text/plain": [
       "     event_name  user_id  %_by_stage\n",
       "0         login      654         NaN\n",
       "2  product_page      367        56.0\n",
       "1  product_cart      184        50.0\n",
       "3      purchase      191       104.0"
      ]
     },
     "execution_count": 85,
     "metadata": {},
     "output_type": "execute_result"
    }
   ],
   "source": [
    "group_b=group_b.reindex([0,2,1,3])\n",
    "group_b['%_by_stage']=100+round(group_b['user_id'].pct_change()*100)\n",
    "group_b"
   ]
  },
  {
   "cell_type": "code",
   "execution_count": 86,
   "id": "8851771d",
   "metadata": {},
   "outputs": [
    {
     "data": {
      "image/png": "[encoded data removed]"
     },
     "metadata": {},
     "output_type": "display_data"
    }
   ],
   "source": [
    "fig = go.Figure(go.Funnel(\n",
    "    y = group_a['event_name'],\n",
    "    x = group_a['user_id'],\n",
    "    textposition = \"inside\",\n",
    "    textinfo = \"value+percent initial\"))   \n",
    "\n",
    "fig.update_layout(title='Group A funnel')\n",
    "fig.show('png')"
   ]
  },
  {
   "cell_type": "code",
   "execution_count": 87,
   "id": "9e6bf463",
   "metadata": {
    "scrolled": false
   },
   "outputs": [
    {
     "data": {
      "image/png": "[encoded data removed]"
     },
     "metadata": {},
     "output_type": "display_data"
    }
   ],
   "source": [
    "fig = go.Figure(go.Funnel(\n",
    "    y = group_b['event_name'],\n",
    "    x = group_b['user_id'],\n",
    "    textposition = \"inside\",\n",
    "    textinfo = \"value+percent initial\"))   \n",
    "\n",
    "fig.update_layout(title='Group B funnel')\n",
    "fig.show('png')"
   ]
  },
  {
   "cell_type": "markdown",
   "id": "091a6c5a",
   "metadata": {},
   "source": [
    "- Conversion from login to product page for group B is lower than for group A (56% vs 65%).\n",
    "- Conversion from login to product cart for group B is lower than for group A (28% vs 30%).\n",
    "- Conversion from login to purchase for group B is lower than for group A (29% vs 32%)\n",
    "\n",
    "Expected result at least a 10% increase at each of the stage of the funnel product_page → product_card → purchase is not achieved."
   ]
  },
  {
   "cell_type": "markdown",
   "id": "57d517a0",
   "metadata": {},
   "source": [
    "### Evaluation of test results statistical significance"
   ]
  },
  {
   "cell_type": "markdown",
   "id": "ae2657ba",
   "metadata": {},
   "source": [
    "Let's use the z-criterion to check the statistical difference between the proportions.\n",
    "\n",
    "The null hypothesis (H0) for the test is that the proportions are the same.\n",
    "The alternate hypothesis (H1) is that the proportions are not the same."
   ]
  },
  {
   "cell_type": "code",
   "execution_count": 88,
   "id": "c7bd0583",
   "metadata": {},
   "outputs": [],
   "source": [
    "def check_hypothesis(successes_A,  trials_A, successes_B, trials_B, alpha):\n",
    "    p1 = successes_A/trials_A\n",
    "    p2 = successes_B/trials_B\n",
    "    p_combined = (successes_A + successes_B) / (trials_A + trials_B)\n",
    "  \n",
    "    difference = p1 - p2\n",
    "   \n",
    "    z_value = difference / math.sqrt(p_combined * (1 - p_combined) * (1/trials_A + 1/trials_B))\n",
    " \n",
    "    distr = stats.norm(0, 1) \n",
    "\n",
    "    p_value = (1 - distr.cdf(abs(z_value))) * 2\n",
    "\n",
    "    print('p-value: ', p_value)\n",
    "    \n",
    "    if p_value<alpha:\n",
    "        print('Reject H0')\n",
    "    else:\n",
    "        print('Fail to Reject H0')"
   ]
  },
  {
   "cell_type": "markdown",
   "id": "6d85eca9",
   "metadata": {},
   "source": [
    "I set alpha at 0.05.\n",
    "\n",
    "But as I am going to perform several statistical tests simultaneously on a single data set, I will make the Bonferroni correction in order to reduce the chances of obtaining false-positive results (type I errors) and divide the critical alpha by the number of comparisons being made (alpha = 0.05/3)."
   ]
  },
  {
   "cell_type": "code",
   "execution_count": 89,
   "id": "9b352043",
   "metadata": {},
   "outputs": [
    {
     "name": "stdout",
     "output_type": "stream",
     "text": [
      "Evaluating hypothesis for login to product cart conversion:\n",
      "p-value:  0.2784249853300258\n",
      "Fail to Reject H0\n"
     ]
    }
   ],
   "source": [
    "print('Evaluating hypothesis for login to product cart conversion:')\n",
    "check_hypothesis(group_a.loc[1,'user_id'], group_a.loc[0,'user_id'], \n",
    "                 group_b.loc[1,'user_id'], group_b.loc[0,'user_id'], \n",
    "                 0.05/3)"
   ]
  },
  {
   "cell_type": "code",
   "execution_count": 90,
   "id": "a0e13185",
   "metadata": {},
   "outputs": [
    {
     "name": "stdout",
     "output_type": "stream",
     "text": [
      "Evaluating hypothesis for login to product page conversion:\n",
      "p-value:  2.9463911899618722e-05\n",
      "Reject H0\n"
     ]
    }
   ],
   "source": [
    "print('Evaluating hypothesis for login to product page conversion:')\n",
    "check_hypothesis(group_a.loc[2,'user_id'], group_a.loc[0,'user_id'], \n",
    "                 group_b.loc[2,'user_id'], group_b.loc[0,'user_id'], \n",
    "                 0.05/3)"
   ]
  },
  {
   "cell_type": "code",
   "execution_count": 91,
   "id": "db3ad50f",
   "metadata": {},
   "outputs": [
    {
     "name": "stdout",
     "output_type": "stream",
     "text": [
      "Evaluating hypothesis for login to purchase conversion:\n",
      "p-value:  0.24933015751802245\n",
      "Fail to Reject H0\n"
     ]
    }
   ],
   "source": [
    "print('Evaluating hypothesis for login to purchase conversion:')\n",
    "check_hypothesis(group_a.loc[3,'user_id'], group_a.loc[0,'user_id'], \n",
    "                 group_b.loc[3,'user_id'], group_b.loc[0,'user_id'], \n",
    "                 0.05/3)"
   ]
  },
  {
   "cell_type": "markdown",
   "id": "bb017d2b",
   "metadata": {},
   "source": [
    "We can conclude, that:\n",
    "- for login to product page conversion for groups A and B we reject the Null hypothesis, that the proportions are statistically the same.\n",
    "- for login to product cart and login to purchase conversion for groups A and B we can't reject the Null hypothesis, that the proportions are statistically the same."
   ]
  },
  {
   "cell_type": "markdown",
   "id": "e199b574",
   "metadata": {},
   "source": [
    "## Possible details in the data that should be taked into account before starting the A/B test"
   ]
  },
  {
   "cell_type": "markdown",
   "id": "8f7914c9",
   "metadata": {},
   "source": [
    "Proper design of the test:\n",
    "- Select the variable for testing\n",
    "- Formulate the hypothesis to test \n",
    "- Determine sample size \n",
    "- Determine the duration of test\n",
    "- Split control and test groups equally and randomly\n",
    "\n",
    "Timing to conduct testing:\n",
    "- Full business cycle\n",
    "- Minimize seasonal / day of week influence\n",
    "- No overlaps with other tests for the same participants"
   ]
  },
  {
   "cell_type": "markdown",
   "id": "ac4f503b",
   "metadata": {},
   "source": [
    "## Conclusion"
   ]
  },
  {
   "cell_type": "markdown",
   "id": "7f67e04e",
   "metadata": {},
   "source": [
    "Based on evaluation of results of A/B testing Group B didn't achieved expected result of test:\n",
    "\n",
    "*Within 14 days of signing up, users will show better conversion into product page views (the product_page event), product card views (product_card) and purchases (purchase). At each of the stage of the funnel product_page → product_card → purchase, there will be at least a 10% increase.*\n",
    "\n",
    "However, we can not conclude on the results of this test since we identified a number of issues in data provided for evaluation, which undermines the results of testing, including:\n",
    "\n",
    "- The testing period (7 December to 1 January) is most likely affected by seasonality (Christmas and New Year holidays). Users behavior could be different in other periods.\n",
    "- According to technical description, audience of the test is 15% of the new users from the EU region. Share of new users form the EU region included in the recommender system test was lower (8%).\n",
    "- Expected number of participants (6000) was not reached (actual number of participants was 3675). \n",
    "- Number of participants in A and B groups in recommender system test is significantly uneven: number of B group participants is approximately 1/3 of number of A group participants. A technical issue with recruitment of users to the group B could cause this difference."
   ]
  }
 ],
 "metadata": {
  "kernelspec": {
   "display_name": "Python 3 (ipykernel)",
   "language": "python",
   "name": "python3"
  },
  "language_info": {
   "codemirror_mode": {
    "name": "ipython",
    "version": 3
   },
   "file_extension": ".py",
   "mimetype": "text/x-python",
   "name": "python",
   "nbconvert_exporter": "python",
   "pygments_lexer": "ipython3",
   "version": "3.9.12"
  },
  "toc": {
   "base_numbering": 1,
   "nav_menu": {},
   "number_sections": true,
   "sideBar": true,
   "skip_h1_title": true,
   "title_cell": "Table of Contents",
   "title_sidebar": "Contents",
   "toc_cell": false,
   "toc_position": {
    "height": "calc(100% - 180px)",
    "left": "10px",
    "top": "150px",
    "width": "227px"
   },
   "toc_section_display": true,
   "toc_window_display": true
  }
 },
 "nbformat": 4,
 "nbformat_minor": 5
}
